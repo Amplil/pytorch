{
  "nbformat": 4,
  "nbformat_minor": 0,
  "metadata": {
    "accelerator": "TPU",
    "colab": {
      "name": "7-5_IMDb_Dataset_DataLoader.ipynb",
      "provenance": [],
      "collapsed_sections": [],
      "toc_visible": true,
      "include_colab_link": true
    },
    "kernelspec": {
      "display_name": "Python 3",
      "language": "python",
      "name": "python3"
    },
    "language_info": {
      "codemirror_mode": {
        "name": "ipython",
        "version": 3
      },
      "file_extension": ".py",
      "mimetype": "text/x-python",
      "name": "python",
      "nbconvert_exporter": "python",
      "pygments_lexer": "ipython3",
      "version": "3.6.5"
    }
  },
  "cells": [
    {
      "cell_type": "markdown",
      "metadata": {
        "id": "view-in-github",
        "colab_type": "text"
      },
      "source": [
        "<a href=\"https://colab.research.google.com/github/Amplil/pytorch/blob/master/7_5_IMDb_Dataset_DataLoader.ipynb\" target=\"_parent\"><img src=\"https://colab.research.google.com/assets/colab-badge.svg\" alt=\"Open In Colab\"/></a>"
      ]
    },
    {
      "cell_type": "markdown",
      "metadata": {
        "id": "ItQOcAkxk6U6"
      },
      "source": [
        "# 7.5 IMDb（Internet Movie Database）からDataLoaderを作成\n",
        "\n",
        "- 本ファイルでは、IMDb（Internet Movie Database）のデータを使用して、感情分析（0：ネガティブ、1：ポジティブ）を2値クラス分類するためのDatasetとDataLoaderを作成します。\n"
      ]
    },
    {
      "cell_type": "markdown",
      "metadata": {
        "id": "9Qbl8ZVNk6VB"
      },
      "source": [
        "※　本章のファイルはすべてUbuntuでの動作を前提としています。Windowsなど文字コードが違う環境での動作にはご注意下さい。"
      ]
    },
    {
      "cell_type": "markdown",
      "metadata": {
        "id": "GDWbo8_uk6VB"
      },
      "source": [
        "# 7.5 学習目標\n",
        "\n",
        "1.\tテキスト形式のファイルデータからtsvファイルを作成し、torchtext用のDataLoaderを作成できるようになる"
      ]
    },
    {
      "cell_type": "markdown",
      "metadata": {
        "id": "aElbf02jk6VC"
      },
      "source": [
        "# 事前準備\n",
        "書籍の指示に従い、本章で使用するデータを用意します\n"
      ]
    },
    {
      "cell_type": "markdown",
      "metadata": {
        "id": "Mf5BZU6nk6VC"
      },
      "source": [
        "# 1. IMDbデータセットをtsv形式に変換\n",
        "\n",
        "Datasetをダウンロードします\n",
        "\n",
        "※torchtextで標準でIMDbが使える関数があるのですが、今回は今後データセットが用意されていない場合でも対応できるように0から作ります。\n",
        "\n",
        "http://ai.stanford.edu/~amaas/data/sentiment/aclImdb_v1.tar.gz\n",
        "\n",
        "5万件のデータ（train,testともに2.5万件）です。データidとrating（1-10）でファイル名が決まっています。\n",
        "\n",
        "rateは10の方が良いです。4以下がnegative、7以上がpositiveにクラス分けされています。\n",
        "\n"
      ]
    },
    {
      "cell_type": "code",
      "metadata": {
        "colab": {
          "base_uri": "https://localhost:8080/"
        },
        "id": "DoylT8Ca8fwo",
        "outputId": "84687093-ac06-4212-90da-5027f2b4650d"
      },
      "source": [
        "from google.colab import drive\n",
        "drive.mount('/content/drive')"
      ],
      "execution_count": 1,
      "outputs": [
        {
          "output_type": "stream",
          "text": [
            "Mounted at /content/drive\n"
          ],
          "name": "stdout"
        }
      ]
    },
    {
      "cell_type": "code",
      "metadata": {
        "colab": {
          "base_uri": "https://localhost:8080/"
        },
        "id": "YZoUHUEOlTCs",
        "outputId": "f56982d4-4aea-4ffb-916e-2162b8d7434b"
      },
      "source": [
        "cd \"/content/drive/My Drive/Colab Notebooks/pytorch_advanced/7_nlp_sentiment_transformer\""
      ],
      "execution_count": 2,
      "outputs": [
        {
          "output_type": "stream",
          "text": [
            "/content/drive/My Drive/Colab Notebooks/pytorch_advanced/7_nlp_sentiment_transformer\n"
          ],
          "name": "stdout"
        }
      ]
    },
    {
      "cell_type": "code",
      "metadata": {
        "colab": {
          "base_uri": "https://localhost:8080/"
        },
        "id": "ApgVDNWV8ajM",
        "outputId": "def730b9-c02e-4f31-c623-469e9f47be6b"
      },
      "source": [
        "ls \"/content/drive/My Drive/Colab Notebooks/pytorch_advanced/data/aclImdb/train\""
      ],
      "execution_count": 3,
      "outputs": [
        {
          "output_type": "stream",
          "text": [
            "\u001b[0m\u001b[01;34mneg\u001b[0m/  \u001b[01;34mpos\u001b[0m/  \u001b[01;34munsup\u001b[0m/\n"
          ],
          "name": "stdout"
        }
      ]
    },
    {
      "cell_type": "code",
      "metadata": {
        "id": "doBHQOBlk6VC"
      },
      "source": [
        "# tsv形式のファイルにします\n",
        "import glob\n",
        "import os\n",
        "import io\n",
        "import string\n",
        "\n",
        "\n",
        "# 訓練データのtsvファイルを作成します\n",
        "\n",
        "f = open('./data/IMDb_train.tsv', 'w')\n",
        "\n",
        "path = './../data/aclImdb/train/pos/'\n",
        "for fname in glob.glob(os.path.join(path, '*.txt')):\n",
        "    with io.open(fname, 'r', encoding=\"utf-8\") as ff:\n",
        "        text = ff.readline()\n",
        "\n",
        "        # タブがあれば消しておきます\n",
        "        text = text.replace('\\t', \" \")\n",
        "\n",
        "        text = text+'\\t'+'1'+'\\t'+'\\n'\n",
        "        f.write(text)\n",
        "\n",
        "path = './../data/aclImdb/train/neg/'\n",
        "for fname in glob.glob(os.path.join(path, '*.txt')):\n",
        "    with io.open(fname, 'r', encoding=\"utf-8\") as ff:\n",
        "        text = ff.readline()\n",
        "\n",
        "        # タブがあれば消しておきます\n",
        "        text = text.replace('\\t', \" \")\n",
        "\n",
        "        text = text+'\\t'+'0'+'\\t'+'\\n'\n",
        "        f.write(text)\n",
        "\n",
        "f.close()\n"
      ],
      "execution_count": 4,
      "outputs": []
    },
    {
      "cell_type": "code",
      "metadata": {
        "id": "vveNo7pck6VD"
      },
      "source": [
        "# テストデータの作成\n",
        "\n",
        "f = open('./data/IMDb_test.tsv', 'w')\n",
        "\n",
        "path = './../data/aclImdb/test/pos/'\n",
        "for fname in glob.glob(os.path.join(path, '*.txt')):\n",
        "    with io.open(fname, 'r', encoding=\"utf-8\") as ff:\n",
        "        text = ff.readline()\n",
        "\n",
        "        # タブがあれば消しておきます\n",
        "        text = text.replace('\\t', \" \")\n",
        "\n",
        "        text = text+'\\t'+'1'+'\\t'+'\\n'\n",
        "        f.write(text)\n",
        "\n",
        "\n",
        "path = './../data/aclImdb/test/neg/'\n",
        "\n",
        "for fname in glob.glob(os.path.join(path, '*.txt')):\n",
        "    with io.open(fname, 'r', encoding=\"utf-8\") as ff:\n",
        "        text = ff.readline()\n",
        "\n",
        "        # タブがあれば消しておきます\n",
        "        text = text.replace('\\t', \" \")\n",
        "\n",
        "        text = text+'\\t'+'0'+'\\t'+'\\n'\n",
        "        f.write(text)\n",
        "\n",
        "f.close()\n"
      ],
      "execution_count": 5,
      "outputs": []
    },
    {
      "cell_type": "code",
      "metadata": {
        "colab": {
          "base_uri": "https://localhost:8080/",
          "height": 103
        },
        "id": "NdMotL4RXMtz",
        "outputId": "06db232e-c9ea-4a36-9a03-6b1a3e8eca2b"
      },
      "source": [
        "text"
      ],
      "execution_count": 7,
      "outputs": [
        {
          "output_type": "execute_result",
          "data": {
            "application/vnd.google.colaboratory.intrinsic+json": {
              "type": "string"
            },
            "text/plain": [
              "'It\\'s not just that the movie is lame. It\\'s more than that. This movie is just unnecessary. Do we need another Western? How about a western with afro-Americans in the titles roles? Sound stupid, implausible and a lame attempt at modernizing the genre? It is. Incredibly lame and simple minded. It\\'s like that lame Baz Luhrman film \"Romeo and Juliet\" where he set it in modern times to attract young folks and create some hype with his revamping of a classic tale. Well, Baz Luhrman failed miserably and so does this mess. The story is actually not bad however the whole idea of removing the racism out of a racist genre by casting an all afro-American cast is racist in itself. It\\'s also puerile and simple minded (like Baz Luhrman-man he\\'s a bad director). Hey (I hear you say) this was directed by Mario Van Peebles! He\\'s also IN the film! How can it be racist? It\\'s not. I said the idea of casting all afro-Americans instead of Caucasians was. The film isn\\'t racist, it\\'s just pointless, stupid and very very boring.\\t0\\t\\n'"
            ]
          },
          "metadata": {
            "tags": []
          },
          "execution_count": 7
        }
      ]
    },
    {
      "cell_type": "markdown",
      "metadata": {
        "id": "TRCpPu1Kk6VD"
      },
      "source": [
        "# 2. 前処理と単語分割の関数を定義"
      ]
    },
    {
      "cell_type": "code",
      "metadata": {
        "colab": {
          "base_uri": "https://localhost:8080/"
        },
        "id": "ED7P4RFlk6VD",
        "outputId": "a3339ff0-4aa5-4322-a3bd-e0e50330078a"
      },
      "source": [
        "import string\n",
        "import re\n",
        "\n",
        "# 以下の記号はスペースに置き換えます（カンマ、ピリオドを除く）。\n",
        "# punctuationとは日本語で句点という意味です\n",
        "print(\"区切り文字：\", string.punctuation)\n",
        "# !\"#$%&'()*+,-./:;<=>?@[\\]^_`{|}~\n",
        "\n",
        "# 前処理\n",
        "\n",
        "\n",
        "def preprocessing_text(text):\n",
        "    # 改行コードを消去\n",
        "    text = re.sub('<br />', '', text)\n",
        "\n",
        "    # カンマ、ピリオド以外の記号をスペースに置換\n",
        "    for p in string.punctuation:\n",
        "        if (p == \".\") or (p == \",\"):\n",
        "            continue\n",
        "        else:\n",
        "            text = text.replace(p, \" \")\n",
        "\n",
        "    # ピリオドなどの前後にはスペースを入れておく\n",
        "    text = text.replace(\".\", \" . \")\n",
        "    text = text.replace(\",\", \" , \")\n",
        "    return text\n",
        "\n",
        "# 分かち書き（今回はデータが英語で、簡易的にスペースで区切る）\n",
        "\n",
        "\n",
        "def tokenizer_punctuation(text):\n",
        "    return text.strip().split()\n",
        "\n",
        "\n",
        "# 前処理と分かち書きをまとめた関数を定義\n",
        "def tokenizer_with_preprocessing(text):\n",
        "    text = preprocessing_text(text)\n",
        "    ret = tokenizer_punctuation(text)\n",
        "    return ret\n",
        "\n",
        "\n",
        "# 動作を確認します\n",
        "print(tokenizer_with_preprocessing('I like cats.'))\n"
      ],
      "execution_count": 8,
      "outputs": [
        {
          "output_type": "stream",
          "text": [
            "区切り文字： !\"#$%&'()*+,-./:;<=>?@[\\]^_`{|}~\n",
            "['I', 'like', 'cats', '.']\n"
          ],
          "name": "stdout"
        }
      ]
    },
    {
      "cell_type": "markdown",
      "metadata": {
        "id": "emHX3Ry2k6VE"
      },
      "source": [
        "# DataLoaderの作成"
      ]
    },
    {
      "cell_type": "code",
      "metadata": {
        "id": "MSF_C7iwk6VE"
      },
      "source": [
        "# データを読み込んだときに、読み込んだ内容に対して行う処理を定義します\n",
        "import torchtext\n",
        "\n",
        "\n",
        "# 文章とラベルの両方に用意します\n",
        "max_length = 256\n",
        "TEXT = torchtext.legacy.data.Field(sequential=True, tokenize=tokenizer_with_preprocessing, use_vocab=True,\n",
        "                            lower=True, include_lengths=True, batch_first=True, fix_length=max_length, init_token=\"<cls>\", eos_token=\"<eos>\")\n",
        "LABEL = torchtext.legacy.data.Field(sequential=False, use_vocab=False)\n",
        "\n",
        "# 引数の意味は次の通り\n",
        "# init_token：全部の文章で、文頭に入れておく単語\n",
        "# eos_token：全部の文章で、文末に入れておく単語\n"
      ],
      "execution_count": 9,
      "outputs": []
    },
    {
      "cell_type": "code",
      "metadata": {
        "colab": {
          "base_uri": "https://localhost:8080/"
        },
        "id": "PBuQLwsDk6VF",
        "outputId": "41ffbcb4-b504-4fbe-d831-ea549761225c"
      },
      "source": [
        "# フォルダ「data」から各tsvファイルを読み込みます\n",
        "train_val_ds, test_ds = torchtext.legacy.data.TabularDataset.splits(\n",
        "    path='./data/', train='IMDb_train.tsv',\n",
        "    test='IMDb_test.tsv', format='tsv',\n",
        "    fields=[('Text', TEXT), ('Label', LABEL)])\n",
        "\n",
        "# 動作確認\n",
        "print('訓練および検証のデータ数', len(train_val_ds))\n",
        "print('1つ目の訓練および検証のデータ', vars(train_val_ds[0]))\n"
      ],
      "execution_count": 15,
      "outputs": [
        {
          "output_type": "stream",
          "text": [
            "訓練および検証のデータ数 25116\n",
            "1つ目の訓練および検証のデータ {'Text': ['wes', 'craven', 'has', 'been', 'created', 'a', 'most', 'successful', 'killer', 'thriller', 'movies', 'of', 'all', 'time', '.', 'after', 'watching', 'he', 's', 'movies', ',', 'you', 'will', 'find', 'your', 'new', 'fears', '.', 'people', 'don', 't', 'know', ',', 'which', 'wes', 'craven', 's', 'thriller', 'movie', 'is', 'the', 'best', ',', 'because', 'they', 'all', 'different', '.', 'in', 'this', 'movie', ',', 'lisa', 'is', 'terrorize', 'by', 'fellow', 'traveler', '.', 'he', 'coercible', 'her', 'to', 'kill', 'and', 'if', 'she', 'don', 't', 'do', 'this', ',', 'jack', 'will', 'kill', 'her', 'father', '.', 'lisa', 'is', 'in', 'the', 'huge', 'mess', ',', 'because', 'whatever', 'she', 'choose', ',', 'she', 'will', 'kill', '.', 'acting', 'was', 'unreal', '.', 'rachel', 'mcadams', 'and', 'cillian', 'murphy', 'acted', 'unbelievable', 'good', '.', 'the', 'emotions', 'was', 'in', 'right', 'choose', '.', 'idea', 'and', 'script', 'of', 'this', 'movie', 'is', 'great', 'too', '.', '.', '.', 'sometimes', 'it', 'reminds', 'a', 'scream', ',', 'but', 'he', 'definitely', 'better', ',', 'than', 'both', 'screams', 'sequels', 'together', '.', 'and', 'what', 'can', 'i', 'say', 'this', 'is', 'the', 'best', 'killer', 'thriller', 'movie', 'in', '21', 's', 'century', 'yet', '.', '.', '.'], 'Label': '1'}\n"
          ],
          "name": "stdout"
        }
      ]
    },
    {
      "cell_type": "code",
      "metadata": {
        "colab": {
          "base_uri": "https://localhost:8080/"
        },
        "id": "2uS5bA829d8R",
        "outputId": "870cbae8-eb31-400d-82c1-735f79fd32d4"
      },
      "source": [
        "train_val_ds"
      ],
      "execution_count": 16,
      "outputs": [
        {
          "output_type": "execute_result",
          "data": {
            "text/plain": [
              "<torchtext.legacy.data.dataset.TabularDataset at 0x7f1439da9bd0>"
            ]
          },
          "metadata": {
            "tags": []
          },
          "execution_count": 16
        }
      ]
    },
    {
      "cell_type": "code",
      "metadata": {
        "colab": {
          "base_uri": "https://localhost:8080/"
        },
        "id": "mVil7q8L9gMa",
        "outputId": "13edbe72-33df-45ae-f1f2-52570c56e96f"
      },
      "source": [
        "test_ds"
      ],
      "execution_count": 17,
      "outputs": [
        {
          "output_type": "execute_result",
          "data": {
            "text/plain": [
              "<torchtext.legacy.data.dataset.TabularDataset at 0x7f1439da9c10>"
            ]
          },
          "metadata": {
            "tags": []
          },
          "execution_count": 17
        }
      ]
    },
    {
      "cell_type": "code",
      "metadata": {
        "colab": {
          "base_uri": "https://localhost:8080/"
        },
        "id": "_ZTVdt0Itaqg",
        "outputId": "7b79cd1a-ffda-44a0-b837-643a7fb1e8b7"
      },
      "source": [
        "ls"
      ],
      "execution_count": 22,
      "outputs": [
        {
          "output_type": "stream",
          "text": [
            "7-1_Tokenizer.ipynb                7-7_transformer_training_inference.ipynb\n",
            "7-2_torchtext.ipynb                \u001b[0m\u001b[01;34mdata\u001b[0m/\n",
            "7-4_vectorize.ipynb                make_folders_and_data_downloads7.ipynb\n",
            "7-5_IMDb_Dataset_DataLoader.ipynb  \u001b[01;34mutils\u001b[0m/\n",
            "7-6_Transformer.ipynb\n"
          ],
          "name": "stdout"
        }
      ]
    },
    {
      "cell_type": "code",
      "metadata": {
        "colab": {
          "base_uri": "https://localhost:8080/"
        },
        "id": "MSxoEvF4skR5",
        "outputId": "b6ed5b15-84e5-4931-e0d2-2f007257a7f8"
      },
      "source": [
        "torchtext.legacy.data.TabularDataset.splits(\n",
        "    path='./data/', train='IMDb_train.tsv',\n",
        "    test='IMDb_test.tsv', format='tsv',\n",
        "    fields=[('Text', TEXT), ('Label', LABEL)])"
      ],
      "execution_count": 12,
      "outputs": [
        {
          "output_type": "execute_result",
          "data": {
            "text/plain": [
              "(<torchtext.legacy.data.dataset.TabularDataset at 0x7f146d4b1c50>,\n",
              " <torchtext.legacy.data.dataset.TabularDataset at 0x7f14bec98710>)"
            ]
          },
          "metadata": {
            "tags": []
          },
          "execution_count": 12
        }
      ]
    },
    {
      "cell_type": "code",
      "metadata": {
        "colab": {
          "base_uri": "https://localhost:8080/"
        },
        "id": "-cp2L-VauCzW",
        "outputId": "b275ebe6-3c47-4af1-948c-22917ab7873a"
      },
      "source": [
        "len(train_val_ds)"
      ],
      "execution_count": 19,
      "outputs": [
        {
          "output_type": "execute_result",
          "data": {
            "text/plain": [
              "25116"
            ]
          },
          "metadata": {
            "tags": []
          },
          "execution_count": 19
        }
      ]
    },
    {
      "cell_type": "code",
      "metadata": {
        "colab": {
          "base_uri": "https://localhost:8080/"
        },
        "id": "wOmZYcvRX62K",
        "outputId": "0d84c3e0-590e-4e5a-e1b6-e792a315af0f"
      },
      "source": [
        "ls ./data"
      ],
      "execution_count": 14,
      "outputs": [
        {
          "output_type": "stream",
          "text": [
            "IMDb_test.tsv  IMDb_train.tsv  text_test.tsv  text_train.tsv  text_val.tsv\n"
          ],
          "name": "stdout"
        }
      ]
    },
    {
      "cell_type": "code",
      "metadata": {
        "colab": {
          "base_uri": "https://localhost:8080/"
        },
        "id": "KHtjooIVk6VF",
        "outputId": "87495c4f-e8e1-4f76-8874-a9be741725cc"
      },
      "source": [
        "import random\n",
        "# torchtext.legacy.data.Datasetのsplit関数で訓練データとvalidationデータを分ける\n",
        "\n",
        "train_ds, val_ds = train_val_ds.split(\n",
        "    split_ratio=0.8, random_state=random.seed(1234))\n",
        "\n",
        "# 動作確認\n",
        "print('訓練データの数', len(train_ds))\n",
        "print('検証データの数', len(val_ds))\n",
        "print('1つ目の訓練データ', vars(train_ds[0]))\n"
      ],
      "execution_count": 20,
      "outputs": [
        {
          "output_type": "stream",
          "text": [
            "訓練データの数 20093\n",
            "検証データの数 5023\n",
            "1つ目の訓練データ {'Text': ['you', 'can', 't', 'really', 'go', 'far', 'when', 'the', 'initial', 'story', 'isn', 't', 'all', 'that', 'great', '.', 'the', 'premise', 'of', 'cyborg', 's', 'needing', 'blood', 'is', 'just', 'dopey', '.', 'the', 'script', 'is', 'blasé', '.', 'the', 'actors', 'don', 't', 'have', 'much', 'to', 'work', 'with', '.', 'the', 'sets', 'were', 'staged', 'out', 'in', 'the', 'desert', 'to', 'cut', 'costs', '.', 'it', 's', 'a', 'trademark', 'that', 'if', 'the', 'background', 'is', 'the', 'desert', ',', 'then', 'the', 'movie', 'has', 'no', 'budget', '.', 'lack', 'of', 'budget', 'is', 'okay', ',', 'if', 'there', 's', 'a', 'story', '.', 'solarbabies', 'and', 'blood', 'of', 'champions', 'are', 'examples', 'of', 'decent', 'work', 'from', 'no', '.', 'but', 'this', 'movie', 'looks', 'as', 'if', 'they', 'had', 'to', 'scrape', 'their', 'change', 'together', 'just', 'to', 'buy', 'the', 'cameraman', 'a', 'sandwich', '.', 'again', ',', 'forgivable', 'if', 'only', 'the', 'story', 'didn', 't', 'just', 'plain', 'suck', '.', 'finally', ',', 'this', 'movie', 'commits', 'the', 'biggest', 'crime', 'of', 'all', 'it', 'doesn', 't', 'finish', 'it', 'simply', 'ends', 'as', 'if', 'it', 's', 'a', 'commercial', 'break', 'away', 'from', 'the', 'rest', 'of', 'the', 'movie', '.', 'but', 'the', 'rest', 'never', 'comes', '.', 'just', 'odd', '.', 'just', 'bad', '.'], 'Label': '0'}\n"
          ],
          "name": "stdout"
        }
      ]
    },
    {
      "cell_type": "markdown",
      "metadata": {
        "id": "hoXUWRZNk6VF"
      },
      "source": [
        "# ボキャブラリーを作成"
      ]
    },
    {
      "cell_type": "code",
      "metadata": {
        "id": "tKBwWEIqk6VG",
        "colab": {
          "base_uri": "https://localhost:8080/"
        },
        "outputId": "a5ec7b4c-67d5-4857-8b5f-a44c6afa474f"
      },
      "source": [
        "# torchtextで単語ベクトルとして英語学習済みモデルを読み込みます\n",
        "\n",
        "from torchtext.vocab import Vectors\n",
        "\n",
        "english_fasttext_vectors = Vectors(name='./../data/wiki-news-300d-1M.vec')\n",
        "\n",
        "\n",
        "# 単語ベクトルの中身を確認します\n",
        "print(\"1単語を表現する次元数：\", english_fasttext_vectors.dim)\n",
        "print(\"単語数：\", len(english_fasttext_vectors.itos))\n"
      ],
      "execution_count": 25,
      "outputs": [
        {
          "output_type": "stream",
          "text": [
            "  0%|          | 0/999994 [00:00<?, ?it/s]Skipping token b'999994' with 1-dimensional vector [b'300']; likely a header\n",
            "100%|█████████▉| 999447/999994 [01:55<00:00, 8392.48it/s]"
          ],
          "name": "stderr"
        },
        {
          "output_type": "stream",
          "text": [
            "1単語を表現する次元数： 300\n",
            "単語数： 999994\n"
          ],
          "name": "stdout"
        }
      ]
    },
    {
      "cell_type": "code",
      "metadata": {
        "id": "RKCCR9Rak6VG",
        "colab": {
          "base_uri": "https://localhost:8080/"
        },
        "outputId": "cb869563-ff1e-45cc-81b7-1c6916d24cfb"
      },
      "source": [
        "# ベクトル化したバージョンのボキャブラリーを作成します\n",
        "TEXT.build_vocab(train_ds, vectors=english_fasttext_vectors, min_freq=10)\n",
        "\n",
        "# ボキャブラリーのベクトルを確認します\n",
        "print(TEXT.vocab.vectors.shape)  # 17916個の単語が300次元のベクトルで表現されている\n",
        "TEXT.vocab.vectors\n",
        "\n",
        "# ボキャブラリーの単語の順番を確認します\n",
        "TEXT.vocab.stoi\n"
      ],
      "execution_count": 26,
      "outputs": [
        {
          "output_type": "stream",
          "text": [
            "torch.Size([17892, 300])\n"
          ],
          "name": "stdout"
        },
        {
          "output_type": "execute_result",
          "data": {
            "text/plain": [
              "defaultdict(<bound method Vocab._default_unk_index of <torchtext.vocab.Vocab object at 0x7f140663cb10>>,\n",
              "            {'<unk>': 0,\n",
              "             '<pad>': 1,\n",
              "             '<cls>': 2,\n",
              "             '<eos>': 3,\n",
              "             'the': 4,\n",
              "             '.': 5,\n",
              "             ',': 6,\n",
              "             'and': 7,\n",
              "             'a': 8,\n",
              "             'of': 9,\n",
              "             'to': 10,\n",
              "             'is': 11,\n",
              "             'it': 12,\n",
              "             'in': 13,\n",
              "             'i': 14,\n",
              "             'this': 15,\n",
              "             'that': 16,\n",
              "             's': 17,\n",
              "             'was': 18,\n",
              "             'as': 19,\n",
              "             'for': 20,\n",
              "             'movie': 21,\n",
              "             'with': 22,\n",
              "             'but': 23,\n",
              "             'film': 24,\n",
              "             't': 25,\n",
              "             'you': 26,\n",
              "             'on': 27,\n",
              "             'not': 28,\n",
              "             'he': 29,\n",
              "             'are': 30,\n",
              "             'his': 31,\n",
              "             'have': 32,\n",
              "             'one': 33,\n",
              "             'be': 34,\n",
              "             'all': 35,\n",
              "             'at': 36,\n",
              "             'they': 37,\n",
              "             'by': 38,\n",
              "             'an': 39,\n",
              "             'who': 40,\n",
              "             'so': 41,\n",
              "             'from': 42,\n",
              "             'like': 43,\n",
              "             'there': 44,\n",
              "             'her': 45,\n",
              "             'or': 46,\n",
              "             'just': 47,\n",
              "             'about': 48,\n",
              "             'out': 49,\n",
              "             'has': 50,\n",
              "             'if': 51,\n",
              "             'what': 52,\n",
              "             'some': 53,\n",
              "             'good': 54,\n",
              "             'can': 55,\n",
              "             'more': 56,\n",
              "             'she': 57,\n",
              "             'when': 58,\n",
              "             'very': 59,\n",
              "             'up': 60,\n",
              "             'no': 61,\n",
              "             'time': 62,\n",
              "             'even': 63,\n",
              "             'my': 64,\n",
              "             'would': 65,\n",
              "             'which': 66,\n",
              "             'story': 67,\n",
              "             'only': 68,\n",
              "             'really': 69,\n",
              "             'see': 70,\n",
              "             'had': 71,\n",
              "             'their': 72,\n",
              "             'were': 73,\n",
              "             'me': 74,\n",
              "             'we': 75,\n",
              "             'well': 76,\n",
              "             'than': 77,\n",
              "             'much': 78,\n",
              "             'get': 79,\n",
              "             'been': 80,\n",
              "             'people': 81,\n",
              "             'bad': 82,\n",
              "             'other': 83,\n",
              "             'will': 84,\n",
              "             'also': 85,\n",
              "             'do': 86,\n",
              "             'great': 87,\n",
              "             'because': 88,\n",
              "             'into': 89,\n",
              "             'first': 90,\n",
              "             'how': 91,\n",
              "             'him': 92,\n",
              "             'most': 93,\n",
              "             'don': 94,\n",
              "             'made': 95,\n",
              "             'its': 96,\n",
              "             'then': 97,\n",
              "             'way': 98,\n",
              "             'could': 99,\n",
              "             'make': 100,\n",
              "             'them': 101,\n",
              "             'too': 102,\n",
              "             'movies': 103,\n",
              "             'after': 104,\n",
              "             'any': 105,\n",
              "             'think': 106,\n",
              "             'characters': 107,\n",
              "             'character': 108,\n",
              "             'watch': 109,\n",
              "             'films': 110,\n",
              "             'two': 111,\n",
              "             'seen': 112,\n",
              "             'many': 113,\n",
              "             'being': 114,\n",
              "             'life': 115,\n",
              "             'plot': 116,\n",
              "             'never': 117,\n",
              "             'acting': 118,\n",
              "             'love': 119,\n",
              "             'little': 120,\n",
              "             'where': 121,\n",
              "             'best': 122,\n",
              "             'over': 123,\n",
              "             'did': 124,\n",
              "             'show': 125,\n",
              "             'know': 126,\n",
              "             'off': 127,\n",
              "             'ever': 128,\n",
              "             'man': 129,\n",
              "             'does': 130,\n",
              "             'better': 131,\n",
              "             'here': 132,\n",
              "             'your': 133,\n",
              "             'end': 134,\n",
              "             'still': 135,\n",
              "             'say': 136,\n",
              "             'scene': 137,\n",
              "             'these': 138,\n",
              "             'while': 139,\n",
              "             'why': 140,\n",
              "             'scenes': 141,\n",
              "             've': 142,\n",
              "             'go': 143,\n",
              "             'such': 144,\n",
              "             'm': 145,\n",
              "             'something': 146,\n",
              "             'should': 147,\n",
              "             'through': 148,\n",
              "             'back': 149,\n",
              "             'those': 150,\n",
              "             'real': 151,\n",
              "             'now': 152,\n",
              "             'though': 153,\n",
              "             'watching': 154,\n",
              "             're': 155,\n",
              "             'doesn': 156,\n",
              "             'thing': 157,\n",
              "             'old': 158,\n",
              "             'actors': 159,\n",
              "             'years': 160,\n",
              "             'director': 161,\n",
              "             'work': 162,\n",
              "             'didn': 163,\n",
              "             'before': 164,\n",
              "             'actually': 165,\n",
              "             'new': 166,\n",
              "             '10': 167,\n",
              "             'another': 168,\n",
              "             'funny': 169,\n",
              "             'nothing': 170,\n",
              "             'makes': 171,\n",
              "             'look': 172,\n",
              "             'find': 173,\n",
              "             'going': 174,\n",
              "             'few': 175,\n",
              "             'same': 176,\n",
              "             'lot': 177,\n",
              "             'part': 178,\n",
              "             'again': 179,\n",
              "             'every': 180,\n",
              "             'cast': 181,\n",
              "             'world': 182,\n",
              "             'us': 183,\n",
              "             'quite': 184,\n",
              "             'things': 185,\n",
              "             'down': 186,\n",
              "             'want': 187,\n",
              "             'pretty': 188,\n",
              "             'horror': 189,\n",
              "             'young': 190,\n",
              "             'seems': 191,\n",
              "             'around': 192,\n",
              "             'got': 193,\n",
              "             'however': 194,\n",
              "             'fact': 195,\n",
              "             'enough': 196,\n",
              "             'big': 197,\n",
              "             'take': 198,\n",
              "             'thought': 199,\n",
              "             'long': 200,\n",
              "             'original': 201,\n",
              "             'series': 202,\n",
              "             'may': 203,\n",
              "             'between': 204,\n",
              "             'action': 205,\n",
              "             'both': 206,\n",
              "             'right': 207,\n",
              "             'give': 208,\n",
              "             'without': 209,\n",
              "             'own': 210,\n",
              "             'point': 211,\n",
              "             'gets': 212,\n",
              "             'isn': 213,\n",
              "             'must': 214,\n",
              "             'comedy': 215,\n",
              "             'always': 216,\n",
              "             'times': 217,\n",
              "             'come': 218,\n",
              "             'role': 219,\n",
              "             'saw': 220,\n",
              "             'almost': 221,\n",
              "             'family': 222,\n",
              "             'interesting': 223,\n",
              "             'whole': 224,\n",
              "             'least': 225,\n",
              "             'done': 226,\n",
              "             'music': 227,\n",
              "             'bit': 228,\n",
              "             'script': 229,\n",
              "             'd': 230,\n",
              "             'guy': 231,\n",
              "             'feel': 232,\n",
              "             'far': 233,\n",
              "             'anything': 234,\n",
              "             'making': 235,\n",
              "             'll': 236,\n",
              "             'last': 237,\n",
              "             'minutes': 238,\n",
              "             'since': 239,\n",
              "             'might': 240,\n",
              "             '2': 241,\n",
              "             'performance': 242,\n",
              "             'tv': 243,\n",
              "             'girl': 244,\n",
              "             'am': 245,\n",
              "             'probably': 246,\n",
              "             'woman': 247,\n",
              "             'away': 248,\n",
              "             'day': 249,\n",
              "             'worst': 250,\n",
              "             'rather': 251,\n",
              "             'kind': 252,\n",
              "             'yet': 253,\n",
              "             'hard': 254,\n",
              "             'sure': 255,\n",
              "             'fun': 256,\n",
              "             'anyone': 257,\n",
              "             'found': 258,\n",
              "             'each': 259,\n",
              "             'played': 260,\n",
              "             'although': 261,\n",
              "             'especially': 262,\n",
              "             'looking': 263,\n",
              "             'having': 264,\n",
              "             'comes': 265,\n",
              "             'set': 266,\n",
              "             'screen': 267,\n",
              "             'believe': 268,\n",
              "             'our': 269,\n",
              "             'course': 270,\n",
              "             'looks': 271,\n",
              "             'trying': 272,\n",
              "             'place': 273,\n",
              "             'goes': 274,\n",
              "             'actor': 275,\n",
              "             'put': 276,\n",
              "             'book': 277,\n",
              "             'someone': 278,\n",
              "             'different': 279,\n",
              "             'money': 280,\n",
              "             'everything': 281,\n",
              "             'ending': 282,\n",
              "             'year': 283,\n",
              "             'sense': 284,\n",
              "             'once': 285,\n",
              "             'reason': 286,\n",
              "             'dvd': 287,\n",
              "             'true': 288,\n",
              "             'worth': 289,\n",
              "             'wasn': 290,\n",
              "             'job': 291,\n",
              "             'three': 292,\n",
              "             'maybe': 293,\n",
              "             'main': 294,\n",
              "             'shows': 295,\n",
              "             'let': 296,\n",
              "             'together': 297,\n",
              "             'said': 298,\n",
              "             'watched': 299,\n",
              "             'later': 300,\n",
              "             '1': 301,\n",
              "             'john': 302,\n",
              "             'american': 303,\n",
              "             'effects': 304,\n",
              "             'plays': 305,\n",
              "             'everyone': 306,\n",
              "             'beautiful': 307,\n",
              "             'himself': 308,\n",
              "             'house': 309,\n",
              "             'takes': 310,\n",
              "             'seem': 311,\n",
              "             'night': 312,\n",
              "             'instead': 313,\n",
              "             'audience': 314,\n",
              "             'version': 315,\n",
              "             'play': 316,\n",
              "             'during': 317,\n",
              "             'high': 318,\n",
              "             'half': 319,\n",
              "             'wife': 320,\n",
              "             'father': 321,\n",
              "             'special': 322,\n",
              "             'left': 323,\n",
              "             'seeing': 324,\n",
              "             'war': 325,\n",
              "             'excellent': 326,\n",
              "             'shot': 327,\n",
              "             'black': 328,\n",
              "             'less': 329,\n",
              "             'nice': 330,\n",
              "             'star': 331,\n",
              "             'else': 332,\n",
              "             'idea': 333,\n",
              "             'mind': 334,\n",
              "             'simply': 335,\n",
              "             'second': 336,\n",
              "             'completely': 337,\n",
              "             'death': 338,\n",
              "             'read': 339,\n",
              "             'fan': 340,\n",
              "             'men': 341,\n",
              "             'used': 342,\n",
              "             'either': 343,\n",
              "             'poor': 344,\n",
              "             '3': 345,\n",
              "             'dead': 346,\n",
              "             'short': 347,\n",
              "             'top': 348,\n",
              "             'women': 349,\n",
              "             'help': 350,\n",
              "             'budget': 351,\n",
              "             'hollywood': 352,\n",
              "             'given': 353,\n",
              "             'kids': 354,\n",
              "             'home': 355,\n",
              "             'rest': 356,\n",
              "             'enjoy': 357,\n",
              "             'wrong': 358,\n",
              "             'line': 359,\n",
              "             'boring': 360,\n",
              "             'classic': 361,\n",
              "             'low': 362,\n",
              "             'need': 363,\n",
              "             'performances': 364,\n",
              "             'camera': 365,\n",
              "             'until': 366,\n",
              "             'stupid': 367,\n",
              "             'try': 368,\n",
              "             'friends': 369,\n",
              "             'full': 370,\n",
              "             'production': 371,\n",
              "             'use': 372,\n",
              "             'along': 373,\n",
              "             'truly': 374,\n",
              "             'tell': 375,\n",
              "             'video': 376,\n",
              "             'stars': 377,\n",
              "             'next': 378,\n",
              "             'mean': 379,\n",
              "             'awful': 380,\n",
              "             'sex': 381,\n",
              "             'face': 382,\n",
              "             'wonderful': 383,\n",
              "             'perhaps': 384,\n",
              "             'start': 385,\n",
              "             'episode': 386,\n",
              "             'couple': 387,\n",
              "             'came': 388,\n",
              "             'terrible': 389,\n",
              "             'recommend': 390,\n",
              "             'school': 391,\n",
              "             'moments': 392,\n",
              "             'understand': 393,\n",
              "             'written': 394,\n",
              "             'remember': 395,\n",
              "             'won': 396,\n",
              "             'small': 397,\n",
              "             'playing': 398,\n",
              "             'keep': 399,\n",
              "             'getting': 400,\n",
              "             'human': 401,\n",
              "             'often': 402,\n",
              "             'definitely': 403,\n",
              "             'name': 404,\n",
              "             'itself': 405,\n",
              "             'doing': 406,\n",
              "             'head': 407,\n",
              "             'perfect': 408,\n",
              "             'style': 409,\n",
              "             'others': 410,\n",
              "             'person': 411,\n",
              "             'live': 412,\n",
              "             'gives': 413,\n",
              "             'early': 414,\n",
              "             'case': 415,\n",
              "             'finally': 416,\n",
              "             'lost': 417,\n",
              "             'boy': 418,\n",
              "             'felt': 419,\n",
              "             'dialogue': 420,\n",
              "             'lines': 421,\n",
              "             'mother': 422,\n",
              "             'become': 423,\n",
              "             'piece': 424,\n",
              "             'children': 425,\n",
              "             'supposed': 426,\n",
              "             'couldn': 427,\n",
              "             'liked': 428,\n",
              "             'cinema': 429,\n",
              "             'picture': 430,\n",
              "             'worse': 431,\n",
              "             'waste': 432,\n",
              "             'yes': 433,\n",
              "             'title': 434,\n",
              "             'against': 435,\n",
              "             'called': 436,\n",
              "             'mr': 437,\n",
              "             'entire': 438,\n",
              "             'oh': 439,\n",
              "             'sort': 440,\n",
              "             'white': 441,\n",
              "             'evil': 442,\n",
              "             'killer': 443,\n",
              "             'friend': 444,\n",
              "             'certainly': 445,\n",
              "             'absolutely': 446,\n",
              "             'based': 447,\n",
              "             'drama': 448,\n",
              "             'hope': 449,\n",
              "             'loved': 450,\n",
              "             'went': 451,\n",
              "             'entertaining': 452,\n",
              "             'problem': 453,\n",
              "             'overall': 454,\n",
              "             'dark': 455,\n",
              "             'beginning': 456,\n",
              "             'already': 457,\n",
              "             'fans': 458,\n",
              "             'care': 459,\n",
              "             'several': 460,\n",
              "             'example': 461,\n",
              "             'lives': 462,\n",
              "             '4': 463,\n",
              "             '5': 464,\n",
              "             'despite': 465,\n",
              "             'direction': 466,\n",
              "             'unfortunately': 467,\n",
              "             'becomes': 468,\n",
              "             'final': 469,\n",
              "             'son': 470,\n",
              "             'turn': 471,\n",
              "             'laugh': 472,\n",
              "             'wanted': 473,\n",
              "             'under': 474,\n",
              "             'throughout': 475,\n",
              "             'seemed': 476,\n",
              "             'history': 477,\n",
              "             'child': 478,\n",
              "             'art': 479,\n",
              "             'guys': 480,\n",
              "             'fine': 481,\n",
              "             '\\x96': 482,\n",
              "             'guess': 483,\n",
              "             'quality': 484,\n",
              "             'totally': 485,\n",
              "             'lead': 486,\n",
              "             'writing': 487,\n",
              "             'flick': 488,\n",
              "             'viewer': 489,\n",
              "             'humor': 490,\n",
              "             'days': 491,\n",
              "             'michael': 492,\n",
              "             'tries': 493,\n",
              "             'wants': 494,\n",
              "             'b': 495,\n",
              "             'heart': 496,\n",
              "             'sound': 497,\n",
              "             'amazing': 498,\n",
              "             'close': 499,\n",
              "             'works': 500,\n",
              "             'today': 501,\n",
              "             'kill': 502,\n",
              "             'behind': 503,\n",
              "             'genre': 504,\n",
              "             'side': 505,\n",
              "             'past': 506,\n",
              "             'able': 507,\n",
              "             'act': 508,\n",
              "             'car': 509,\n",
              "             'hand': 510,\n",
              "             'enjoyed': 511,\n",
              "             'favorite': 512,\n",
              "             'game': 513,\n",
              "             'blood': 514,\n",
              "             'sometimes': 515,\n",
              "             'starts': 516,\n",
              "             'turns': 517,\n",
              "             'run': 518,\n",
              "             'god': 519,\n",
              "             'actress': 520,\n",
              "             'late': 521,\n",
              "             'eyes': 522,\n",
              "             'girls': 523,\n",
              "             'directed': 524,\n",
              "             'horrible': 525,\n",
              "             'town': 526,\n",
              "             'parts': 527,\n",
              "             'hour': 528,\n",
              "             'kid': 529,\n",
              "             'stories': 530,\n",
              "             'thinking': 531,\n",
              "             'soon': 532,\n",
              "             'stuff': 533,\n",
              "             'decent': 534,\n",
              "             'city': 535,\n",
              "             'expect': 536,\n",
              "             'gave': 537,\n",
              "             'self': 538,\n",
              "             'themselves': 539,\n",
              "             'etc': 540,\n",
              "             'voice': 541,\n",
              "             'slow': 542,\n",
              "             'writer': 543,\n",
              "             'obviously': 544,\n",
              "             'feeling': 545,\n",
              "             'brilliant': 546,\n",
              "             'myself': 547,\n",
              "             'moment': 548,\n",
              "             'type': 549,\n",
              "             'highly': 550,\n",
              "             'except': 551,\n",
              "             'matter': 552,\n",
              "             'fight': 553,\n",
              "             'daughter': 554,\n",
              "             'anyway': 555,\n",
              "             'killed': 556,\n",
              "             'age': 557,\n",
              "             'says': 558,\n",
              "             'gore': 559,\n",
              "             'hit': 560,\n",
              "             'hero': 561,\n",
              "             'leave': 562,\n",
              "             'roles': 563,\n",
              "             'wouldn': 564,\n",
              "             'happens': 565,\n",
              "             'lack': 566,\n",
              "             'stop': 567,\n",
              "             'took': 568,\n",
              "             'alone': 569,\n",
              "             'violence': 570,\n",
              "             'heard': 571,\n",
              "             'brother': 572,\n",
              "             'known': 573,\n",
              "             'strong': 574,\n",
              "             'extremely': 575,\n",
              "             'living': 576,\n",
              "             'particularly': 577,\n",
              "             'police': 578,\n",
              "             'cannot': 579,\n",
              "             'happened': 580,\n",
              "             'obvious': 581,\n",
              "             'group': 582,\n",
              "             'james': 583,\n",
              "             'chance': 584,\n",
              "             'involved': 585,\n",
              "             'coming': 586,\n",
              "             'crap': 587,\n",
              "             'murder': 588,\n",
              "             'ago': 589,\n",
              "             'husband': 590,\n",
              "             'david': 591,\n",
              "             'ok': 592,\n",
              "             'simple': 593,\n",
              "             'complete': 594,\n",
              "             'score': 595,\n",
              "             'experience': 596,\n",
              "             'told': 597,\n",
              "             'annoying': 598,\n",
              "             'including': 599,\n",
              "             'attempt': 600,\n",
              "             'interest': 601,\n",
              "             'save': 602,\n",
              "             'none': 603,\n",
              "             'wonder': 604,\n",
              "             'cut': 605,\n",
              "             'happen': 606,\n",
              "             'hell': 607,\n",
              "             'career': 608,\n",
              "             'ends': 609,\n",
              "             'scary': 610,\n",
              "             'song': 611,\n",
              "             'exactly': 612,\n",
              "             'musical': 613,\n",
              "             'please': 614,\n",
              "             'jokes': 615,\n",
              "             'king': 616,\n",
              "             'number': 617,\n",
              "             'opening': 618,\n",
              "             'seriously': 619,\n",
              "             'looked': 620,\n",
              "             'possible': 621,\n",
              "             'level': 622,\n",
              "             'opinion': 623,\n",
              "             'ones': 624,\n",
              "             'somewhat': 625,\n",
              "             'running': 626,\n",
              "             'serious': 627,\n",
              "             'usually': 628,\n",
              "             'reality': 629,\n",
              "             'sad': 630,\n",
              "             'light': 631,\n",
              "             'whose': 632,\n",
              "             'shown': 633,\n",
              "             'yourself': 634,\n",
              "             'english': 635,\n",
              "             'power': 636,\n",
              "             'hours': 637,\n",
              "             'usual': 638,\n",
              "             'taken': 639,\n",
              "             'wish': 640,\n",
              "             'across': 641,\n",
              "             'hilarious': 642,\n",
              "             'relationship': 643,\n",
              "             'body': 644,\n",
              "             'cinematography': 645,\n",
              "             'single': 646,\n",
              "             'ridiculous': 647,\n",
              "             'talking': 648,\n",
              "             'cool': 649,\n",
              "             'mostly': 650,\n",
              "             'episodes': 651,\n",
              "             'finds': 652,\n",
              "             'middle': 653,\n",
              "             'saying': 654,\n",
              "             'call': 655,\n",
              "             'released': 656,\n",
              "             'change': 657,\n",
              "             'novel': 658,\n",
              "             'taking': 659,\n",
              "             'talent': 660,\n",
              "             'strange': 661,\n",
              "             'view': 662,\n",
              "             'apparently': 663,\n",
              "             'huge': 664,\n",
              "             'documentary': 665,\n",
              "             'started': 666,\n",
              "             'major': 667,\n",
              "             'earth': 668,\n",
              "             'shots': 669,\n",
              "             'disappointed': 670,\n",
              "             'five': 671,\n",
              "             'room': 672,\n",
              "             'female': 673,\n",
              "             'four': 674,\n",
              "             'jack': 675,\n",
              "             'happy': 676,\n",
              "             'modern': 677,\n",
              "             'robert': 678,\n",
              "             'rating': 679,\n",
              "             'important': 680,\n",
              "             'comic': 681,\n",
              "             'order': 682,\n",
              "             'turned': 683,\n",
              "             'word': 684,\n",
              "             'lady': 685,\n",
              "             'country': 686,\n",
              "             'due': 687,\n",
              "             'easily': 688,\n",
              "             'sequence': 689,\n",
              "             'thriller': 690,\n",
              "             'events': 691,\n",
              "             'problems': 692,\n",
              "             'attention': 693,\n",
              "             'future': 694,\n",
              "             'tells': 695,\n",
              "             'cheap': 696,\n",
              "             'clearly': 697,\n",
              "             'miss': 698,\n",
              "             'paul': 699,\n",
              "             '7': 700,\n",
              "             'television': 701,\n",
              "             'class': 702,\n",
              "             'silly': 703,\n",
              "             'basically': 704,\n",
              "             'knew': 705,\n",
              "             'non': 706,\n",
              "             'moving': 707,\n",
              "             'aren': 708,\n",
              "             'fast': 709,\n",
              "             'knows': 710,\n",
              "             'entertainment': 711,\n",
              "             'words': 712,\n",
              "             'songs': 713,\n",
              "             'local': 714,\n",
              "             'supporting': 715,\n",
              "             'beyond': 716,\n",
              "             'oscar': 717,\n",
              "             'predictable': 718,\n",
              "             '8': 719,\n",
              "             'falls': 720,\n",
              "             'sets': 721,\n",
              "             'british': 722,\n",
              "             'mystery': 723,\n",
              "             'dull': 724,\n",
              "             'george': 725,\n",
              "             'needs': 726,\n",
              "             'similar': 727,\n",
              "             'upon': 728,\n",
              "             'whether': 729,\n",
              "             'bring': 730,\n",
              "             'red': 731,\n",
              "             'straight': 732,\n",
              "             'within': 733,\n",
              "             'appears': 734,\n",
              "             'eye': 735,\n",
              "             'review': 736,\n",
              "             'talk': 737,\n",
              "             'giving': 738,\n",
              "             'animation': 739,\n",
              "             'fantastic': 740,\n",
              "             'stand': 741,\n",
              "             'enjoyable': 742,\n",
              "             'near': 743,\n",
              "             'lee': 744,\n",
              "             'sister': 745,\n",
              "             'team': 746,\n",
              "             'o': 747,\n",
              "             'lots': 748,\n",
              "             'points': 749,\n",
              "             'theater': 750,\n",
              "             'ways': 751,\n",
              "             'bunch': 752,\n",
              "             'ten': 753,\n",
              "             'theme': 754,\n",
              "             'message': 755,\n",
              "             'named': 756,\n",
              "             'nearly': 757,\n",
              "             'storyline': 758,\n",
              "             'begins': 759,\n",
              "             'feels': 760,\n",
              "             'above': 761,\n",
              "             'haven': 762,\n",
              "             'rock': 763,\n",
              "             'working': 764,\n",
              "             'richard': 765,\n",
              "             'romantic': 766,\n",
              "             'surprised': 767,\n",
              "             'hate': 768,\n",
              "             'using': 769,\n",
              "             'tale': 770,\n",
              "             'mention': 771,\n",
              "             'follow': 772,\n",
              "             'showing': 773,\n",
              "             'comments': 774,\n",
              "             'soundtrack': 775,\n",
              "             'clear': 776,\n",
              "             'sequel': 777,\n",
              "             'die': 778,\n",
              "             'sorry': 779,\n",
              "             'actual': 780,\n",
              "             'add': 781,\n",
              "             'release': 782,\n",
              "             'easy': 783,\n",
              "             'effort': 784,\n",
              "             'tom': 785,\n",
              "             'french': 786,\n",
              "             'herself': 787,\n",
              "             'space': 788,\n",
              "             'peter': 789,\n",
              "             'elements': 790,\n",
              "             'famous': 791,\n",
              "             'form': 792,\n",
              "             'fall': 793,\n",
              "             '9': 794,\n",
              "             'viewers': 795,\n",
              "             'york': 796,\n",
              "             'viewing': 797,\n",
              "             'among': 798,\n",
              "             'check': 799,\n",
              "             'gone': 800,\n",
              "             'stay': 801,\n",
              "             'filmed': 802,\n",
              "             'avoid': 803,\n",
              "             'certain': 804,\n",
              "             'lame': 805,\n",
              "             'minute': 806,\n",
              "             'suspense': 807,\n",
              "             'imagine': 808,\n",
              "             'typical': 809,\n",
              "             'atmosphere': 810,\n",
              "             'season': 811,\n",
              "             'tried': 812,\n",
              "             'general': 813,\n",
              "             'period': 814,\n",
              "             'doubt': 815,\n",
              "             'greatest': 816,\n",
              "             'leads': 817,\n",
              "             'move': 818,\n",
              "             'somehow': 819,\n",
              "             'dialog': 820,\n",
              "             'weak': 821,\n",
              "             'figure': 822,\n",
              "             'zombie': 823,\n",
              "             'crime': 824,\n",
              "             'means': 825,\n",
              "             'parents': 826,\n",
              "             'third': 827,\n",
              "             'editing': 828,\n",
              "             'realistic': 829,\n",
              "             'feature': 830,\n",
              "             'material': 831,\n",
              "             'buy': 832,\n",
              "             'forget': 833,\n",
              "             'sequences': 834,\n",
              "             'dance': 835,\n",
              "             'indeed': 836,\n",
              "             'stage': 837,\n",
              "             'imdb': 838,\n",
              "             'kept': 839,\n",
              "             'de': 840,\n",
              "             'eventually': 841,\n",
              "             'japanese': 842,\n",
              "             'particular': 843,\n",
              "             'whatever': 844,\n",
              "             'brought': 845,\n",
              "             'average': 846,\n",
              "             'rent': 847,\n",
              "             'america': 848,\n",
              "             'reviews': 849,\n",
              "             'poorly': 850,\n",
              "             'note': 851,\n",
              "             'possibly': 852,\n",
              "             'street': 853,\n",
              "             'nature': 854,\n",
              "             'believable': 855,\n",
              "             'disney': 856,\n",
              "             'sexual': 857,\n",
              "             'decided': 858,\n",
              "             'hear': 859,\n",
              "             'subject': 860,\n",
              "             'wait': 861,\n",
              "             'deal': 862,\n",
              "             'okay': 863,\n",
              "             'screenplay': 864,\n",
              "             'surprise': 865,\n",
              "             'free': 866,\n",
              "             'joe': 867,\n",
              "             'became': 868,\n",
              "             'nor': 869,\n",
              "             'dr': 870,\n",
              "             'difficult': 871,\n",
              "             'monster': 872,\n",
              "             'truth': 873,\n",
              "             'needed': 874,\n",
              "             'expected': 875,\n",
              "             'killing': 876,\n",
              "             '20': 877,\n",
              "             'ask': 878,\n",
              "             'reading': 879,\n",
              "             'dog': 880,\n",
              "             'dream': 881,\n",
              "             'learn': 882,\n",
              "             'hot': 883,\n",
              "             'sit': 884,\n",
              "             'credits': 885,\n",
              "             'shame': 886,\n",
              "             'situation': 887,\n",
              "             'superb': 888,\n",
              "             'baby': 889,\n",
              "             'meets': 890,\n",
              "             'otherwise': 891,\n",
              "             'dramatic': 892,\n",
              "             'premise': 893,\n",
              "             'question': 894,\n",
              "             'laughs': 895,\n",
              "             'male': 896,\n",
              "             'romance': 897,\n",
              "             'acted': 898,\n",
              "             'creepy': 899,\n",
              "             'begin': 900,\n",
              "             'meet': 901,\n",
              "             'realize': 902,\n",
              "             'weird': 903,\n",
              "             'crazy': 904,\n",
              "             'forward': 905,\n",
              "             'ben': 906,\n",
              "             'leaves': 907,\n",
              "             'memorable': 908,\n",
              "             'society': 909,\n",
              "             'unless': 910,\n",
              "             'interested': 911,\n",
              "             'earlier': 912,\n",
              "             'fire': 913,\n",
              "             'write': 914,\n",
              "             'writers': 915,\n",
              "             'fantasy': 916,\n",
              "             'sounds': 917,\n",
              "             'comment': 918,\n",
              "             'directors': 919,\n",
              "             'plus': 920,\n",
              "             'footage': 921,\n",
              "             'badly': 922,\n",
              "             'cheesy': 923,\n",
              "             'deep': 924,\n",
              "             'fi': 925,\n",
              "             'doctor': 926,\n",
              "             'mess': 927,\n",
              "             'open': 928,\n",
              "             'sci': 929,\n",
              "             '30': 930,\n",
              "             'directing': 931,\n",
              "             'e': 932,\n",
              "             'emotional': 933,\n",
              "             'forced': 934,\n",
              "             'girlfriend': 935,\n",
              "             'development': 936,\n",
              "             'keeps': 937,\n",
              "             'whom': 938,\n",
              "             'mark': 939,\n",
              "             'older': 940,\n",
              "             'secret': 941,\n",
              "             'unique': 942,\n",
              "             'perfectly': 943,\n",
              "             'result': 944,\n",
              "             'worked': 945,\n",
              "             'beauty': 946,\n",
              "             'box': 947,\n",
              "             'effect': 948,\n",
              "             'gay': 949,\n",
              "             'quickly': 950,\n",
              "             'hands': 951,\n",
              "             'personal': 952,\n",
              "             'casting': 953,\n",
              "             'total': 954,\n",
              "             'apart': 955,\n",
              "             'fighting': 956,\n",
              "             'setting': 957,\n",
              "             'present': 958,\n",
              "             'brings': 959,\n",
              "             'create': 960,\n",
              "             'previous': 961,\n",
              "             'features': 962,\n",
              "             'joke': 963,\n",
              "             'meant': 964,\n",
              "             'break': 965,\n",
              "             'business': 966,\n",
              "             'cop': 967,\n",
              "             'background': 968,\n",
              "             'powerful': 969,\n",
              "             'air': 970,\n",
              "             'dumb': 971,\n",
              "             'incredibly': 972,\n",
              "             'outside': 973,\n",
              "             'towards': 974,\n",
              "             'era': 975,\n",
              "             'admit': 976,\n",
              "             'appear': 977,\n",
              "             'deserves': 978,\n",
              "             'twist': 979,\n",
              "             'william': 980,\n",
              "             'plenty': 981,\n",
              "             'bill': 982,\n",
              "             'villain': 983,\n",
              "             'co': 984,\n",
              "             'talented': 985,\n",
              "             'nudity': 986,\n",
              "             'potential': 987,\n",
              "             'front': 988,\n",
              "             'various': 989,\n",
              "             'leading': 990,\n",
              "             'boys': 991,\n",
              "             'rate': 992,\n",
              "             'fails': 993,\n",
              "             'inside': 994,\n",
              "             'married': 995,\n",
              "             'pay': 996,\n",
              "             'political': 997,\n",
              "             'portrayed': 998,\n",
              "             'social': 999,\n",
              "             ...})"
            ]
          },
          "metadata": {
            "tags": []
          },
          "execution_count": 26
        }
      ]
    },
    {
      "cell_type": "code",
      "metadata": {
        "id": "67vjwRCwk6VG",
        "colab": {
          "base_uri": "https://localhost:8080/"
        },
        "outputId": "443565f0-ebcb-404c-979a-4bbfea6b8645"
      },
      "source": [
        "# DataLoaderを作成します（torchtextの文脈では単純にiteraterと呼ばれています）\n",
        "train_dl = torchtext.legacy.data.Iterator(train_ds, batch_size=24, train=True)\n",
        "\n",
        "val_dl = torchtext.legacy.data.Iterator(\n",
        "    val_ds, batch_size=24, train=False, sort=False)\n",
        "\n",
        "test_dl = torchtext.legacy.data.Iterator(\n",
        "    test_ds, batch_size=24, train=False, sort=False)\n",
        "\n",
        "\n",
        "# 動作確認 検証データのデータセットで確認\n",
        "batch = next(iter(val_dl))\n",
        "print(batch.Text)\n",
        "print(batch.Label)\n"
      ],
      "execution_count": 27,
      "outputs": [
        {
          "output_type": "stream",
          "text": [
            "(tensor([[   2,    0,    6,  ...,  105,  151,    3],\n",
            "        [   2,  180,  285,  ...,    1,    1,    1],\n",
            "        [   2,   15,   24,  ...,  241,    6,    3],\n",
            "        ...,\n",
            "        [   2,   91,   10,  ...,   18,  179,    3],\n",
            "        [   2,   14,  258,  ...,    1,    1,    1],\n",
            "        [   2,   13, 7454,  ..., 1115, 1633,    3]]), tensor([256, 207, 256, 256, 201, 256, 137, 256, 256, 256, 156, 256, 115, 250,\n",
            "        159, 193, 192, 251, 256, 185, 256, 256, 135, 256]))\n",
            "tensor([0, 1, 0, 1, 0, 0, 1, 0, 1, 1, 0, 1, 1, 1, 1, 0, 1, 0, 0, 1, 0, 1, 1, 0])\n"
          ],
          "name": "stdout"
        }
      ]
    },
    {
      "cell_type": "markdown",
      "metadata": {
        "id": "c449sRt5k6VH"
      },
      "source": [
        "このようにDataLoaderは単語のidを格納しているので、分散表現はディープラーニングモデル側でidに応じて取得してあげる必要があります。\n",
        "\n",
        "ここまでの内容をフォルダ「utils」のdataloader.pyに別途保存しておき、次節からはこちらから読み込むようにします"
      ]
    },
    {
      "cell_type": "markdown",
      "metadata": {
        "id": "0PuJQb8Mk6VH"
      },
      "source": [
        "以上"
      ]
    }
  ]
}