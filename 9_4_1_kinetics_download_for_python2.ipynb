{
  "cells": [
    {
      "cell_type": "markdown",
      "metadata": {
        "id": "view-in-github",
        "colab_type": "text"
      },
      "source": [
        "<a href=\"https://colab.research.google.com/github/Amplil/pytorch/blob/master/9_4_1_kinetics_download_for_python2.ipynb\" target=\"_parent\"><img src=\"https://colab.research.google.com/assets/colab-badge.svg\" alt=\"Open In Colab\"/></a>"
      ]
    },
    {
      "cell_type": "markdown",
      "metadata": {
        "id": "Mh10JHw1qSWr"
      },
      "source": [
        "# 9.4.1 Kinetics動画のダウンロード\n",
        "\n",
        "本ファイルでは、Kinetics動画をダウンロードします。\n"
      ]
    },
    {
      "cell_type": "markdown",
      "metadata": {
        "id": "O6XTqqahqSWv"
      },
      "source": [
        "## 解説"
      ]
    },
    {
      "cell_type": "markdown",
      "metadata": {
        "id": "vydBAwwUqSWw"
      },
      "source": [
        "https://github.com/activitynet/ActivityNet/tree/master/Crawler/Kinetics\n",
        "\n",
        "のKineticsの動画ダウンロード環境を利用します。\n",
        "\n",
        "Python2系なので、新しい仮想環境を作成します。\n",
        "今いるディレクトリはUbuntuのhomeです。\n",
        "\n",
        "以下のコマンドをターミナルで実行し、フォルダ「video_download」のファイル「environment.yml」に記載したパッケージをインストールした仮想環境を作成します\n",
        "\n",
        "- source deactivate\n",
        "\n",
        "- conda env create -f ./9_video_classification_eco/video_download/environment.yml\n",
        "\n",
        "作成した仮想環境に入ります\n",
        "\n",
        "- source activate kinetics\n",
        "\n",
        "youtube-dlのパッケージを更新インストールします\n",
        "\n",
        "- pip install --upgrade youtube-dl\n",
        "\n",
        "- pip install --upgrade joblib\n",
        "\n",
        "これで準備ができたので、JupyteNotebookを立ち上げ、本ファイルを実行します\n",
        "\n",
        "- jupyter notebook --port 9999\n"
      ]
    },
    {
      "cell_type": "code",
      "source": [
        "from google.colab import drive\n",
        "drive.mount('/content/drive')"
      ],
      "metadata": {
        "colab": {
          "base_uri": "https://localhost:8080/"
        },
        "id": "nV7cdEiItp2v",
        "outputId": "d9ebb0dd-9d6e-4188-9859-99de2523df4f"
      },
      "execution_count": 1,
      "outputs": [
        {
          "output_type": "stream",
          "name": "stdout",
          "text": [
            "Mounted at /content/drive\n"
          ]
        }
      ]
    },
    {
      "cell_type": "code",
      "source": [
        "cd \"/content/drive/My Drive/Colab Notebooks/pytorch_advanced/9_video_classification_eco\""
      ],
      "metadata": {
        "colab": {
          "base_uri": "https://localhost:8080/"
        },
        "id": "3lzZ2-p4u_RG",
        "outputId": "6e08f64e-12c0-4361-a132-350b50f4713e"
      },
      "execution_count": 11,
      "outputs": [
        {
          "output_type": "stream",
          "name": "stdout",
          "text": [
            "/content/drive/My Drive/Colab Notebooks/pytorch_advanced/9_video_classification_eco\n"
          ]
        }
      ]
    },
    {
      "cell_type": "code",
      "source": [
        "import sys\n",
        "sys.path.append(\"/content/drive/MyDrive/Colab Notebooks/packages\")"
      ],
      "metadata": {
        "id": "kPTXvzdHtx1F"
      },
      "execution_count": 2,
      "outputs": []
    },
    {
      "cell_type": "code",
      "source": [
        "!pip install --upgrade youtube-dl"
      ],
      "metadata": {
        "colab": {
          "base_uri": "https://localhost:8080/"
        },
        "id": "EXeEgH7WvrAv",
        "outputId": "c95167b8-73eb-4c82-fd8e-a4e9b0852a13"
      },
      "execution_count": 7,
      "outputs": [
        {
          "output_type": "stream",
          "name": "stdout",
          "text": [
            "Collecting youtube-dl\n",
            "  Downloading youtube_dl-2021.12.17-py2.py3-none-any.whl (1.9 MB)\n",
            "\u001b[K     |████████████████████████████████| 1.9 MB 5.0 MB/s \n",
            "\u001b[?25hInstalling collected packages: youtube-dl\n",
            "Successfully installed youtube-dl-2021.12.17\n"
          ]
        }
      ]
    },
    {
      "cell_type": "code",
      "source": [
        "!pip install --upgrade joblib"
      ],
      "metadata": {
        "colab": {
          "base_uri": "https://localhost:8080/"
        },
        "id": "QFHS5j1sv3Gw",
        "outputId": "ccb89f7c-4270-4fa0-e53f-266f1b6e1bcb"
      },
      "execution_count": 8,
      "outputs": [
        {
          "output_type": "stream",
          "name": "stdout",
          "text": [
            "Requirement already satisfied: joblib in /usr/local/lib/python3.7/dist-packages (1.1.0)\n"
          ]
        }
      ]
    },
    {
      "cell_type": "code",
      "source": [
        "!pwd"
      ],
      "metadata": {
        "colab": {
          "base_uri": "https://localhost:8080/"
        },
        "id": "wF0lzoc2wRdn",
        "outputId": "51828943-fad4-446b-e0d5-05c7efe3a30c"
      },
      "execution_count": 13,
      "outputs": [
        {
          "output_type": "stream",
          "name": "stdout",
          "text": [
            "/content/drive/MyDrive/Colab Notebooks/pytorch_advanced/9_video_classification_eco\n"
          ]
        }
      ]
    },
    {
      "cell_type": "code",
      "execution_count": 15,
      "metadata": {
        "colab": {
          "base_uri": "https://localhost:8080/"
        },
        "id": "AAQbZZUfqSWx",
        "outputId": "16838c2f-96bf-465e-a8dc-9600c7dd2a56"
      },
      "outputs": [
        {
          "output_type": "stream",
          "name": "stdout",
          "text": [
            "Traceback (most recent call last):\n",
            "  File \"./video_download/download.py\", line 21, in <module>\n",
            "    from joblib import delayed\n",
            "ImportError: No module named joblib\n"
          ]
        }
      ],
      "source": [
        "import os\n",
        "\n",
        "# フォルダ「data」が存在しない場合は作成する\n",
        "data_dir = \"./../data/\"\n",
        "if not os.path.exists(data_dir):\n",
        "    os.mkdir(data_dir)\n",
        "    \n",
        "# フォルダ「kinetics_videos」が存在しない場合は作成する\n",
        "data_dir = \"./../data/kinetics_videos/\"\n",
        "if not os.path.exists(data_dir):\n",
        "    os.mkdir(data_dir)\n",
        "    \n",
        "    \n",
        "# フォルダ「video_download」のpytnonファイル「download.py」を実行します\n",
        "# 取得するyoutubeデータはフォルダ「video_download」のkinetics-400_val_8videos.csvに記載した8動画です\n",
        "# 保存先はフォルダ「data」内のフォルダ「kinetics_videos」です\n",
        "#!python2 ./video_download/download.py ./video_download/kinetics-400_val_8videos.csv ./data/kinetics_videos/\n",
        "    "
      ]
    },
    {
      "cell_type": "code",
      "source": [
        "!python ./video_download/download.py ./video_download/kinetics-400_val_8videos.csv ./../data/kinetics_videos/"
      ],
      "metadata": {
        "colab": {
          "base_uri": "https://localhost:8080/"
        },
        "id": "oeEvysxwyHRC",
        "outputId": "abb2de86-d798-4c3f-b0bc-c9a6e6def8f6"
      },
      "execution_count": 18,
      "outputs": [
        {
          "output_type": "stream",
          "name": "stdout",
          "text": [
            "/tmp/kinetics/9c4918ca-ced9-4fef-91b9-c97d262baf3b.%(ext)s\n",
            "/tmp/kinetics/a3053d20-43dc-47c4-973e-31774a9405b3.%(ext)s\n",
            "/tmp/kinetics/e00236b3-47d7-4804-beb6-fe2ca9df4a6c.%(ext)s\n",
            "/tmp/kinetics/7a01c9b0-6eb7-48dd-a974-02781c2d8199.%(ext)s\n",
            "/tmp/kinetics/899e294a-6818-4b48-b15f-b323ffaee48e.%(ext)s\n",
            "/tmp/kinetics/43c1b70e-c74e-4112-a90a-9a365e7c1932.%(ext)s\n",
            "/tmp/kinetics/3935e25d-e2a5-4dd3-94d8-921c7929264d.%(ext)s\n",
            "/tmp/kinetics/905431ba-3f01-45a5-859b-80023486b008.%(ext)s\n",
            "Traceback (most recent call last):\n",
            "  File \"/usr/local/lib/python3.7/dist-packages/joblib/parallel.py\", line 935, in retrieve\n",
            "    self._output.extend(job.get(timeout=self.timeout))\n",
            "  File \"/usr/local/lib/python3.7/dist-packages/joblib/_parallel_backends.py\", line 542, in wrap_future_result\n",
            "    return future.result(timeout=timeout)\n",
            "  File \"/usr/lib/python3.7/concurrent/futures/_base.py\", line 430, in result\n",
            "    self._condition.wait(timeout)\n",
            "  File \"/usr/lib/python3.7/threading.py\", line 296, in wait\n",
            "    waiter.acquire()\n",
            "KeyboardInterrupt\n",
            "\n",
            "During handling of the above exception, another exception occurred:\n",
            "\n",
            "Traceback (most recent call last):\n",
            "  File \"./video_download/download.py\", line 236, in <module>\n",
            "    main(**vars(p.parse_args()))\n",
            "  File \"./video_download/download.py\", line 207, in main\n",
            "    trim_format, tmp_dir) for i, row in dataset.iterrows())\n",
            "  File \"/usr/local/lib/python3.7/dist-packages/joblib/parallel.py\", line 1056, in __call__\n",
            "    self.retrieve()\n",
            "  File \"/usr/local/lib/python3.7/dist-packages/joblib/parallel.py\", line 957, in retrieve\n",
            "    backend.abort_everything(ensure_ready=ensure_ready)\n",
            "  File \"/usr/local/lib/python3.7/dist-packages/joblib/_parallel_backends.py\", line 561, in abort_everything\n",
            "    self._workers.terminate(kill_workers=True)\n",
            "  File \"/usr/local/lib/python3.7/dist-packages/joblib/executor.py\", line 74, in terminate\n",
            "    self.shutdown(kill_workers=kill_workers)\n",
            "  File \"/usr/local/lib/python3.7/dist-packages/joblib/externals/loky/process_executor.py\", line 1185, in shutdown\n",
            "    executor_manager_thread.join()\n",
            "  File \"/usr/lib/python3.7/threading.py\", line 1044, in join\n",
            "    self._wait_for_tstate_lock()\n",
            "  File \"/usr/lib/python3.7/threading.py\", line 1060, in _wait_for_tstate_lock\n",
            "    elif lock.acquire(block, timeout):\n",
            "KeyboardInterrupt\n"
          ]
        }
      ]
    },
    {
      "cell_type": "markdown",
      "metadata": {
        "id": "kATUjP03qSWz"
      },
      "source": [
        "以上"
      ]
    }
  ],
  "metadata": {
    "kernelspec": {
      "display_name": "Python 3",
      "language": "python",
      "name": "python3"
    },
    "language_info": {
      "codemirror_mode": {
        "name": "ipython",
        "version": 3
      },
      "file_extension": ".py",
      "mimetype": "text/x-python",
      "name": "python",
      "nbconvert_exporter": "python",
      "pygments_lexer": "ipython3",
      "version": "3.6.5"
    },
    "colab": {
      "name": "9-4_1_kinetics_download_for_python2.ipynb",
      "provenance": [],
      "include_colab_link": true
    }
  },
  "nbformat": 4,
  "nbformat_minor": 0
}