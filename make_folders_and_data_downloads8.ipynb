{
  "nbformat": 4,
  "nbformat_minor": 0,
  "metadata": {
    "kernelspec": {
      "display_name": "Python 3",
      "language": "python",
      "name": "python3"
    },
    "language_info": {
      "codemirror_mode": {
        "name": "ipython",
        "version": 3
      },
      "file_extension": ".py",
      "mimetype": "text/x-python",
      "name": "python",
      "nbconvert_exporter": "python",
      "pygments_lexer": "ipython3",
      "version": "3.6.5"
    },
    "colab": {
      "name": "make_folders_and_data_downloads8.ipynb",
      "provenance": [],
      "toc_visible": true,
      "include_colab_link": true
    }
  },
  "cells": [
    {
      "cell_type": "markdown",
      "metadata": {
        "id": "view-in-github",
        "colab_type": "text"
      },
      "source": [
        "<a href=\"https://colab.research.google.com/github/Amplil/pytorch/blob/master/make_folders_and_data_downloads8.ipynb\" target=\"_parent\"><img src=\"https://colab.research.google.com/assets/colab-badge.svg\" alt=\"Open In Colab\"/></a>"
      ]
    },
    {
      "cell_type": "markdown",
      "metadata": {
        "id": "8XH7dUZ3jz59"
      },
      "source": [
        "##  第8章 自然言語処理による感情分析（BERT）\n",
        "\n",
        "- 本ファイルでは、第8章で使用するフォルダの作成とファイルのダウンロードを行います。"
      ]
    },
    {
      "cell_type": "code",
      "metadata": {
        "id": "_DEDy0Hpjz6I"
      },
      "source": [
        "import os\n",
        "import urllib.request\n",
        "import zipfile\n",
        "import tarfile\n",
        "import glob\n",
        "import io"
      ],
      "execution_count": 1,
      "outputs": []
    },
    {
      "cell_type": "code",
      "metadata": {
        "colab": {
          "base_uri": "https://localhost:8080/"
        },
        "id": "cwlqHgt8mlkV",
        "outputId": "bced80b8-3fdb-4d22-c2db-937627352b0a"
      },
      "source": [
        "from google.colab import drive\n",
        "drive.mount('/content/drive')"
      ],
      "execution_count": 2,
      "outputs": [
        {
          "output_type": "stream",
          "text": [
            "Mounted at /content/drive\n"
          ],
          "name": "stdout"
        }
      ]
    },
    {
      "cell_type": "code",
      "metadata": {
        "colab": {
          "base_uri": "https://localhost:8080/"
        },
        "id": "pN3UpaFrm2yQ",
        "outputId": "c9d76b21-6ae6-465b-d5d5-54441481aec0"
      },
      "source": [
        "cd \"/content/drive/My Drive/Colab Notebooks/pytorch_advanced\""
      ],
      "execution_count": 3,
      "outputs": [
        {
          "output_type": "stream",
          "text": [
            "/content/drive/My Drive/Colab Notebooks/pytorch_advanced\n"
          ],
          "name": "stdout"
        }
      ]
    },
    {
      "cell_type": "code",
      "metadata": {
        "id": "DEk2DTQtjz6J"
      },
      "source": [
        "# フォルダ「data」が存在しない場合は作成する\n",
        "data_dir = \"./data/\"\n",
        "if not os.path.exists(data_dir):\n",
        "    os.mkdir(data_dir)"
      ],
      "execution_count": 4,
      "outputs": []
    },
    {
      "cell_type": "code",
      "metadata": {
        "id": "B0NLjVHUjz6K"
      },
      "source": [
        "# フォルダ「vocab」が存在しない場合は作成する\n",
        "vocab_dir = \"./vocab/\"\n",
        "if not os.path.exists(vocab_dir):\n",
        "    os.mkdir(vocab_dir)"
      ],
      "execution_count": 5,
      "outputs": []
    },
    {
      "cell_type": "code",
      "metadata": {
        "colab": {
          "base_uri": "https://localhost:8080/"
        },
        "id": "0oYo4WBjjz6K",
        "outputId": "61e5bdb4-6bf3-4946-c2ee-366e512fd7b0"
      },
      "source": [
        "# 単語集：ボキャブラリーをダウンロード\n",
        "\n",
        "# 'bert-base-uncased': \n",
        "# https://s3.amazonaws.com/models.huggingface.co/bert/bert-base-uncased-vocab.txt\n",
        "\n",
        "save_path=\"./vocab/bert-base-uncased-vocab.txt\"\n",
        "url = \"https://s3.amazonaws.com/models.huggingface.co/bert/bert-base-uncased-vocab.txt\"\n",
        "urllib.request.urlretrieve(url, save_path)\n",
        "    "
      ],
      "execution_count": 7,
      "outputs": [
        {
          "output_type": "execute_result",
          "data": {
            "text/plain": [
              "('./vocab/bert-base-uncased-vocab.txt',\n",
              " <http.client.HTTPMessage at 0x7f9deb710f10>)"
            ]
          },
          "metadata": {
            "tags": []
          },
          "execution_count": 7
        }
      ]
    },
    {
      "cell_type": "code",
      "metadata": {
        "colab": {
          "base_uri": "https://localhost:8080/"
        },
        "id": "WAeWZgVJnqeB",
        "outputId": "6170f8b5-2cd2-4ed9-f49e-88c708261d41"
      },
      "source": [
        "cd \"/content\""
      ],
      "execution_count": 8,
      "outputs": [
        {
          "output_type": "stream",
          "text": [
            "/content\n"
          ],
          "name": "stdout"
        }
      ]
    },
    {
      "cell_type": "code",
      "metadata": {
        "id": "LugyGt0Ajz6K"
      },
      "source": [
        "# フォルダ「weights」が存在しない場合は作成する\n",
        "weights_dir = \"./weights/\"\n",
        "if not os.path.exists(weights_dir):\n",
        "    os.mkdir(weights_dir)"
      ],
      "execution_count": 10,
      "outputs": []
    },
    {
      "cell_type": "code",
      "metadata": {
        "id": "ribG5qVYjz6M"
      },
      "source": [
        "# BERTの学習済みモデル 'bert-base-uncased'\n",
        "# https://github.com/huggingface/pytorch-pretrained-BERT/\n",
        "# https://s3.amazonaws.com/models.huggingface.co/bert/bert-base-uncased.tar.gz\n",
        "\n",
        "# ダウンロード\n",
        "save_path = \"./weights/bert-base-uncased.tar.gz\"\n",
        "url = \"https://s3.amazonaws.com/models.huggingface.co/bert/bert-base-uncased.tar.gz\"\n",
        "urllib.request.urlretrieve(url, save_path)\n",
        "\n",
        "# 解凍\n",
        "archive_file = \"./weights/bert-base-uncased.tar.gz\"  # Uncasedは小文字化モードという意味です\n",
        "tar = tarfile.open(archive_file, 'r:gz')\n",
        "tar.extractall('./weights/')  # 解凍\n",
        "tar.close()  # ファイルをクローズ\n",
        "\n",
        "# フォルダ「weights」に「pytorch_model.bin」と「bert_config.json」ができます"
      ],
      "execution_count": 11,
      "outputs": []
    },
    {
      "cell_type": "code",
      "metadata": {
        "id": "xPVLBqFsoKHQ"
      },
      "source": [
        "!cp ./weights/bert_config.json ./weights/pytorch_model.bin '/content/drive/My Drive/Colab Notebooks/pytorch_advanced/weights'"
      ],
      "execution_count": 13,
      "outputs": []
    },
    {
      "cell_type": "markdown",
      "metadata": {
        "id": "m81X3zzGjz6M"
      },
      "source": [
        "# IMDbデータセットをダウンロードし、tsvファイルに整形\n",
        "\n",
        "http://ai.stanford.edu/~amaas/data/sentiment/aclImdb_v1.tar.gz"
      ]
    },
    {
      "cell_type": "markdown",
      "metadata": {
        "id": "9CZ5eI8Kt8Da"
      },
      "source": [
        "## IMDbは毎回読み込むことにする"
      ]
    },
    {
      "cell_type": "code",
      "metadata": {
        "id": "6E4hBy3mjz6N"
      },
      "source": [
        "# IMDbデータセットをダウンロード。30秒ほどでダウンロードできます\n",
        "target_dir_path=\"./data/\"\n",
        "\n",
        "if not os.path.exists(target_dir_path):\n",
        "    os.mkdir(target_dir_path)\n",
        "    \n",
        "url = \"http://ai.stanford.edu/~amaas/data/sentiment/aclImdb_v1.tar.gz\"\n",
        "save_path = \"./data/aclImdb_v1.tar.gz\"\n",
        "urllib.request.urlretrieve(url, save_path)\n",
        "\n",
        "# './data/aclImdb_v1.tar.gz'の解凍　1分ほどかかります\n",
        "\n",
        "# tarファイルを読み込み\n",
        "tar = tarfile.open('./data/aclImdb_v1.tar.gz')\n",
        "tar.extractall('./data/')  # 解凍\n",
        "tar.close()  # ファイルをクローズ\n",
        "\n",
        "# フォルダ「data」内にフォルダ「aclImdb」というものができます。"
      ],
      "execution_count": null,
      "outputs": []
    },
    {
      "cell_type": "code",
      "metadata": {
        "id": "Y2KK2SJ5jz6O"
      },
      "source": [
        "# IMDbの個別ファイルをtsvにまとめる\n",
        "target_dir_path=\"./data/aclImdb/\"\n",
        "\n",
        "if os.path.exists(target_dir_path):\n",
        "    \n",
        "    # 訓練データの作成\n",
        "\n",
        "    f=open('./data/IMDb_train.tsv','w')\n",
        "\n",
        "    path = './data/aclImdb/train/pos/'\n",
        "    for fname in glob.glob(os.path.join(path,'*.txt')):\n",
        "        with io.open(fname, 'r', encoding=\"utf-8\") as ff:\n",
        "            text = ff.readline()\n",
        "            \n",
        "            # タブがあれば消しておきます\n",
        "            text = text.replace('\\t', \" \")\n",
        "            \n",
        "            text = text+'\\t'+'1'+'\\t'+'\\n'\n",
        "            f.write(text)\n",
        "\n",
        "    path = './data/aclImdb/train/neg/'\n",
        "    for fname in glob.glob(os.path.join(path,'*.txt')):\n",
        "        with io.open(fname, 'r', encoding=\"utf-8\") as ff:\n",
        "            text = ff.readline()\n",
        "            \n",
        "            # タブがあれば消しておきます\n",
        "            text = text.replace('\\t', \" \")\n",
        "            \n",
        "            text = text+'\\t'+'0'+'\\t'+'\\n'\n",
        "            f.write(text)\n",
        "\n",
        "    f.close()\n",
        "    \n",
        "    \n",
        "    # テストデータの作成\n",
        "    f=open('./data/IMDb_test.tsv','w')\n",
        "\n",
        "    path = './data/aclImdb/test/pos/'\n",
        "    for fname in glob.glob(os.path.join(path,'*.txt')):\n",
        "        with io.open(fname, 'r', encoding=\"utf-8\") as ff:\n",
        "            text = ff.readline()\n",
        "            \n",
        "            # タブがあれば消しておきます\n",
        "            text = text.replace('\\t', \" \")\n",
        "        \n",
        "            text = text+'\\t'+'1'+'\\t'+'\\n'\n",
        "            f.write(text)\n",
        "\n",
        "    path = './data/aclImdb/test/neg/'\n",
        "\n",
        "    for fname in glob.glob(os.path.join(path,'*.txt')):\n",
        "        with io.open(fname, 'r', encoding=\"utf-8\") as ff:\n",
        "            text = ff.readline()\n",
        "            \n",
        "            \n",
        "            # タブがあれば消しておきます\n",
        "            text = text.replace('\\t', \" \")\n",
        "            \n",
        "            text = text+'\\t'+'0'+'\\t'+'\\n'\n",
        "            f.write(text)\n",
        "\n",
        "\n",
        "    f.close()"
      ],
      "execution_count": null,
      "outputs": []
    },
    {
      "cell_type": "markdown",
      "metadata": {
        "id": "8HpNlrZBjz6P"
      },
      "source": [
        "以上"
      ]
    }
  ]
}