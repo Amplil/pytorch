{
  "nbformat": 4,
  "nbformat_minor": 0,
  "metadata": {
    "kernelspec": {
      "display_name": "Python 3",
      "language": "python",
      "name": "python3"
    },
    "language_info": {
      "codemirror_mode": {
        "name": "ipython",
        "version": 3
      },
      "file_extension": ".py",
      "mimetype": "text/x-python",
      "name": "python",
      "nbconvert_exporter": "python",
      "pygments_lexer": "ipython3",
      "version": "3.6.5"
    },
    "colab": {
      "name": "make_folders_and_data_downloads.ipynb",
      "provenance": [],
      "toc_visible": true,
      "include_colab_link": true
    }
  },
  "cells": [
    {
      "cell_type": "markdown",
      "metadata": {
        "id": "view-in-github",
        "colab_type": "text"
      },
      "source": [
        "<a href=\"https://colab.research.google.com/github/Amplil/pytorch/blob/master/make_folders_and_data_downloads.ipynb\" target=\"_parent\"><img src=\"https://colab.research.google.com/assets/colab-badge.svg\" alt=\"Open In Colab\"/></a>"
      ]
    },
    {
      "cell_type": "markdown",
      "metadata": {
        "id": "ocqFb6X4t-XT"
      },
      "source": [
        "# 第7章 自然言語処理による感情分析（Transformer）の準備ファイル\n",
        "\n",
        "- 本ファイルでは、第7章で使用するフォルダの作成とファイルのダウンロードを行います。"
      ]
    },
    {
      "cell_type": "code",
      "metadata": {
        "id": "Rf0Cf4kbt-Xb"
      },
      "source": [
        "import os\n",
        "import urllib.request\n",
        "import zipfile\n",
        "import tarfile"
      ],
      "execution_count": 1,
      "outputs": []
    },
    {
      "cell_type": "code",
      "metadata": {
        "colab": {
          "base_uri": "https://localhost:8080/"
        },
        "id": "EBES9K55ujli",
        "outputId": "eb32d93d-0cea-448a-e937-49beb4a1d4e5"
      },
      "source": [
        "from google.colab import drive\n",
        "drive.mount('/content/drive')"
      ],
      "execution_count": 2,
      "outputs": [
        {
          "output_type": "stream",
          "text": [
            "Mounted at /content/drive\n"
          ],
          "name": "stdout"
        }
      ]
    },
    {
      "cell_type": "code",
      "metadata": {
        "colab": {
          "base_uri": "https://localhost:8080/"
        },
        "id": "0jb-ig6hu3Wv",
        "outputId": "d01186fc-e835-4b52-f942-2f432eb6a7da"
      },
      "source": [
        "cd \"/content/drive/My Drive/Colab Notebooks/pytorch_advanced\""
      ],
      "execution_count": 8,
      "outputs": [
        {
          "output_type": "stream",
          "text": [
            "/content/drive/My Drive/Colab Notebooks/pytorch_advanced\n"
          ],
          "name": "stdout"
        }
      ]
    },
    {
      "cell_type": "code",
      "metadata": {
        "id": "E6ALHzfot-Xc"
      },
      "source": [
        "# フォルダ「data」が存在しない場合は作成する\n",
        "data_dir = \"./data/\"\n",
        "if not os.path.exists(data_dir):\n",
        "    os.mkdir(data_dir)"
      ],
      "execution_count": 17,
      "outputs": []
    },
    {
      "cell_type": "markdown",
      "metadata": {
        "id": "A-IzrdUut-Xc"
      },
      "source": [
        "# word2vec学習済みモデルをダウンロード\n",
        "\n",
        "東北大学 乾・岡崎研究室で公開されているデータ\n",
        "\n",
        "http://www.cl.ecei.tohoku.ac.jp/~m-suzuki/jawiki_vector/\n",
        "\n",
        "にある\n",
        "\n",
        "http://www.cl.ecei.tohoku.ac.jp/~m-suzuki/jawiki_vector/data/20170201.tar.bz2\n",
        "    \n",
        "をダウンロードして使用します"
      ]
    },
    {
      "cell_type": "code",
      "metadata": {
        "id": "mC5KvsYht-Xd"
      },
      "source": [
        "# word2vecの日本語学習済みモデル（東北大学 乾・岡崎研究室）をダウンロード。時間が15分ほどかかります\n",
        "\n",
        "url = \"http://www.cl.ecei.tohoku.ac.jp/~m-suzuki/jawiki_vector/data/20170201.tar.bz2\"\n",
        "save_path = \"./data/20170201.tar.bz2\"\n",
        "if not os.path.exists(save_path):\n",
        "    urllib.request.urlretrieve(url, save_path)\n"
      ],
      "execution_count": 120,
      "outputs": []
    },
    {
      "cell_type": "code",
      "metadata": {
        "id": "nZJly21qxiIe"
      },
      "source": [
        "!mv ./data/20170201.tar.bz2 /content"
      ],
      "execution_count": 11,
      "outputs": []
    },
    {
      "cell_type": "code",
      "metadata": {
        "colab": {
          "base_uri": "https://localhost:8080/"
        },
        "id": "zoN3pfq8zm-9",
        "outputId": "a5d997f4-a055-4dfe-9b4b-3898d5e18dfe"
      },
      "source": [
        "cd \"/content\""
      ],
      "execution_count": 14,
      "outputs": [
        {
          "output_type": "stream",
          "text": [
            "/content\n"
          ],
          "name": "stdout"
        }
      ]
    },
    {
      "cell_type": "code",
      "metadata": {
        "colab": {
          "base_uri": "https://localhost:8080/",
          "height": 35
        },
        "id": "erLaQ2rUzz9b",
        "outputId": "0d24fe86-8d64-4be9-ea69-1dfbbf6dc95e"
      },
      "source": [
        "pwd"
      ],
      "execution_count": 26,
      "outputs": [
        {
          "output_type": "execute_result",
          "data": {
            "application/vnd.google.colaboratory.intrinsic+json": {
              "type": "string"
            },
            "text/plain": [
              "'/content'"
            ]
          },
          "metadata": {
            "tags": []
          },
          "execution_count": 26
        }
      ]
    },
    {
      "cell_type": "code",
      "metadata": {
        "colab": {
          "base_uri": "https://localhost:8080/"
        },
        "id": "bfAgspRJ1rL4",
        "outputId": "bd9ce2e9-9937-45be-be14-8c64971183a4"
      },
      "source": [
        "ls data"
      ],
      "execution_count": 29,
      "outputs": [
        {
          "output_type": "stream",
          "text": [
            "20170201.tar.bz2  \u001b[0m\u001b[01;34mentity_vector\u001b[0m/\n"
          ],
          "name": "stdout"
        }
      ]
    },
    {
      "cell_type": "code",
      "metadata": {
        "id": "nG8Fef7Ut-Xd"
      },
      "source": [
        "# './data/20170201.tar.bz2'の解凍　5分ほどかかります\n",
        "\n",
        "# tarファイルを読み込み\n",
        "tar = tarfile.open('./data/20170201.tar.bz2', 'r|bz2')\n",
        "#tar = tarfile.open('20170201.tar.bz2', 'r|bz2')\n",
        "tar.extractall('./data/')  # 解凍\n",
        "#tar.extractall('.')  # 解凍\n",
        "tar.close()  # ファイルをクローズ\n",
        "\n",
        "# フォルダ「data」内にフォルダ「entity_vector」というものができ、その中に「entity_vector.model.bin」というファイルができています。"
      ],
      "execution_count": 121,
      "outputs": []
    },
    {
      "cell_type": "code",
      "metadata": {
        "colab": {
          "base_uri": "https://localhost:8080/"
        },
        "id": "eo-d5Jab1Mxz",
        "outputId": "b9b2d805-aa53-4459-d663-a1b2ce4ad262"
      },
      "source": [
        "!mv entity_vector data"
      ],
      "execution_count": 21,
      "outputs": [
        {
          "output_type": "stream",
          "text": [
            "mv: cannot stat 'entity_vector': No such file or directory\n"
          ],
          "name": "stdout"
        }
      ]
    },
    {
      "cell_type": "code",
      "metadata": {
        "id": "80uYaV_I131h"
      },
      "source": [
        "# !mv /data/entity_vector /data/20170201.tar.bz2 data"
      ],
      "execution_count": 27,
      "outputs": []
    },
    {
      "cell_type": "markdown",
      "metadata": {
        "id": "AegBxtrlt-Xe"
      },
      "source": [
        "# fastTextの英語学習済みモデルをダウンロード"
      ]
    },
    {
      "cell_type": "code",
      "metadata": {
        "id": "ylF9ygxUt-Xe"
      },
      "source": [
        "# fastTextの公式の英語学習済みモデル（650MB）をダウンロード。時間が5分ほどかかります\n",
        "url = \"https://dl.fbaipublicfiles.com/fasttext/vectors-english/wiki-news-300d-1M.vec.zip\"\n",
        "save_path = \"./data/wiki-news-300d-1M.vec.zip\"\n",
        "if not os.path.exists(save_path):\n",
        "    urllib.request.urlretrieve(url, save_path)\n",
        "    "
      ],
      "execution_count": 30,
      "outputs": []
    },
    {
      "cell_type": "code",
      "metadata": {
        "id": "WNLGSB2Ct-Xe"
      },
      "source": [
        "# フォルダ「data」内の「/wiki-news-300d-1M.vec.zip」を解凍する\n",
        "\n",
        "zip = zipfile.ZipFile(\"./data/wiki-news-300d-1M.vec.zip\")\n",
        "zip.extractall(\"./data/\")  # ZIPを解凍\n",
        "zip.close()  # ZIPファイルをクローズ\n",
        "\n",
        "# フォルダ「data」内にフォルダ「wiki-news-300d-1M.vec」というものができます。\n"
      ],
      "execution_count": 31,
      "outputs": []
    },
    {
      "cell_type": "markdown",
      "metadata": {
        "id": "CEAsE9UVt-Xf"
      },
      "source": [
        "# IMDbデータセットをダウンロード\n",
        "\n",
        "http://ai.stanford.edu/~amaas/data/sentiment/aclImdb_v1.tar.gz\n",
        "    "
      ]
    },
    {
      "cell_type": "code",
      "metadata": {
        "id": "j1UB86Xmt-Xf"
      },
      "source": [
        "# IMDbデータセットをダウンロード。30秒ほどでダウンロードできます\n",
        "\n",
        "url = \"http://ai.stanford.edu/~amaas/data/sentiment/aclImdb_v1.tar.gz\"\n",
        "save_path = \"./data/aclImdb_v1.tar.gz\"\n",
        "if not os.path.exists(save_path):\n",
        "    urllib.request.urlretrieve(url, save_path)"
      ],
      "execution_count": 32,
      "outputs": []
    },
    {
      "cell_type": "code",
      "metadata": {
        "id": "7t3QL53Vt-Xf"
      },
      "source": [
        "# './data/aclImdb_v1.tar.gz'の解凍　1分ほどかかります\n",
        "\n",
        "# tarファイルを読み込み\n",
        "tar = tarfile.open('./data/aclImdb_v1.tar.gz')\n",
        "tar.extractall('./data/')  # 解凍\n",
        "tar.close()  # ファイルをクローズ\n",
        "\n",
        "# フォルダ「data」内にフォルダ「aclImdb」というものができます。"
      ],
      "execution_count": 33,
      "outputs": []
    },
    {
      "cell_type": "markdown",
      "metadata": {
        "id": "sMflfNuvt-Xg"
      },
      "source": [
        "# fastTextの学習済みモデルをダウンロード\n",
        "\n",
        "fastTextの日本語学習済みモデルについては、手動で手元のPCでQiita記事「いますぐ使える単語埋め込みベクトルのリスト」\n",
        "\n",
        "https://qiita.com/Hironsan/items/8f7d35f0a36e0f99752c\n",
        "\n",
        "のfastTextの「URL2：Download Word Vectors(NEologd)」部分のリンク\n",
        "\n",
        "https://drive.google.com/open?id=0ByFQ96A4DgSPUm9wVWRLdm5qbmc\n",
        "\n",
        "からGoogle Driveのリンクに飛び、Google Driveから「vector_neologd.zip」を手元のPCにダウンロードします。\n",
        "\n",
        "ダウンロードしたzipファイルを、AWSのディープラーニング用EC2でJupyterNotebookを開き、\n",
        "\n",
        "フォルダ「7_nlp_sentiment_transformer」のフォルダ「data」に行き、フォルダ「data」内に「vector_neologd.zip」をアップロードします。"
      ]
    },
    {
      "cell_type": "markdown",
      "metadata": {
        "id": "huKDOL5-2vr5"
      },
      "source": [
        "# 手元のPCにダウンロードしなくてもセッション内にダウンロードできる。"
      ]
    },
    {
      "cell_type": "code",
      "metadata": {
        "colab": {
          "base_uri": "https://localhost:8080/"
        },
        "id": "Majl0Vaf4ydm",
        "outputId": "3ef1238b-d9a4-4e25-fada-7fb892bdde8d"
      },
      "source": [
        "cd /content"
      ],
      "execution_count": 69,
      "outputs": [
        {
          "output_type": "stream",
          "text": [
            "/content\n"
          ],
          "name": "stdout"
        }
      ]
    },
    {
      "cell_type": "code",
      "metadata": {
        "colab": {
          "base_uri": "https://localhost:8080/"
        },
        "id": "i3DakuMC5F_3",
        "outputId": "a3e64186-4722-483b-ae76-c43caf1b30f3"
      },
      "source": [
        "ls"
      ],
      "execution_count": 38,
      "outputs": [
        {
          "output_type": "stream",
          "text": [
            "20170201.tar.bz2  aclImdb_v1.tar.gz  wiki-news-300d-1M.vec\n",
            "\u001b[0m\u001b[01;34maclImdb\u001b[0m/          \u001b[01;34mentity_vector\u001b[0m/     wiki-news-300d-1M.vec.zip\n"
          ],
          "name": "stdout"
        }
      ]
    },
    {
      "cell_type": "code",
      "metadata": {
        "colab": {
          "base_uri": "https://localhost:8080/"
        },
        "id": "7oZtgJfG3WoV",
        "outputId": "b090caf7-0c08-43dc-a9d8-35fc51721aa5"
      },
      "source": [
        "!wget https://drive.google.com/u/0/uc?id=0ByFQ96A4DgSPUm9wVWRLdm5qbmc&export=download ./data"
      ],
      "execution_count": 39,
      "outputs": [
        {
          "output_type": "stream",
          "text": [
            "--2021-03-17 06:35:01--  https://drive.google.com/u/0/uc?id=0ByFQ96A4DgSPUm9wVWRLdm5qbmc\n",
            "Resolving drive.google.com (drive.google.com)... 172.217.193.100, 172.217.193.102, 172.217.193.138, ...\n",
            "Connecting to drive.google.com (drive.google.com)|172.217.193.100|:443... connected.\n",
            "HTTP request sent, awaiting response... 200 OK\n",
            "Length: unspecified [text/html]\n",
            "Saving to: ‘uc?id=0ByFQ96A4DgSPUm9wVWRLdm5qbmc’\n",
            "\n",
            "\r          uc?id=0By     [<=>                 ]       0  --.-KB/s               \ruc?id=0ByFQ96A4DgSP     [ <=>                ]   3.17K  --.-KB/s    in 0s      \n",
            "\n",
            "2021-03-17 06:35:02 (37.5 MB/s) - ‘uc?id=0ByFQ96A4DgSPUm9wVWRLdm5qbmc’ saved [3249]\n",
            "\n"
          ],
          "name": "stdout"
        }
      ]
    },
    {
      "cell_type": "code",
      "metadata": {
        "colab": {
          "base_uri": "https://localhost:8080/"
        },
        "id": "GdeZY1JkCmO5",
        "outputId": "b0e6aa8b-e9ce-40f0-c8bd-e39f21441b1d"
      },
      "source": [
        "!FILE_ID=0ByFQ96A4DgSPUm9wVWRLdm5qbmc\r\n",
        "!FILE_NAME=vector_neologd.zip\r\n",
        "!curl -sc /tmp/cookie \"https://drive.google.com/uc?export=download&id=${FILE_ID}\" > /dev/null\r\n",
        "!CODE=\"$(awk '/_warning_/ {print $NF}' /tmp/cookie)\"  \r\n",
        "!curl -Lb /tmp/cookie \"https://drive.google.com/uc?export=download&confirm=${CODE}&id=${FILE_ID}\" -o ./data/vector_neologd.zip"
      ],
      "execution_count": 75,
      "outputs": [
        {
          "output_type": "stream",
          "text": [
            "  % Total    % Received % Xferd  Average Speed   Time    Time     Time  Current\n",
            "                                 Dload  Upload   Total   Spent    Left  Speed\n",
            "\r  0     0    0     0    0     0      0      0 --:--:-- --:--:-- --:--:--     0\r100   145    0   145    0     0   3452      0 --:--:-- --:--:-- --:--:--  3452\n"
          ],
          "name": "stdout"
        }
      ]
    },
    {
      "cell_type": "code",
      "metadata": {
        "colab": {
          "base_uri": "https://localhost:8080/"
        },
        "id": "A6wrkbGghpVC",
        "outputId": "85b63e7e-6fcd-4bd5-faf3-5c723b7cd499"
      },
      "source": [
        "FILE_ID=\"0ByFQ96A4DgSPUm9wVWRLdm5qbmc\"\r\n",
        "FILE_NAME=\"vector_neologd.zip\"\r\n",
        "# !echo $FILE_NAME\r\n",
        "!curl -sc /tmp/cookie \"https://drive.google.com/uc?export=download&id=$FILE_ID\" > /dev/null\r\n",
        "CODE=\"$(awk '/_warning_/ {print $NF}' /tmp/cookie)\"  \r\n",
        "!curl -Lb /tmp/cookie \"https://drive.google.com/uc?export=download&confirm=$CODE&id=$FILE_ID\" -o ./data/$FILE_NAME"
      ],
      "execution_count": 118,
      "outputs": [
        {
          "output_type": "stream",
          "text": [
            "  % Total    % Received % Xferd  Average Speed   Time    Time     Time  Current\n",
            "                                 Dload  Upload   Total   Spent    Left  Speed\n",
            "\r  0     0    0     0    0     0      0      0 --:--:-- --:--:-- --:--:--     0\r100   403    0   403    0     0   1946      0 --:--:-- --:--:-- --:--:--  1946\n",
            "\r  0     0    0     0    0     0      0      0 --:--:-- --:--:-- --:--:--     0\r  0     0    0     0    0     0      0      0 --:--:-- --:--:-- --:--:--     0\n",
            "  0     0    0     0    0     0      0      0 --:--:-- --:--:-- --:--:--     0\n",
            "100  331M    0  331M    0     0  64.2M      0 --:--:--  0:00:05 --:--:-- 87.9M\n"
          ],
          "name": "stdout"
        }
      ]
    },
    {
      "cell_type": "code",
      "metadata": {
        "colab": {
          "base_uri": "https://localhost:8080/"
        },
        "id": "uf1FvIHqDE1f",
        "outputId": "fb6feca4-7c9b-4717-a16f-733a0bb08583"
      },
      "source": [
        "ls ./data"
      ],
      "execution_count": 115,
      "outputs": [
        {
          "output_type": "stream",
          "text": [
            "\u001b[0m\u001b[01;34maclImdb\u001b[0m/              \u001b[01;34mentity_vector\u001b[0m/         wiki-news-300d-1M.vec.zip\n",
            "aclImdb_v1.tar.gz     vector_neologd.zip\n",
            "cabocha-0.69.tar.bz2  wiki-news-300d-1M.vec\n"
          ],
          "name": "stdout"
        }
      ]
    },
    {
      "cell_type": "code",
      "metadata": {
        "colab": {
          "base_uri": "https://localhost:8080/",
          "height": 35
        },
        "id": "hsKX57cqO_Nq",
        "outputId": "94a76cab-675c-4da2-f35f-bd2b27c250f4"
      },
      "source": [
        "pwd"
      ],
      "execution_count": 116,
      "outputs": [
        {
          "output_type": "execute_result",
          "data": {
            "application/vnd.google.colaboratory.intrinsic+json": {
              "type": "string"
            },
            "text/plain": [
              "'/content'"
            ]
          },
          "metadata": {
            "tags": []
          },
          "execution_count": 116
        }
      ]
    },
    {
      "cell_type": "code",
      "metadata": {
        "id": "xtjGEEX9t-Xg"
      },
      "source": [
        "# フォルダ「data」内の「vector_neologd.zip」を解凍する\n",
        "\n",
        "zip = zipfile.ZipFile(\"./data/vector_neologd.zip\")\n",
        "zip.extractall(\"./data/vector_neologd/\")  # ZIPを解凍\n",
        "zip.close()  # ZIPファイルをクローズ\n"
      ],
      "execution_count": 119,
      "outputs": []
    },
    {
      "cell_type": "code",
      "metadata": {
        "colab": {
          "base_uri": "https://localhost:8080/"
        },
        "id": "mGFI5pzCl4QT",
        "outputId": "2503b547-c6fc-4ec3-d31b-b182808f5075"
      },
      "source": [
        "cd ./data"
      ],
      "execution_count": 124,
      "outputs": [
        {
          "output_type": "stream",
          "text": [
            "/content/data\n"
          ],
          "name": "stdout"
        }
      ]
    },
    {
      "cell_type": "markdown",
      "metadata": {
        "id": "Bm4kxMXdmBHe"
      },
      "source": [
        "# 最後に解凍したファイルだけgoogle driveに入れる"
      ]
    },
    {
      "cell_type": "code",
      "metadata": {
        "colab": {
          "base_uri": "https://localhost:8080/"
        },
        "id": "0m41eNiEluro",
        "outputId": "16c80780-94bf-4680-bde6-fb0d6e76c369"
      },
      "source": [
        "!cp entity_vector wiki-news-300d-1M.vec aclImdb vector_neologd \"/content/drive/My Drive/Colab Notebooks/pytorch_advanced/data\""
      ],
      "execution_count": 125,
      "outputs": [
        {
          "output_type": "stream",
          "text": [
            "cp: -r not specified; omitting directory 'entity_vector'\n",
            "cp: -r not specified; omitting directory 'aclImdb'\n"
          ],
          "name": "stdout"
        }
      ]
    },
    {
      "cell_type": "markdown",
      "metadata": {
        "id": "dP0-ceyvt-Xh"
      },
      "source": [
        "以上"
      ]
    },
    {
      "cell_type": "code",
      "metadata": {
        "colab": {
          "base_uri": "https://localhost:8080/"
        },
        "id": "Qj6poCtnX887",
        "outputId": "1a811388-01e3-4c73-92bc-69015950e2df"
      },
      "source": [
        "FILE_ID=\"0B4y35FiV1wh7SDd1Q1dUQkZQaUU\"\r\n",
        "FILE_NAME=\"cabocha-0.69.tar.bz2\"\r\n",
        "# !echo $FILE_NAME\r\n",
        "!curl -sc /tmp/cookie \"https://drive.google.com/uc?export=download&id=$FILE_ID\" > /dev/null\r\n",
        "CODE=\"$(awk '/_warning_/ {print $NF}' /tmp/cookie)\"  \r\n",
        "!echo \"$(awk '/_warning_/ {print $NF}' /tmp/cookie)\"  \r\n",
        "!curl -Lb /tmp/cookie \"https://drive.google.com/uc?export=download&confirm=${CODE}&id=$FILE_ID\" -o $FILE_NAME"
      ],
      "execution_count": 109,
      "outputs": [
        {
          "output_type": "stream",
          "text": [
            "RF_K\n",
            "  % Total    % Received % Xferd  Average Speed   Time    Time     Time  Current\n",
            "                                 Dload  Upload   Total   Spent    Left  Speed\n",
            "100  1555  100  1555    0     0  97187      0 --:--:-- --:--:-- --:--:-- 97187\n"
          ],
          "name": "stdout"
        }
      ]
    },
    {
      "cell_type": "code",
      "metadata": {
        "colab": {
          "base_uri": "https://localhost:8080/"
        },
        "id": "lvcl69L8cGTT",
        "outputId": "26cf6e14-a349-4eae-d951-73d1f5d5f688"
      },
      "source": [
        "!echo \"$(awk '/_warning_/ {print $NF}' /tmp/cookie)\"  "
      ],
      "execution_count": 110,
      "outputs": [
        {
          "output_type": "stream",
          "text": [
            "RF_K\n"
          ],
          "name": "stdout"
        }
      ]
    },
    {
      "cell_type": "code",
      "metadata": {
        "colab": {
          "base_uri": "https://localhost:8080/"
        },
        "id": "Zhf2_myrfqp3",
        "outputId": "b66c80b9-2f1f-459a-ec88-8f6f599b6df5"
      },
      "source": [
        "! ls -l | awk '/^d/ { print }'"
      ],
      "execution_count": 104,
      "outputs": [
        {
          "output_type": "stream",
          "text": [
            "awk: line 1: syntax error at or near in\n"
          ],
          "name": "stdout"
        }
      ]
    },
    {
      "cell_type": "code",
      "metadata": {
        "colab": {
          "base_uri": "https://localhost:8080/"
        },
        "id": "EvV9nf4agC8s",
        "outputId": "45884605-2d44-4ed2-fe6a-ce3b9fcef3f9"
      },
      "source": [
        "ls"
      ],
      "execution_count": 101,
      "outputs": [
        {
          "output_type": "stream",
          "text": [
            " 0ByFQ96A4DgSPUm9wVWRLdm5qbmc   test_curl\n",
            " abc                           'uc?export=download&confirm=&id='\n",
            " cabocha-0.69.tar.bz2          'uc?export=download&confirm=&id=<FILE_ID>'\n",
            " \u001b[0m\u001b[01;34mdata\u001b[0m/                          vector_neologd.zip\n",
            " \u001b[01;34mdrive\u001b[0m/                         view\n",
            " \u001b[01;34msample_data\u001b[0m/\n"
          ],
          "name": "stdout"
        }
      ]
    },
    {
      "cell_type": "code",
      "metadata": {
        "colab": {
          "base_uri": "https://localhost:8080/"
        },
        "id": "Sdx53u_mf7eZ",
        "outputId": "433b212b-ba8f-454c-d69f-258f1a412ac6"
      },
      "source": [
        "!ls -l | awk '/^d/ { print $9 }'"
      ],
      "execution_count": 105,
      "outputs": [
        {
          "output_type": "stream",
          "text": [
            "data\n",
            "drive\n",
            "sample_data\n"
          ],
          "name": "stdout"
        }
      ]
    },
    {
      "cell_type": "code",
      "metadata": {
        "colab": {
          "base_uri": "https://localhost:8080/"
        },
        "id": "jr5eSy44gbI7",
        "outputId": "b4e0854e-b39e-4417-e592-43493aba5e3c"
      },
      "source": [
        "!ls -l | awk '/^d/ { print $NF }'"
      ],
      "execution_count": 106,
      "outputs": [
        {
          "output_type": "stream",
          "text": [
            "data\n",
            "drive\n",
            "sample_data\n"
          ],
          "name": "stdout"
        }
      ]
    },
    {
      "cell_type": "code",
      "metadata": {
        "colab": {
          "base_uri": "https://localhost:8080/"
        },
        "id": "1kYkkIraglY0",
        "outputId": "ae10bf11-652e-40f5-c20c-ce7fef7ae5ae"
      },
      "source": [
        "!awk '/_warning_/ {print $NF}'"
      ],
      "execution_count": 108,
      "outputs": [
        {
          "output_type": "stream",
          "text": [
            "^C\n"
          ],
          "name": "stdout"
        }
      ]
    },
    {
      "cell_type": "code",
      "metadata": {
        "colab": {
          "base_uri": "https://localhost:8080/"
        },
        "id": "viym0OeZYBR4",
        "outputId": "4ab7eda3-bf86-4ab3-f253-454702381989"
      },
      "source": [
        "# これは Python の変数。\r\n",
        "fc = \"test.txt\"\r\n",
        "\r\n",
        "# $name 形式で Python の変数を展開しています。\r\n",
        "!echo $fc\r\n",
        "\r\n",
        "# $name 形式で Python の変数を展開しています。シェルには \"test.txt\".bak という文字列が渡り、シェルでは全て文字列なのでそのまま結合されます。\r\n",
        "!echo \"$fc\".bak\r\n",
        "\r\n",
        "# {name} 形式で Python の変数が展開された後、$name 形式でシェルの変数が展開されていると思われます。\r\n",
        "# 今回の場合、まず $test.txt.bak がシェルに渡り、シェル側では $test は空文字列なので .txt.bak になります。\r\n",
        "# このことはたとえば fc = \"PATH.txt\" とすると確かめられます。\r\n",
        "!echo ${fc}.bak\r\n",
        "\r\n",
        "# {name} 形式で Python の変数を展開しています。\r\n",
        "!echo {fc}.bak"
      ],
      "execution_count": 82,
      "outputs": [
        {
          "output_type": "stream",
          "text": [
            "test.txt\n",
            "test.txt.bak\n",
            ".txt.bak\n",
            "test.txt.bak\n"
          ],
          "name": "stdout"
        }
      ]
    },
    {
      "cell_type": "code",
      "metadata": {
        "colab": {
          "base_uri": "https://localhost:8080/"
        },
        "id": "zjYyHiX1aZOw",
        "outputId": "583b2460-5a2a-48d3-fc15-b05163c88d8c"
      },
      "source": [
        "fc = \"test.txt\"\r\n",
        "!echo '{fc + '.bak'}'"
      ],
      "execution_count": 91,
      "outputs": [
        {
          "output_type": "stream",
          "text": [
            "test.txt.bak\n"
          ],
          "name": "stdout"
        }
      ]
    }
  ]
}