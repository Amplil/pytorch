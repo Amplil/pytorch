{
  "nbformat": 4,
  "nbformat_minor": 0,
  "metadata": {
    "kernelspec": {
      "display_name": "Python 3",
      "language": "python",
      "name": "python3"
    },
    "language_info": {
      "codemirror_mode": {
        "name": "ipython",
        "version": 3
      },
      "file_extension": ".py",
      "mimetype": "text/x-python",
      "name": "python",
      "nbconvert_exporter": "python",
      "pygments_lexer": "ipython3",
      "version": "3.6.7"
    },
    "colab": {
      "name": "7-7_transformer_training_inference.ipynb",
      "provenance": [],
      "toc_visible": true,
      "include_colab_link": true
    },
    "accelerator": "GPU"
  },
  "cells": [
    {
      "cell_type": "markdown",
      "metadata": {
        "id": "view-in-github",
        "colab_type": "text"
      },
      "source": [
        "<a href=\"https://colab.research.google.com/github/Amplil/pytorch/blob/master/7-7_transformer_training_inference.ipynb\" target=\"_parent\"><img src=\"https://colab.research.google.com/assets/colab-badge.svg\" alt=\"Open In Colab\"/></a>"
      ]
    },
    {
      "cell_type": "markdown",
      "metadata": {
        "id": "Kt64K0g71cOU"
      },
      "source": [
        "# 7.7 Transformerの学習・推論、判定根拠の可視化を実装\n",
        "\n",
        "- 本ファイルでは、ここまでで作成したTransformerモデルとIMDbのDataLoaderを使用してクラス分類を学習させます。テストデータで推論をし、さらに判断根拠となるAttentionを可視化します"
      ]
    },
    {
      "cell_type": "markdown",
      "metadata": {
        "id": "LFEElwrk1cOZ"
      },
      "source": [
        "# 7.7 学習目標\n",
        "\n",
        "1.\tTransformerの学習を実装できるようになる\n",
        "2.\tTransformerの判定時のAttention可視化を実装できるようになる\n"
      ]
    },
    {
      "cell_type": "markdown",
      "metadata": {
        "id": "k8C4Eral1cOa"
      },
      "source": [
        "# 事前準備\n",
        "\n",
        "- フォルダ「utils」内の関数やクラスを使用します"
      ]
    },
    {
      "cell_type": "code",
      "metadata": {
        "colab": {
          "base_uri": "https://localhost:8080/"
        },
        "id": "pLUoG5xs3NwJ",
        "outputId": "7b8188d0-470c-46cc-bdf7-81bff8d3b7fd"
      },
      "source": [
        "from google.colab import drive\n",
        "drive.mount('/content/drive')"
      ],
      "execution_count": 1,
      "outputs": [
        {
          "output_type": "stream",
          "text": [
            "Mounted at /content/drive\n"
          ],
          "name": "stdout"
        }
      ]
    },
    {
      "cell_type": "code",
      "metadata": {
        "colab": {
          "base_uri": "https://localhost:8080/"
        },
        "id": "pZrmkXDE3gmA",
        "outputId": "03588a38-a136-4836-91c4-f5bf296040cd"
      },
      "source": [
        "cd \"/content/drive/My Drive/Colab Notebooks/pytorch_advanced/7_nlp_sentiment_transformer\""
      ],
      "execution_count": 2,
      "outputs": [
        {
          "output_type": "stream",
          "text": [
            "/content/drive/My Drive/Colab Notebooks/pytorch_advanced/7_nlp_sentiment_transformer\n"
          ],
          "name": "stdout"
        }
      ]
    },
    {
      "cell_type": "code",
      "metadata": {
        "id": "yH33u-u73cmi"
      },
      "source": [
        "import sys\n",
        "sys.path.append(\"/content/drive/MyDrive/Colab Notebooks/packages\")"
      ],
      "execution_count": 3,
      "outputs": []
    },
    {
      "cell_type": "code",
      "metadata": {
        "id": "0rHET-ec1cOa"
      },
      "source": [
        "# パッケージのimport\n",
        "import numpy as np\n",
        "import random\n",
        "\n",
        "import torch\n",
        "import torch.nn as nn\n",
        "import torch.optim as optim\n",
        "\n",
        "import torchtext\n"
      ],
      "execution_count": 4,
      "outputs": []
    },
    {
      "cell_type": "code",
      "metadata": {
        "id": "f9MqvKyi1cOb"
      },
      "source": [
        "# 乱数のシードを設定\n",
        "torch.manual_seed(1234)\n",
        "np.random.seed(1234)\n",
        "random.seed(1234)"
      ],
      "execution_count": 5,
      "outputs": []
    },
    {
      "cell_type": "markdown",
      "metadata": {
        "id": "pxi7JSOW1cOb"
      },
      "source": [
        "# DatasetとDataLoaderを作成"
      ]
    },
    {
      "cell_type": "code",
      "metadata": {
        "id": "oyEA-8W5vIDu"
      },
      "source": [
        "import os\n",
        "import urllib.request\n",
        "import zipfile\n",
        "import tarfile\n",
        "# フォルダ「data」が存在しない場合は作成する\n",
        "data_dir = \"/content/data/\"\n",
        "if not os.path.exists(data_dir):\n",
        "    os.mkdir(data_dir)"
      ],
      "execution_count": 6,
      "outputs": []
    },
    {
      "cell_type": "code",
      "metadata": {
        "id": "2zKo-JqdvPDe"
      },
      "source": [
        "# IMDbデータセットをダウンロード。30秒ほどでダウンロードできます\n",
        "\n",
        "url = \"http://ai.stanford.edu/~amaas/data/sentiment/aclImdb_v1.tar.gz\"\n",
        "save_path = \"/content/data/aclImdb_v1.tar.gz\"\n",
        "if not os.path.exists(save_path):\n",
        "    urllib.request.urlretrieve(url, save_path)"
      ],
      "execution_count": 7,
      "outputs": []
    },
    {
      "cell_type": "code",
      "metadata": {
        "id": "Wnp9Ie4Wva_d"
      },
      "source": [
        "# './data/aclImdb_v1.tar.gz'の解凍　1分ほどかかります\n",
        "\n",
        "# tarファイルを読み込み\n",
        "tar = tarfile.open('/content/data/aclImdb_v1.tar.gz')\n",
        "tar.extractall('/content/data/')  # 解凍\n",
        "tar.close()  # ファイルをクローズ\n",
        "\n",
        "# フォルダ「data」内にフォルダ「aclImdb」というものができます。"
      ],
      "execution_count": 8,
      "outputs": []
    },
    {
      "cell_type": "code",
      "metadata": {
        "id": "statHnN21cOb"
      },
      "source": [
        "from utils.dataloader import get_IMDb_DataLoaders_and_TEXT\n",
        "\n",
        "# 読み込み\n",
        "train_dl, val_dl, test_dl, TEXT = get_IMDb_DataLoaders_and_TEXT(\n",
        "    max_length=256, batch_size=64)\n",
        "\n",
        "# 辞書オブジェクトにまとめる\n",
        "dataloaders_dict = {\"train\": train_dl, \"val\": val_dl}\n"
      ],
      "execution_count": 9,
      "outputs": []
    },
    {
      "cell_type": "markdown",
      "metadata": {
        "id": "0KdfHhlD1cOb"
      },
      "source": [
        "# ネットワークモデルの作成"
      ]
    },
    {
      "cell_type": "code",
      "metadata": {
        "colab": {
          "base_uri": "https://localhost:8080/"
        },
        "id": "rwrGRetv1cOc",
        "outputId": "646cd3a8-331b-4c58-f5cb-7b3782f6aa96"
      },
      "source": [
        "from utils.transformer import TransformerClassification\n",
        "\n",
        "# モデル構築\n",
        "net = TransformerClassification(\n",
        "    text_embedding_vectors=TEXT.vocab.vectors, d_model=300, max_seq_len=256, output_dim=2)\n",
        "\n",
        "# ネットワークの初期化を定義\n",
        "\n",
        "\n",
        "def weights_init(m):\n",
        "    classname = m.__class__.__name__\n",
        "    if classname.find('Linear') != -1:\n",
        "        # Liner層の初期化\n",
        "        nn.init.kaiming_normal_(m.weight)\n",
        "        if m.bias is not None:\n",
        "            nn.init.constant_(m.bias, 0.0)\n",
        "\n",
        "\n",
        "# 訓練モードに設定\n",
        "net.train()\n",
        "\n",
        "# TransformerBlockモジュールを初期化実行\n",
        "net.net3_1.apply(weights_init)\n",
        "net.net3_2.apply(weights_init)\n",
        "\n",
        "\n",
        "print('ネットワーク設定完了')\n"
      ],
      "execution_count": 10,
      "outputs": [
        {
          "output_type": "stream",
          "text": [
            "ネットワーク設定完了\n"
          ],
          "name": "stdout"
        }
      ]
    },
    {
      "cell_type": "markdown",
      "metadata": {
        "id": "hFMj-o6A1cOc"
      },
      "source": [
        "# 損失関数と最適化手法を定義"
      ]
    },
    {
      "cell_type": "code",
      "metadata": {
        "id": "rqABBlyM1cOd"
      },
      "source": [
        "# 損失関数の設定\n",
        "criterion = nn.CrossEntropyLoss()\n",
        "# nn.LogSoftmax()を計算してからnn.NLLLoss(negative log likelihood loss)を計算\n",
        "\n",
        "# 最適化手法の設定\n",
        "learning_rate = 2e-5\n",
        "optimizer = optim.Adam(net.parameters(), lr=learning_rate)\n"
      ],
      "execution_count": 11,
      "outputs": []
    },
    {
      "cell_type": "markdown",
      "metadata": {
        "id": "dzgGd3Yl1cOd"
      },
      "source": [
        "# 学習・検証を実施"
      ]
    },
    {
      "cell_type": "code",
      "metadata": {
        "id": "0PLVhd1b1cOd"
      },
      "source": [
        "# モデルを学習させる関数を作成\n",
        "\n",
        "\n",
        "def train_model(net, dataloaders_dict, criterion, optimizer, num_epochs):\n",
        "\n",
        "    # GPUが使えるかを確認\n",
        "    device = torch.device(\"cuda:0\" if torch.cuda.is_available() else \"cpu\")\n",
        "    print(\"使用デバイス：\", device)\n",
        "    print('-----start-------')\n",
        "    # ネットワークをGPUへ\n",
        "    net.to(device)\n",
        "\n",
        "    # ネットワークがある程度固定であれば、高速化させる\n",
        "    torch.backends.cudnn.benchmark = True\n",
        "\n",
        "    # epochのループ\n",
        "    for epoch in range(num_epochs):\n",
        "        # epochごとの訓練と検証のループ\n",
        "        for phase in ['train', 'val']:\n",
        "            if phase == 'train':\n",
        "                net.train()  # モデルを訓練モードに\n",
        "            else:\n",
        "                net.eval()   # モデルを検証モードに\n",
        "\n",
        "            epoch_loss = 0.0  # epochの損失和\n",
        "            epoch_corrects = 0  # epochの正解数\n",
        "\n",
        "            # データローダーからミニバッチを取り出すループ\n",
        "            for batch in (dataloaders_dict[phase]):\n",
        "                # batchはTextとLableの辞書オブジェクト\n",
        "\n",
        "                # GPUが使えるならGPUにデータを送る\n",
        "                inputs = batch.Text[0].to(device)  # 文章\n",
        "                labels = batch.Label.to(device)  # ラベル\n",
        "\n",
        "                # optimizerを初期化\n",
        "                optimizer.zero_grad()\n",
        "\n",
        "                # 順伝搬（forward）計算\n",
        "                with torch.set_grad_enabled(phase == 'train'):\n",
        "\n",
        "                    # mask作成\n",
        "                    input_pad = 1  # 単語のIDにおいて、'<pad>': 1 なので\n",
        "                    input_mask = (inputs != input_pad)\n",
        "\n",
        "                    # Transformerに入力\n",
        "                    outputs, _, _ = net(inputs, input_mask)\n",
        "                    loss = criterion(outputs, labels)  # 損失を計算\n",
        "\n",
        "                    _, preds = torch.max(outputs, 1)  # ラベルを予測\n",
        "\n",
        "                    # 訓練時はバックプロパゲーション\n",
        "                    if phase == 'train':\n",
        "                        loss.backward()\n",
        "                        optimizer.step()\n",
        "\n",
        "                    # 結果の計算\n",
        "                    epoch_loss += loss.item() * inputs.size(0)  # lossの合計を更新\n",
        "                    # 正解数の合計を更新\n",
        "                    epoch_corrects += torch.sum(preds == labels.data)\n",
        "\n",
        "            # epochごとのlossと正解率\n",
        "            epoch_loss = epoch_loss / len(dataloaders_dict[phase].dataset)\n",
        "            epoch_acc = epoch_corrects.double(\n",
        "            ) / len(dataloaders_dict[phase].dataset)\n",
        "\n",
        "            print('Epoch {}/{} | {:^5} |  Loss: {:.4f} Acc: {:.4f}'.format(epoch+1, num_epochs,\n",
        "                                                                           phase, epoch_loss, epoch_acc))\n",
        "\n",
        "    return net\n"
      ],
      "execution_count": 12,
      "outputs": []
    },
    {
      "cell_type": "code",
      "metadata": {
        "id": "0u4jyKKN1cOd",
        "colab": {
          "base_uri": "https://localhost:8080/"
        },
        "outputId": "72789f60-0523-4c84-eb69-53ae0b63175e"
      },
      "source": [
        "# 学習・検証を実行する 15分ほどかかります\n",
        "num_epochs = 10\n",
        "net_trained = train_model(net, dataloaders_dict,\n",
        "                          criterion, optimizer, num_epochs=num_epochs)\n"
      ],
      "execution_count": 18,
      "outputs": [
        {
          "output_type": "stream",
          "text": [
            "使用デバイス： cuda:0\n",
            "-----start-------\n",
            "Epoch 1/10 | train |  Loss: 0.3251 Acc: 0.8609\n",
            "Epoch 1/10 |  val  |  Loss: 0.3307 Acc: 0.8666\n",
            "Epoch 2/10 | train |  Loss: 0.3194 Acc: 0.8626\n",
            "Epoch 2/10 |  val  |  Loss: 0.3317 Acc: 0.8668\n",
            "Epoch 3/10 | train |  Loss: 0.3170 Acc: 0.8649\n",
            "Epoch 3/10 |  val  |  Loss: 0.3405 Acc: 0.8632\n",
            "Epoch 4/10 | train |  Loss: 0.3091 Acc: 0.8678\n",
            "Epoch 4/10 |  val  |  Loss: 0.3416 Acc: 0.8640\n",
            "Epoch 5/10 | train |  Loss: 0.3094 Acc: 0.8672\n",
            "Epoch 5/10 |  val  |  Loss: 0.3260 Acc: 0.8682\n",
            "Epoch 6/10 | train |  Loss: 0.3031 Acc: 0.8706\n",
            "Epoch 6/10 |  val  |  Loss: 0.3328 Acc: 0.8642\n",
            "Epoch 7/10 | train |  Loss: 0.3005 Acc: 0.8724\n",
            "Epoch 7/10 |  val  |  Loss: 0.3332 Acc: 0.8638\n",
            "Epoch 8/10 | train |  Loss: 0.2943 Acc: 0.8753\n",
            "Epoch 8/10 |  val  |  Loss: 0.3351 Acc: 0.8652\n",
            "Epoch 9/10 | train |  Loss: 0.2896 Acc: 0.8779\n",
            "Epoch 9/10 |  val  |  Loss: 0.3316 Acc: 0.8646\n",
            "Epoch 10/10 | train |  Loss: 0.2840 Acc: 0.8798\n",
            "Epoch 10/10 |  val  |  Loss: 0.3341 Acc: 0.8658\n"
          ],
          "name": "stdout"
        }
      ]
    },
    {
      "cell_type": "markdown",
      "metadata": {
        "id": "F047sluB1cOe"
      },
      "source": [
        "# テストデータでの正解率を求める"
      ]
    },
    {
      "cell_type": "code",
      "metadata": {
        "id": "Ur0Wtjl11cOe",
        "colab": {
          "base_uri": "https://localhost:8080/"
        },
        "outputId": "143342d8-af2b-45d9-ad37-8e8d8c99ea02"
      },
      "source": [
        "# device\n",
        "device = torch.device(\"cuda:0\" if torch.cuda.is_available() else \"cpu\")\n",
        "\n",
        "net_trained.eval()   # モデルを検証モードに\n",
        "net_trained.to(device)\n",
        "\n",
        "epoch_corrects = 0  # epochの正解数\n",
        "\n",
        "for batch in (test_dl):  # testデータのDataLoader\n",
        "    # batchはTextとLableの辞書オブジェクト\n",
        "    \n",
        "    # GPUが使えるならGPUにデータを送る\n",
        "    inputs = batch.Text[0].to(device)  # 文章\n",
        "    labels = batch.Label.to(device)  # ラベル\n",
        "\n",
        "    # 順伝搬（forward）計算\n",
        "    with torch.set_grad_enabled(False):\n",
        "\n",
        "        # mask作成\n",
        "        input_pad = 1  # 単語のIDにおいて、'<pad>': 1 なので\n",
        "        input_mask = (inputs != input_pad)\n",
        "\n",
        "        # Transformerに入力\n",
        "        outputs, _, _ = net_trained(inputs, input_mask)\n",
        "        _, preds = torch.max(outputs, 1)  # ラベルを予測\n",
        "\n",
        "        # 結果の計算\n",
        "        # 正解数の合計を更新\n",
        "        epoch_corrects += torch.sum(preds == labels.data)\n",
        "\n",
        "# 正解率\n",
        "epoch_acc = epoch_corrects.double() / len(test_dl.dataset)\n",
        "\n",
        "print('テストデータ{}個での正解率：{:.4f}'.format(len(test_dl.dataset),epoch_acc))\n"
      ],
      "execution_count": 14,
      "outputs": [
        {
          "output_type": "stream",
          "text": [
            "テストデータ25000個での正解率：0.8465\n"
          ],
          "name": "stdout"
        }
      ]
    },
    {
      "cell_type": "markdown",
      "metadata": {
        "id": "ai4ChESo1cOe"
      },
      "source": [
        "# Attentionの可視化で判定根拠を探る\n",
        "\n"
      ]
    },
    {
      "cell_type": "code",
      "metadata": {
        "id": "_hXRgX551cOe"
      },
      "source": [
        "# HTMLを作成する関数を実装\n",
        "\n",
        "\n",
        "def highlight(word, attn):\n",
        "    \"Attentionの値が大きいと文字の背景が濃い赤になるhtmlを出力させる関数\"\n",
        "\n",
        "    html_color = '#%02X%02X%02X' % (\n",
        "        255, int(255*(1 - attn)), int(255*(1 - attn)))\n",
        "    return '<span style=\"background-color: {}\"> {}</span>'.format(html_color, word)\n",
        "\n",
        "\n",
        "def mk_html(index, batch, preds, normlized_weights_1, normlized_weights_2, TEXT):\n",
        "    \"HTMLデータを作成する\"\n",
        "\n",
        "    # indexの結果を抽出\n",
        "    sentence = batch.Text[0][index]  # 文章\n",
        "    label = batch.Label[index]  # ラベル\n",
        "    pred = preds[index]  # 予測\n",
        "\n",
        "    # indexのAttentionを抽出と規格化\n",
        "    attens1 = normlized_weights_1[index, 0, :]  # 0番目の<cls>のAttention\n",
        "    attens1 /= attens1.max()\n",
        "\n",
        "    attens2 = normlized_weights_2[index, 0, :]  # 0番目の<cls>のAttention\n",
        "    attens2 /= attens2.max()\n",
        "\n",
        "    # ラベルと予測結果を文字に置き換え\n",
        "    if label == 0:\n",
        "        label_str = \"Negative\"\n",
        "    else:\n",
        "        label_str = \"Positive\"\n",
        "\n",
        "    if pred == 0:\n",
        "        pred_str = \"Negative\"\n",
        "    else:\n",
        "        pred_str = \"Positive\"\n",
        "\n",
        "    # 表示用のHTMLを作成する\n",
        "    html = '正解ラベル：{}<br>推論ラベル：{}<br><br>'.format(label_str, pred_str)\n",
        "\n",
        "    # 1段目のAttention\n",
        "    html += '[TransformerBlockの1段目のAttentionを可視化]<br>'\n",
        "    for word, attn in zip(sentence, attens1):\n",
        "        html += highlight(TEXT.vocab.itos[word], attn)\n",
        "    html += \"<br><br>\"\n",
        "\n",
        "    # 2段目のAttention\n",
        "    html += '[TransformerBlockの2段目のAttentionを可視化]<br>'\n",
        "    for word, attn in zip(sentence, attens2):\n",
        "        html += highlight(TEXT.vocab.itos[word], attn)\n",
        "\n",
        "    html += \"<br><br>\"\n",
        "\n",
        "    return html\n"
      ],
      "execution_count": 15,
      "outputs": []
    },
    {
      "cell_type": "code",
      "metadata": {
        "id": "LCBqg5ao1cOf",
        "colab": {
          "base_uri": "https://localhost:8080/",
          "height": 340
        },
        "outputId": "4db71ef7-4aff-4e92-fbc3-396e538c127a"
      },
      "source": [
        "from IPython.display import HTML\n",
        "\n",
        "# Transformerで処理\n",
        "\n",
        "# ミニバッチの用意\n",
        "batch = next(iter(test_dl))\n",
        "\n",
        "# GPUが使えるならGPUにデータを送る\n",
        "inputs = batch.Text[0].to(device)  # 文章\n",
        "labels = batch.Label.to(device)  # ラベル\n",
        "\n",
        "# mask作成\n",
        "input_pad = 1  # 単語のIDにおいて、'<pad>': 1 なので\n",
        "input_mask = (inputs != input_pad)\n",
        "\n",
        "# Transformerに入力\n",
        "outputs, normlized_weights_1, normlized_weights_2 = net_trained(\n",
        "    inputs, input_mask)\n",
        "_, preds = torch.max(outputs, 1)  # ラベルを予測\n",
        "\n",
        "\n",
        "index = 3  # 出力させたいデータ\n",
        "html_output = mk_html(index, batch, preds, normlized_weights_1,\n",
        "                      normlized_weights_2, TEXT)  # HTML作成\n",
        "HTML(html_output)  # HTML形式で出力\n"
      ],
      "execution_count": 19,
      "outputs": [
        {
          "output_type": "execute_result",
          "data": {
            "text/html": [
              "正解ラベル：Positive<br>推論ラベル：Positive<br><br>[TransformerBlockの1段目のAttentionを可視化]<br><span style=\"background-color: #FFFDFD\"> <cls></span><span style=\"background-color: #FFFEFE\"> the</span><span style=\"background-color: #FFFDFD\"> man</span><span style=\"background-color: #FFFEFE\"> with</span><span style=\"background-color: #FFFEFE\"> the</span><span style=\"background-color: #FFE7E7\"> golden</span><span style=\"background-color: #FFFEFE\"> arm</span><span style=\"background-color: #FFFBFB\"> was</span><span style=\"background-color: #FFFCFC\"> one</span><span style=\"background-color: #FFFEFE\"> of</span><span style=\"background-color: #FFFEFE\"> the</span><span style=\"background-color: #FFFCFC\"> first</span><span style=\"background-color: #FFF9F9\"> films</span><span style=\"background-color: #FFFEFE\"> to</span><span style=\"background-color: #FFFDFD\"> have</span><span style=\"background-color: #FFFEFE\"> as</span><span style=\"background-color: #FFFEFE\"> its</span><span style=\"background-color: #FFFDFD\"> main</span><span style=\"background-color: #FFF5F5\"> topic</span><span style=\"background-color: #FFFEFE\"> and</span><span style=\"background-color: #FFFEFE\"> ,</span><span style=\"background-color: #FFFEFE\"> in</span><span style=\"background-color: #FFFEFE\"> some</span><span style=\"background-color: #FFFDFD\"> respects</span><span style=\"background-color: #FFFEFE\"> ,</span><span style=\"background-color: #FFFEFE\"> the</span><span style=\"background-color: #FFF1F1\"> message</span><span style=\"background-color: #FFFEFE\"> the</span><span style=\"background-color: #FFA1A1\"> tragedy</span><span style=\"background-color: #FFFEFE\"> of</span><span style=\"background-color: #FF8E8E\"> heroin</span><span style=\"background-color: #FF0000\"> addiction</span><span style=\"background-color: #FFFEFE\"> .</span><span style=\"background-color: #FFFEFE\"> it</span><span style=\"background-color: #FFFEFE\"> s</span><span style=\"background-color: #FFFAFA\"> nowhere</span><span style=\"background-color: #FFFEFE\"> near</span><span style=\"background-color: #FFFDFD\"> a</span><span style=\"background-color: #FFCACA\"> great</span><span style=\"background-color: #FFFAFA\"> film</span><span style=\"background-color: #FFFEFE\"> ,</span><span style=\"background-color: #FFFEFE\"> but</span><span style=\"background-color: #FFFEFE\"> its</span><span style=\"background-color: #FFD9D9\"> importance</span><span style=\"background-color: #FFDEDE\"> lies</span><span style=\"background-color: #FFFEFE\"> in</span><span style=\"background-color: #FFFDFD\"> otto</span><span style=\"background-color: #FFFEFE\"> preminger</span><span style=\"background-color: #FFFEFE\"> s</span><span style=\"background-color: #FFF7F7\"> dedication</span><span style=\"background-color: #FFFEFE\"> to</span><span style=\"background-color: #FFFEFE\"> making</span><span style=\"background-color: #FFFEFE\"> it</span><span style=\"background-color: #FFFEFE\"> feel</span><span style=\"background-color: #FFECEC\"> real</span><span style=\"background-color: #FFFEFE\"> and</span><span style=\"background-color: #FFFEFE\"> on</span><span style=\"background-color: #FFFEFE\"> the</span><span style=\"background-color: #FFFBFB\"> edge</span><span style=\"background-color: #FFFEFE\"> of</span><span style=\"background-color: #FFE6E6\"> melodrama</span><span style=\"background-color: #FFFEFE\"> and</span><span style=\"background-color: #FFFAFA\"> naturalism</span><span style=\"background-color: #FFFEFE\"> .</span><span style=\"background-color: #FFFEFE\"> what</span><span style=\"background-color: #FFFDFD\"> i</span><span style=\"background-color: #FFACAC\"> liked</span><span style=\"background-color: #FFFEFE\"> is</span><span style=\"background-color: #FFFEFE\"> that</span><span style=\"background-color: #FFFEFE\"> it</span><span style=\"background-color: #FFFEFE\"> s</span><span style=\"background-color: #FFECEC\"> not</span><span style=\"background-color: #FFFEFE\"> so</span><span style=\"background-color: #FFFCFC\"> much</span><span style=\"background-color: #FFFEFE\"> an</span><span style=\"background-color: #FFFDFD\"> expose</span><span style=\"background-color: #FFFEFE\"> of</span><span style=\"background-color: #FFE5E5\"> junkies</span><span style=\"background-color: #FFFEFE\"> if</span><span style=\"background-color: #FFFEFE\"> you</span><span style=\"background-color: #FFFBFB\"> want</span><span style=\"background-color: #FFFEFE\"> the</span><span style=\"background-color: #FFDFDF\"> best</span><span style=\"background-color: #FFFCFC\"> expose</span><span style=\"background-color: #FFFEFE\"> of</span><span style=\"background-color: #FFFDFD\"> that</span><span style=\"background-color: #FFFAFA\"> read</span><span style=\"background-color: #FFFAFA\"> naked</span><span style=\"background-color: #FFF8F8\"> lunch</span><span style=\"background-color: #FFFEFE\"> ,</span><span style=\"background-color: #FFFEFE\"> if</span><span style=\"background-color: #FFFEFE\"> you</span><span style=\"background-color: #FFF6F6\"> can</span><span style=\"background-color: #FFFEFE\"> get</span><span style=\"background-color: #FFFEFE\"> through</span><span style=\"background-color: #FFFEFE\"> it</span><span style=\"background-color: #FFFEFE\"> anyway</span><span style=\"background-color: #FFFEFE\"> ,</span><span style=\"background-color: #FFFDFD\"> besides</span><span style=\"background-color: #FFFEFE\"> the</span><span style=\"background-color: #FFF1F1\"> point</span><span style=\"background-color: #FFFEFE\"> ,</span><span style=\"background-color: #FFFEFE\"> but</span><span style=\"background-color: #FFFEFE\"> the</span><span style=\"background-color: #FFF1F1\"> nature</span><span style=\"background-color: #FFFDFD\"> of</span><span style=\"background-color: #FFFEFE\"> the</span><span style=\"background-color: #FFFDFD\"> urban</span><span style=\"background-color: #FFFCFC\"> environment</span><span style=\"background-color: #FFFEFE\"> frankie</span><span style=\"background-color: #FFF7F7\"> machine</span><span style=\"background-color: #FFFEFE\"> lives</span><span style=\"background-color: #FFFEFE\"> .</span><span style=\"background-color: #FFFEFE\"> he</span><span style=\"background-color: #FFF8F8\"> expects</span><span style=\"background-color: #FFFEFE\"> after</span><span style=\"background-color: #FFFEFE\"> he</span><span style=\"background-color: #FFFEFE\"> gets</span><span style=\"background-color: #FFFEFE\"> out</span><span style=\"background-color: #FFFEFE\"> of</span><span style=\"background-color: #FFF6F6\"> prison</span><span style=\"background-color: #FFFEFE\"> for</span><span style=\"background-color: #FFFCFC\"> dealing</span><span style=\"background-color: #FFFEFE\"> to</span><span style=\"background-color: #FFFEFE\"> go</span><span style=\"background-color: #FFFEFE\"> on</span><span style=\"background-color: #FFFEFE\"> the</span><span style=\"background-color: #FFFDFD\"> straight</span><span style=\"background-color: #FFFEFE\"> and</span><span style=\"background-color: #FFFCFC\"> narrow</span><span style=\"background-color: #FFFEFE\"> ,</span><span style=\"background-color: #FFFEFE\"> to</span><span style=\"background-color: #FFFEFE\"> become</span><span style=\"background-color: #FFFEFE\"> a</span><span style=\"background-color: #FFFBFB\"> drummer</span><span style=\"background-color: #FFFEFE\"> in</span><span style=\"background-color: #FFFDFD\"> a</span><span style=\"background-color: #FFFEFE\"> band</span><span style=\"background-color: #FFFEFE\"> and</span><span style=\"background-color: #FFFEFE\"> make</span><span style=\"background-color: #FFFEFE\"> it</span><span style=\"background-color: #FFFEFE\"> <unk></span><span style=\"background-color: #FFFEFE\"> as</span><span style=\"background-color: #FFFCFC\"> a</span><span style=\"background-color: #FFFDFD\"> musician</span><span style=\"background-color: #FFFEFE\"> .</span><span style=\"background-color: #FFFEFE\"> but</span><span style=\"background-color: #FFFEFE\"> he</span><span style=\"background-color: #FFFDFD\"> has</span><span style=\"background-color: #FFFEFE\"> his</span><span style=\"background-color: #FFFDFD\"> crippled</span><span style=\"background-color: #FFFEFE\"> wife</span><span style=\"background-color: #FFFEFE\"> <unk></span><span style=\"background-color: #FFFEFE\"> ,</span><span style=\"background-color: #FFFEFE\"> who</span><span style=\"background-color: #FFF3F3\"> can</span><span style=\"background-color: #FFFCFC\"> t</span><span style=\"background-color: #FFFDFD\"> work</span><span style=\"background-color: #FFFEFE\"> and</span><span style=\"background-color: #FFFAFA\"> needs</span><span style=\"background-color: #FFF8F8\"> money</span><span style=\"background-color: #FFFEFE\"> and</span><span style=\"background-color: #FFFDFD\"> often</span><span style=\"background-color: #FFFCFC\"> complains</span><span style=\"background-color: #FFFEFE\"> ,</span><span style=\"background-color: #FFFEFE\"> and</span><span style=\"background-color: #FFFEFE\"> then</span><span style=\"background-color: #FFFEFE\"> there</span><span style=\"background-color: #FFFEFE\"> s</span><span style=\"background-color: #FFFEFE\"> the</span><span style=\"background-color: #FFFEFE\"> old</span><span style=\"background-color: #FFFEFE\"> neighborhood</span><span style=\"background-color: #FFFEFE\"> he</span><span style=\"background-color: #FFF6F6\"> can</span><span style=\"background-color: #FFFCFC\"> t</span><span style=\"background-color: #FFD3D3\"> escape</span><span style=\"background-color: #FFF6F6\"> seeing</span><span style=\"background-color: #FFFDFD\"> louie</span><span style=\"background-color: #FFFCFC\"> darren</span><span style=\"background-color: #FFFEFE\"> mcgavin</span><span style=\"background-color: #FFFEFE\"> ,</span><span style=\"background-color: #FFFEFE\"> who</span><span style=\"background-color: #FFFEFE\"> is</span><span style=\"background-color: #FFFCFC\"> still</span><span style=\"background-color: #FFFDFD\"> doing</span><span style=\"background-color: #FFFBFB\"> back</span><span style=\"background-color: #FFF1F1\"> room</span><span style=\"background-color: #FFF4F4\"> card</span><span style=\"background-color: #FFF6F6\"> games</span><span style=\"background-color: #FFFEFE\"> and</span><span style=\"background-color: #FFFEFE\"> ,</span><span style=\"background-color: #FFFDFD\"> yes</span><span style=\"background-color: #FFFEFE\"> ,</span><span style=\"background-color: #FFFDFD\"> pushing</span><span style=\"background-color: #FF1212\"> dope</span><span style=\"background-color: #FFFEFE\"> .</span><span style=\"background-color: #FFFEFE\"> like</span><span style=\"background-color: #FFF9F9\"> mean</span><span style=\"background-color: #FFF9F9\"> streets</span><span style=\"background-color: #FFFEFE\"> ,</span><span style=\"background-color: #FFFEFE\"> it</span><span style=\"background-color: #FFFEFE\"> s</span><span style=\"background-color: #FFFBFB\"> hard</span><span style=\"background-color: #FFFEFE\"> to</span><span style=\"background-color: #FFD7D7\"> escape</span><span style=\"background-color: #FFFEFE\"> the</span><span style=\"background-color: #FFFEFE\"> <unk></span><span style=\"background-color: #FFFEFE\"> unless</span><span style=\"background-color: #FFFEFE\"> you</span><span style=\"background-color: #FFFEFE\"> leave</span><span style=\"background-color: #FFFEFE\"> .</span><span style=\"background-color: #FFFEFE\"> but</span><span style=\"background-color: #FFFEFE\"> then</span><span style=\"background-color: #FFFDFD\"> again</span><span style=\"background-color: #FFFEFE\"> ,</span><span style=\"background-color: #FFFEFE\"> it</span><span style=\"background-color: #FFFEFE\"> s</span><span style=\"background-color: #FFF9F9\"> hard</span><span style=\"background-color: #FFFEFE\"> for</span><span style=\"background-color: #FFFEFE\"> frankie</span><span style=\"background-color: #FFF4F4\"> machine</span><span style=\"background-color: #FFEAEA\"> not</span><span style=\"background-color: #FFFEFE\"> to</span><span style=\"background-color: #FFF0F0\"> try</span><span style=\"background-color: #FFFEFE\"> and</span><span style=\"background-color: #FFFBFB\"> operate</span><span style=\"background-color: #FFECEC\"> naturally</span><span style=\"background-color: #FFFEFE\"> in</span><span style=\"background-color: #FFFCFC\"> this</span><span style=\"background-color: #FFFDFD\"> urban</span><span style=\"background-color: #FFFEFE\"> quarter</span><span style=\"background-color: #FFFEFE\"> .</span><span style=\"background-color: #FFFEFE\"> it</span><span style=\"background-color: #FFFEFE\"> s</span><span style=\"background-color: #FFFBFB\"> just</span><span style=\"background-color: #FFFDFD\"> that</span><span style=\"background-color: #FFFEFE\"> he</span><span style=\"background-color: #FFF3F3\"> can</span><span style=\"background-color: #FFFCFC\"> t</span><span style=\"background-color: #FFD8D8\"> escape</span><span style=\"background-color: #FFFEFE\"> the</span><span style=\"background-color: #FF3232\"> temptation</span><span style=\"background-color: #FFFEFE\"> of</span><span style=\"background-color: #FFD3D3\"> junk</span><span style=\"background-color: #FFFEFE\"> when</span><span style=\"background-color: #FFFEFE\"> he</span><span style=\"background-color: #FFFEFE\"> s</span><span style=\"background-color: #FFFCFC\"> <unk></span><span style=\"background-color: #FFFEFE\"> on</span><span style=\"background-color: #FFFBFB\"> a</span><span style=\"background-color: #FF5656\"> phony</span><span style=\"background-color: #FF3232\"> theft</span><span style=\"background-color: #FFFCFC\"> charge</span><span style=\"background-color: #FFFEFE\"> with</span><span style=\"background-color: #FFFDFD\"> his</span><span style=\"background-color: #FFFDFD\"> <eos></span><br><br>[TransformerBlockの2段目のAttentionを可視化]<br><span style=\"background-color: #FFFBFB\"> <cls></span><span style=\"background-color: #FFFEFE\"> the</span><span style=\"background-color: #FFF7F7\"> man</span><span style=\"background-color: #FFFCFC\"> with</span><span style=\"background-color: #FFFEFE\"> the</span><span style=\"background-color: #FFF6F6\"> golden</span><span style=\"background-color: #FFE6E6\"> arm</span><span style=\"background-color: #FFFEFE\"> was</span><span style=\"background-color: #FFFAFA\"> one</span><span style=\"background-color: #FFFEFE\"> of</span><span style=\"background-color: #FFFEFE\"> the</span><span style=\"background-color: #FFFEFE\"> first</span><span style=\"background-color: #FFF9F9\"> films</span><span style=\"background-color: #FFFEFE\"> to</span><span style=\"background-color: #FFFDFD\"> have</span><span style=\"background-color: #FFFAFA\"> as</span><span style=\"background-color: #FFF6F6\"> its</span><span style=\"background-color: #FFF9F9\"> main</span><span style=\"background-color: #FFFEFE\"> topic</span><span style=\"background-color: #FFFDFD\"> and</span><span style=\"background-color: #FFFEFE\"> ,</span><span style=\"background-color: #FFFDFD\"> in</span><span style=\"background-color: #FFF6F6\"> some</span><span style=\"background-color: #FFB9B9\"> respects</span><span style=\"background-color: #FFFEFE\"> ,</span><span style=\"background-color: #FFFEFE\"> the</span><span style=\"background-color: #FFFEFE\"> message</span><span style=\"background-color: #FFFEFE\"> the</span><span style=\"background-color: #FFF3F3\"> tragedy</span><span style=\"background-color: #FFFEFE\"> of</span><span style=\"background-color: #FFFEFE\"> heroin</span><span style=\"background-color: #FFFDFD\"> addiction</span><span style=\"background-color: #FFFDFD\"> .</span><span style=\"background-color: #FFF6F6\"> it</span><span style=\"background-color: #FFF6F6\"> s</span><span style=\"background-color: #FF8181\"> nowhere</span><span style=\"background-color: #FFF4F4\"> near</span><span style=\"background-color: #FFFDFD\"> a</span><span style=\"background-color: #FFD5D5\"> great</span><span style=\"background-color: #FFFDFD\"> film</span><span style=\"background-color: #FFFEFE\"> ,</span><span style=\"background-color: #FFF4F4\"> but</span><span style=\"background-color: #FFFAFA\"> its</span><span style=\"background-color: #FFFCFC\"> importance</span><span style=\"background-color: #FF9C9C\"> lies</span><span style=\"background-color: #FFFEFE\"> in</span><span style=\"background-color: #FFEDED\"> otto</span><span style=\"background-color: #FFFDFD\"> preminger</span><span style=\"background-color: #FFF7F7\"> s</span><span style=\"background-color: #FFF5F5\"> dedication</span><span style=\"background-color: #FFFEFE\"> to</span><span style=\"background-color: #FFFEFE\"> making</span><span style=\"background-color: #FFF6F6\"> it</span><span style=\"background-color: #FFF5F5\"> feel</span><span style=\"background-color: #FFD0D0\"> real</span><span style=\"background-color: #FFFDFD\"> and</span><span style=\"background-color: #FFFEFE\"> on</span><span style=\"background-color: #FFFEFE\"> the</span><span style=\"background-color: #FFE7E7\"> edge</span><span style=\"background-color: #FFFEFE\"> of</span><span style=\"background-color: #FF8A8A\"> melodrama</span><span style=\"background-color: #FFFDFD\"> and</span><span style=\"background-color: #FFFBFB\"> naturalism</span><span style=\"background-color: #FFFDFD\"> .</span><span style=\"background-color: #FFF9F9\"> what</span><span style=\"background-color: #FFFDFD\"> i</span><span style=\"background-color: #FFFCFC\"> liked</span><span style=\"background-color: #FFECEC\"> is</span><span style=\"background-color: #FFFAFA\"> that</span><span style=\"background-color: #FFF8F8\"> it</span><span style=\"background-color: #FFFAFA\"> s</span><span style=\"background-color: #FFF8F8\"> not</span><span style=\"background-color: #FFF3F3\"> so</span><span style=\"background-color: #FFCBCB\"> much</span><span style=\"background-color: #FFF5F5\"> an</span><span style=\"background-color: #FFEBEB\"> expose</span><span style=\"background-color: #FFFEFE\"> of</span><span style=\"background-color: #FFF7F7\"> junkies</span><span style=\"background-color: #FF0808\"> if</span><span style=\"background-color: #FFF7F7\"> you</span><span style=\"background-color: #FFFBFB\"> want</span><span style=\"background-color: #FFFEFE\"> the</span><span style=\"background-color: #FFBCBC\"> best</span><span style=\"background-color: #FFF1F1\"> expose</span><span style=\"background-color: #FFFEFE\"> of</span><span style=\"background-color: #FFFAFA\"> that</span><span style=\"background-color: #FFFEFE\"> read</span><span style=\"background-color: #FFF4F4\"> naked</span><span style=\"background-color: #FFFDFD\"> lunch</span><span style=\"background-color: #FFFEFE\"> ,</span><span style=\"background-color: #FF3535\"> if</span><span style=\"background-color: #FFF8F8\"> you</span><span style=\"background-color: #FFF8F8\"> can</span><span style=\"background-color: #FFFDFD\"> get</span><span style=\"background-color: #FFFAFA\"> through</span><span style=\"background-color: #FFF8F8\"> it</span><span style=\"background-color: #FFBEBE\"> anyway</span><span style=\"background-color: #FFFEFE\"> ,</span><span style=\"background-color: #FFC7C7\"> besides</span><span style=\"background-color: #FFFEFE\"> the</span><span style=\"background-color: #FFFCFC\"> point</span><span style=\"background-color: #FFFEFE\"> ,</span><span style=\"background-color: #FFF6F6\"> but</span><span style=\"background-color: #FFFEFE\"> the</span><span style=\"background-color: #FFFDFD\"> nature</span><span style=\"background-color: #FFFEFE\"> of</span><span style=\"background-color: #FFFEFE\"> the</span><span style=\"background-color: #FFFEFE\"> urban</span><span style=\"background-color: #FFFCFC\"> environment</span><span style=\"background-color: #FFFDFD\"> frankie</span><span style=\"background-color: #FFFCFC\"> machine</span><span style=\"background-color: #FFD2D2\"> lives</span><span style=\"background-color: #FFFDFD\"> .</span><span style=\"background-color: #FFE8E8\"> he</span><span style=\"background-color: #FFF9F9\"> expects</span><span style=\"background-color: #FFFCFC\"> after</span><span style=\"background-color: #FFE3E3\"> he</span><span style=\"background-color: #FFD3D3\"> gets</span><span style=\"background-color: #FFFBFB\"> out</span><span style=\"background-color: #FFFEFE\"> of</span><span style=\"background-color: #FFFEFE\"> prison</span><span style=\"background-color: #FFFEFE\"> for</span><span style=\"background-color: #FFFEFE\"> dealing</span><span style=\"background-color: #FFFEFE\"> to</span><span style=\"background-color: #FFF6F6\"> go</span><span style=\"background-color: #FFFEFE\"> on</span><span style=\"background-color: #FFFEFE\"> the</span><span style=\"background-color: #FFF2F2\"> straight</span><span style=\"background-color: #FFFEFE\"> and</span><span style=\"background-color: #FFF3F3\"> narrow</span><span style=\"background-color: #FFFEFE\"> ,</span><span style=\"background-color: #FFFEFE\"> to</span><span style=\"background-color: #FFFCFC\"> become</span><span style=\"background-color: #FFFEFE\"> a</span><span style=\"background-color: #FFFDFD\"> drummer</span><span style=\"background-color: #FFFEFE\"> in</span><span style=\"background-color: #FFFEFE\"> a</span><span style=\"background-color: #FFFEFE\"> band</span><span style=\"background-color: #FFFDFD\"> and</span><span style=\"background-color: #FFFCFC\"> make</span><span style=\"background-color: #FFF0F0\"> it</span><span style=\"background-color: #FFF3F3\"> <unk></span><span style=\"background-color: #FFFBFB\"> as</span><span style=\"background-color: #FFFEFE\"> a</span><span style=\"background-color: #FFFEFE\"> musician</span><span style=\"background-color: #FFFDFD\"> .</span><span style=\"background-color: #FFF3F3\"> but</span><span style=\"background-color: #FFDADA\"> he</span><span style=\"background-color: #FFF6F6\"> has</span><span style=\"background-color: #FFE6E6\"> his</span><span style=\"background-color: #FF0000\"> crippled</span><span style=\"background-color: #FFF7F7\"> wife</span><span style=\"background-color: #FFF7F7\"> <unk></span><span style=\"background-color: #FFFDFD\"> ,</span><span style=\"background-color: #FFFCFC\"> who</span><span style=\"background-color: #FFF3F3\"> can</span><span style=\"background-color: #FFF0F0\"> t</span><span style=\"background-color: #FFFDFD\"> work</span><span style=\"background-color: #FFFEFE\"> and</span><span style=\"background-color: #FFF9F9\"> needs</span><span style=\"background-color: #FFFCFC\"> money</span><span style=\"background-color: #FFFEFE\"> and</span><span style=\"background-color: #FFF1F1\"> often</span><span style=\"background-color: #FFA5A5\"> complains</span><span style=\"background-color: #FFFDFD\"> ,</span><span style=\"background-color: #FFFDFD\"> and</span><span style=\"background-color: #FFF0F0\"> then</span><span style=\"background-color: #FFF9F9\"> there</span><span style=\"background-color: #FFE9E9\"> s</span><span style=\"background-color: #FFFEFE\"> the</span><span style=\"background-color: #FFFDFD\"> old</span><span style=\"background-color: #FFFDFD\"> neighborhood</span><span style=\"background-color: #FFD6D6\"> he</span><span style=\"background-color: #FFF1F1\"> can</span><span style=\"background-color: #FFEFEF\"> t</span><span style=\"background-color: #FFF3F3\"> escape</span><span style=\"background-color: #FFFBFB\"> seeing</span><span style=\"background-color: #FFFDFD\"> louie</span><span style=\"background-color: #FFFDFD\"> darren</span><span style=\"background-color: #FFF6F6\"> mcgavin</span><span style=\"background-color: #FFFDFD\"> ,</span><span style=\"background-color: #FFFDFD\"> who</span><span style=\"background-color: #FFEDED\"> is</span><span style=\"background-color: #FFFCFC\"> still</span><span style=\"background-color: #FFFBFB\"> doing</span><span style=\"background-color: #FFFEFE\"> back</span><span style=\"background-color: #FFFDFD\"> room</span><span style=\"background-color: #FFFEFE\"> card</span><span style=\"background-color: #FFFAFA\"> games</span><span style=\"background-color: #FFFDFD\"> and</span><span style=\"background-color: #FFFEFE\"> ,</span><span style=\"background-color: #FFCBCB\"> yes</span><span style=\"background-color: #FFFEFE\"> ,</span><span style=\"background-color: #FFFDFD\"> pushing</span><span style=\"background-color: #FFFDFD\"> dope</span><span style=\"background-color: #FFFDFD\"> .</span><span style=\"background-color: #FFF6F6\"> like</span><span style=\"background-color: #FFFDFD\"> mean</span><span style=\"background-color: #FFF9F9\"> streets</span><span style=\"background-color: #FFFEFE\"> ,</span><span style=\"background-color: #FFF7F7\"> it</span><span style=\"background-color: #FFF7F7\"> s</span><span style=\"background-color: #FFDADA\"> hard</span><span style=\"background-color: #FFFEFE\"> to</span><span style=\"background-color: #FFF0F0\"> escape</span><span style=\"background-color: #FFFEFE\"> the</span><span style=\"background-color: #FFF0F0\"> <unk></span><span style=\"background-color: #FFAAAA\"> unless</span><span style=\"background-color: #FFF6F6\"> you</span><span style=\"background-color: #FFFDFD\"> leave</span><span style=\"background-color: #FFFCFC\"> .</span><span style=\"background-color: #FFE8E8\"> but</span><span style=\"background-color: #FFECEC\"> then</span><span style=\"background-color: #FFFBFB\"> again</span><span style=\"background-color: #FFFEFE\"> ,</span><span style=\"background-color: #FFF9F9\"> it</span><span style=\"background-color: #FFF9F9\"> s</span><span style=\"background-color: #FFD4D4\"> hard</span><span style=\"background-color: #FFFEFE\"> for</span><span style=\"background-color: #FFFCFC\"> frankie</span><span style=\"background-color: #FFF9F9\"> machine</span><span style=\"background-color: #FFEFEF\"> not</span><span style=\"background-color: #FFFEFE\"> to</span><span style=\"background-color: #FFF7F7\"> try</span><span style=\"background-color: #FFFDFD\"> and</span><span style=\"background-color: #FFFBFB\"> operate</span><span style=\"background-color: #FFDCDC\"> naturally</span><span style=\"background-color: #FFFDFD\"> in</span><span style=\"background-color: #FFF8F8\"> this</span><span style=\"background-color: #FFFEFE\"> urban</span><span style=\"background-color: #FFFBFB\"> quarter</span><span style=\"background-color: #FFFCFC\"> .</span><span style=\"background-color: #FFF3F3\"> it</span><span style=\"background-color: #FFF7F7\"> s</span><span style=\"background-color: #FFF1F1\"> just</span><span style=\"background-color: #FFFAFA\"> that</span><span style=\"background-color: #FFE9E9\"> he</span><span style=\"background-color: #FFF7F7\"> can</span><span style=\"background-color: #FFF3F3\"> t</span><span style=\"background-color: #FFF5F5\"> escape</span><span style=\"background-color: #FFFEFE\"> the</span><span style=\"background-color: #FFECEC\"> temptation</span><span style=\"background-color: #FFFEFE\"> of</span><span style=\"background-color: #FFD8D8\"> junk</span><span style=\"background-color: #FFF9F9\"> when</span><span style=\"background-color: #FFDBDB\"> he</span><span style=\"background-color: #FFF8F8\"> s</span><span style=\"background-color: #FFFCFC\"> <unk></span><span style=\"background-color: #FFFEFE\"> on</span><span style=\"background-color: #FFFEFE\"> a</span><span style=\"background-color: #FFE2E2\"> phony</span><span style=\"background-color: #FFFBFB\"> theft</span><span style=\"background-color: #FFF9F9\"> charge</span><span style=\"background-color: #FFFCFC\"> with</span><span style=\"background-color: #FFF2F2\"> his</span><span style=\"background-color: #FFFBFB\"> <eos></span><br><br>"
            ],
            "text/plain": [
              "<IPython.core.display.HTML object>"
            ]
          },
          "metadata": {
            "tags": []
          },
          "execution_count": 19
        }
      ]
    },
    {
      "cell_type": "code",
      "metadata": {
        "id": "GQYlqM2-1cOf",
        "colab": {
          "base_uri": "https://localhost:8080/",
          "height": 272
        },
        "outputId": "3869bd5b-73b1-4a1f-d706-ee077db79c12"
      },
      "source": [
        "index = 61  # 出力させたいデータ\n",
        "html_output = mk_html(index, batch, preds, normlized_weights_1,\n",
        "                      normlized_weights_2, TEXT)  # HTML作成\n",
        "HTML(html_output)  # HTML形式で出力\n"
      ],
      "execution_count": 20,
      "outputs": [
        {
          "output_type": "execute_result",
          "data": {
            "text/html": [
              "正解ラベル：Positive<br>推論ラベル：Positive<br><br>[TransformerBlockの1段目のAttentionを可視化]<br><span style=\"background-color: #FFFCFC\"> <cls></span><span style=\"background-color: #FFF9F9\"> here</span><span style=\"background-color: #FFFDFD\"> is</span><span style=\"background-color: #FFFAFA\"> a</span><span style=\"background-color: #FFFBFB\"> much</span><span style=\"background-color: #FFF8F8\"> lesser</span><span style=\"background-color: #FFEFEF\"> known</span><span style=\"background-color: #FFFCFC\"> 50</span><span style=\"background-color: #FFFEFE\"> s</span><span style=\"background-color: #FFEBEB\"> sci</span><span style=\"background-color: #FFF3F3\"> fi</span><span style=\"background-color: #FFFEFE\"> with</span><span style=\"background-color: #FFFCFC\"> a</span><span style=\"background-color: #FFFBFB\"> little</span><span style=\"background-color: #FFFCFC\"> different</span><span style=\"background-color: #FFA5A5\"> twist</span><span style=\"background-color: #FFFEFE\"> .</span><span style=\"background-color: #FFFEFE\"> an</span><span style=\"background-color: #FFD6D6\"> atomic</span><span style=\"background-color: #FFFEFE\"> <unk></span><span style=\"background-color: #FFFDFD\"> son</span><span style=\"background-color: #FFFEFE\"> is</span><span style=\"background-color: #FFFEFE\"> kidnapped</span><span style=\"background-color: #FFFEFE\"> and</span><span style=\"background-color: #FFF8F8\"> held</span><span style=\"background-color: #FFFEFE\"> for</span><span style=\"background-color: #FFFCFC\"> a</span><span style=\"background-color: #FFFCFC\"> ransom</span><span style=\"background-color: #FFFEFE\"> of</span><span style=\"background-color: #FFFEFE\"> the</span><span style=\"background-color: #FFFEFE\"> the</span><span style=\"background-color: #FFFCFC\"> father</span><span style=\"background-color: #FFFEFE\"> s</span><span style=\"background-color: #FFC5C5\"> atomic</span><span style=\"background-color: #FFA2A2\"> secrets</span><span style=\"background-color: #FFFEFE\"> .</span><span style=\"background-color: #FFFAFA\"> this</span><span style=\"background-color: #FFFEFE\"> is</span><span style=\"background-color: #FFFCFC\"> a</span><span style=\"background-color: #FFFCFC\"> tightly</span><span style=\"background-color: #FFEDED\"> knit</span><span style=\"background-color: #FFBDBD\"> atomic</span><span style=\"background-color: #FFECEC\"> sci</span><span style=\"background-color: #FFF5F5\"> fi</span><span style=\"background-color: #FFB4B4\"> thriller</span><span style=\"background-color: #FFFEFE\"> with</span><span style=\"background-color: #FFB6B6\"> great</span><span style=\"background-color: #FFE0E0\"> production</span><span style=\"background-color: #FFF3F3\"> values</span><span style=\"background-color: #FFFEFE\"> and</span><span style=\"background-color: #FFFEFE\"> above</span><span style=\"background-color: #FFFCFC\"> average</span><span style=\"background-color: #FFFBFB\"> acting</span><span style=\"background-color: #FFFEFE\"> ,</span><span style=\"background-color: #FFFEFE\"> even</span><span style=\"background-color: #FFFEFE\"> from</span><span style=\"background-color: #FFFEFE\"> the</span><span style=\"background-color: #FFF8F8\"> kid</span><span style=\"background-color: #FFFEFE\"> .</span><span style=\"background-color: #FFFEFE\"> the</span><span style=\"background-color: #FFB6B6\"> atomic</span><span style=\"background-color: #FFFEFE\"> city</span><span style=\"background-color: #FFDDDD\"> actually</span><span style=\"background-color: #FFFBFB\"> has</span><span style=\"background-color: #FFFBFB\"> a</span><span style=\"background-color: #FFE6E6\"> movie</span><span style=\"background-color: #FFFDFD\"> feel</span><span style=\"background-color: #FFFEFE\"> to</span><span style=\"background-color: #FFFEFE\"> it</span><span style=\"background-color: #FFFBFB\"> unlike</span><span style=\"background-color: #FFFCFC\"> a</span><span style=\"background-color: #FFF0F0\"> lot</span><span style=\"background-color: #FFFDFD\"> of</span><span style=\"background-color: #FFFEFE\"> other</span><span style=\"background-color: #FFFBFB\"> 50</span><span style=\"background-color: #FFFEFE\"> s</span><span style=\"background-color: #FFECEC\"> sci</span><span style=\"background-color: #FFF5F5\"> fi</span><span style=\"background-color: #FFFEFE\"> of</span><span style=\"background-color: #FFF9F9\"> this</span><span style=\"background-color: #FFF5F5\"> time</span><span style=\"background-color: #FFFEFE\"> which</span><span style=\"background-color: #FFFEFE\"> which</span><span style=\"background-color: #FFDDDD\"> came</span><span style=\"background-color: #FFFCFC\"> off</span><span style=\"background-color: #FFFEFE\"> more</span><span style=\"background-color: #FFFDFD\"> like</span><span style=\"background-color: #FFFEFE\"> an</span><span style=\"background-color: #FFDFDF\"> episode</span><span style=\"background-color: #FFFEFE\"> of</span><span style=\"background-color: #FFFCFC\"> a</span><span style=\"background-color: #FFF1F1\"> tv</span><span style=\"background-color: #FFFCFC\"> show</span><span style=\"background-color: #FFFEFE\"> .</span><span style=\"background-color: #FFFEFE\"> the</span><span style=\"background-color: #FFC6C6\"> atomic</span><span style=\"background-color: #FFFEFE\"> city</span><span style=\"background-color: #FFF8F8\"> was</span><span style=\"background-color: #FFFBFB\"> also</span><span style=\"background-color: #FFDADA\"> actually</span><span style=\"background-color: #FFEFEF\"> nominated</span><span style=\"background-color: #FFFEFE\"> for</span><span style=\"background-color: #FFFEFE\"> an</span><span style=\"background-color: #FFFDFD\"> academy</span><span style=\"background-color: #FFF0F0\"> award</span><span style=\"background-color: #FFFEFE\"> for</span><span style=\"background-color: #FFC9C9\"> best</span><span style=\"background-color: #FF2E2E\"> screenplay</span><span style=\"background-color: #FFFEFE\"> how</span><span style=\"background-color: #FFFDFD\"> many</span><span style=\"background-color: #FFFEFE\"> other</span><span style=\"background-color: #FFFCFC\"> 50</span><span style=\"background-color: #FFFEFE\"> s</span><span style=\"background-color: #FFEEEE\"> sci</span><span style=\"background-color: #FFF5F5\"> fi</span><span style=\"background-color: #FFF0F0\"> can</span><span style=\"background-color: #FFFEFE\"> <unk></span><span style=\"background-color: #FFFEFE\"> an</span><span style=\"background-color: #FFFEFE\"> academy</span><span style=\"background-color: #FFF7F7\"> award</span><span style=\"background-color: #FFFCFC\"> nomination</span><span style=\"background-color: #FFB6B6\"> great</span><span style=\"background-color: #FF9C9C\"> pacing</span><span style=\"background-color: #FFFEFE\"> ,</span><span style=\"background-color: #FFF2F2\"> tight</span><span style=\"background-color: #FFFCFC\"> direction</span><span style=\"background-color: #FFFEFE\"> and</span><span style=\"background-color: #FFFEFE\"> some</span><span style=\"background-color: #FF0000\"> superb</span><span style=\"background-color: #FFF8F8\"> location</span><span style=\"background-color: #FFCBCB\"> filming</span><span style=\"background-color: #FFFEFE\"> in</span><span style=\"background-color: #FFFEFE\"> the</span><span style=\"background-color: #FFEBEB\"> real</span><span style=\"background-color: #FFD9D9\"> atomic</span><span style=\"background-color: #FFFEFE\"> city</span><span style=\"background-color: #FFFEFE\"> of</span><span style=\"background-color: #FFFEFE\"> los</span><span style=\"background-color: #FFFEFE\"> <unk></span><span style=\"background-color: #FFFEFE\"> ,</span><span style=\"background-color: #FFEAEA\"> new</span><span style=\"background-color: #FFF2F2\"> mexico</span><span style=\"background-color: #FFFEFE\"> make</span><span style=\"background-color: #FFF7F7\"> this</span><span style=\"background-color: #FFF9F9\"> one</span><span style=\"background-color: #FFEBEB\"> worth</span><span style=\"background-color: #FFFCFC\"> hunting</span><span style=\"background-color: #FFFDFD\"> down</span><span style=\"background-color: #FFFEFE\"> .</span><span style=\"background-color: #FFFEFE\"> the</span><span style=\"background-color: #FFCDCD\"> collectors</span><span style=\"background-color: #FFFAFA\"> print</span><span style=\"background-color: #FFFEFE\"> in</span><span style=\"background-color: #FFF8F8\"> circulation</span><span style=\"background-color: #FFFDFD\"> is</span><span style=\"background-color: #FFFEFE\"> an</span><span style=\"background-color: #FFFDFD\"> above</span><span style=\"background-color: #FFFCFC\"> average</span><span style=\"background-color: #FFF9F9\"> transfer</span><span style=\"background-color: #FFFEFE\"> and</span><span style=\"background-color: #FFFDFD\"> makes</span><span style=\"background-color: #FFFEFE\"> for</span><span style=\"background-color: #FFFCFC\"> a</span><span style=\"background-color: #FFA5A5\"> great</span><span style=\"background-color: #FFEEEE\"> double</span><span style=\"background-color: #FFFCFC\"> feature</span><span style=\"background-color: #FFFEFE\"> with</span><span style=\"background-color: #FFFEFE\"> the</span><span style=\"background-color: #FFC2C2\"> atomic</span><span style=\"background-color: #FFFDFD\"> man</span><span style=\"background-color: #FFB7B7\"> recommended</span><span style=\"background-color: #FFFEFE\"> .</span><span style=\"background-color: #FFFEFE\"> <eos></span><span style=\"background-color: #FFFFFF\"> <pad></span><span style=\"background-color: #FFFFFF\"> <pad></span><span style=\"background-color: #FFFFFF\"> <pad></span><span style=\"background-color: #FFFFFF\"> <pad></span><span style=\"background-color: #FFFFFF\"> <pad></span><span style=\"background-color: #FFFFFF\"> <pad></span><span style=\"background-color: #FFFFFF\"> <pad></span><span style=\"background-color: #FFFFFF\"> <pad></span><span style=\"background-color: #FFFFFF\"> <pad></span><span style=\"background-color: #FFFFFF\"> <pad></span><span style=\"background-color: #FFFFFF\"> <pad></span><span style=\"background-color: #FFFFFF\"> <pad></span><span style=\"background-color: #FFFFFF\"> <pad></span><span style=\"background-color: #FFFFFF\"> <pad></span><span style=\"background-color: #FFFFFF\"> <pad></span><span style=\"background-color: #FFFFFF\"> <pad></span><span style=\"background-color: #FFFFFF\"> <pad></span><span style=\"background-color: #FFFFFF\"> <pad></span><span style=\"background-color: #FFFFFF\"> <pad></span><span style=\"background-color: #FFFFFF\"> <pad></span><span style=\"background-color: #FFFFFF\"> <pad></span><span style=\"background-color: #FFFFFF\"> <pad></span><span style=\"background-color: #FFFFFF\"> <pad></span><span style=\"background-color: #FFFFFF\"> <pad></span><span style=\"background-color: #FFFFFF\"> <pad></span><span style=\"background-color: #FFFFFF\"> <pad></span><span style=\"background-color: #FFFFFF\"> <pad></span><span style=\"background-color: #FFFFFF\"> <pad></span><span style=\"background-color: #FFFFFF\"> <pad></span><span style=\"background-color: #FFFFFF\"> <pad></span><span style=\"background-color: #FFFFFF\"> <pad></span><span style=\"background-color: #FFFFFF\"> <pad></span><span style=\"background-color: #FFFFFF\"> <pad></span><span style=\"background-color: #FFFFFF\"> <pad></span><span style=\"background-color: #FFFFFF\"> <pad></span><span style=\"background-color: #FFFFFF\"> <pad></span><span style=\"background-color: #FFFFFF\"> <pad></span><span style=\"background-color: #FFFFFF\"> <pad></span><span style=\"background-color: #FFFFFF\"> <pad></span><span style=\"background-color: #FFFFFF\"> <pad></span><span style=\"background-color: #FFFFFF\"> <pad></span><span style=\"background-color: #FFFFFF\"> <pad></span><span style=\"background-color: #FFFFFF\"> <pad></span><span style=\"background-color: #FFFFFF\"> <pad></span><span style=\"background-color: #FFFFFF\"> <pad></span><span style=\"background-color: #FFFFFF\"> <pad></span><span style=\"background-color: #FFFFFF\"> <pad></span><span style=\"background-color: #FFFFFF\"> <pad></span><span style=\"background-color: #FFFFFF\"> <pad></span><span style=\"background-color: #FFFFFF\"> <pad></span><span style=\"background-color: #FFFFFF\"> <pad></span><span style=\"background-color: #FFFFFF\"> <pad></span><span style=\"background-color: #FFFFFF\"> <pad></span><span style=\"background-color: #FFFFFF\"> <pad></span><span style=\"background-color: #FFFFFF\"> <pad></span><span style=\"background-color: #FFFFFF\"> <pad></span><span style=\"background-color: #FFFFFF\"> <pad></span><span style=\"background-color: #FFFFFF\"> <pad></span><span style=\"background-color: #FFFFFF\"> <pad></span><span style=\"background-color: #FFFFFF\"> <pad></span><span style=\"background-color: #FFFFFF\"> <pad></span><span style=\"background-color: #FFFFFF\"> <pad></span><span style=\"background-color: #FFFFFF\"> <pad></span><span style=\"background-color: #FFFFFF\"> <pad></span><span style=\"background-color: #FFFFFF\"> <pad></span><span style=\"background-color: #FFFFFF\"> <pad></span><span style=\"background-color: #FFFFFF\"> <pad></span><span style=\"background-color: #FFFFFF\"> <pad></span><span style=\"background-color: #FFFFFF\"> <pad></span><span style=\"background-color: #FFFFFF\"> <pad></span><span style=\"background-color: #FFFFFF\"> <pad></span><span style=\"background-color: #FFFFFF\"> <pad></span><span style=\"background-color: #FFFFFF\"> <pad></span><span style=\"background-color: #FFFFFF\"> <pad></span><span style=\"background-color: #FFFFFF\"> <pad></span><span style=\"background-color: #FFFFFF\"> <pad></span><span style=\"background-color: #FFFFFF\"> <pad></span><span style=\"background-color: #FFFFFF\"> <pad></span><span style=\"background-color: #FFFFFF\"> <pad></span><span style=\"background-color: #FFFFFF\"> <pad></span><span style=\"background-color: #FFFFFF\"> <pad></span><span style=\"background-color: #FFFFFF\"> <pad></span><span style=\"background-color: #FFFFFF\"> <pad></span><br><br>[TransformerBlockの2段目のAttentionを可視化]<br><span style=\"background-color: #FFFCFC\"> <cls></span><span style=\"background-color: #FFFDFD\"> here</span><span style=\"background-color: #FFF9F9\"> is</span><span style=\"background-color: #FFFDFD\"> a</span><span style=\"background-color: #FFE0E0\"> much</span><span style=\"background-color: #FFC1C1\"> lesser</span><span style=\"background-color: #FFFEFE\"> known</span><span style=\"background-color: #FFFEFE\"> 50</span><span style=\"background-color: #FFFDFD\"> s</span><span style=\"background-color: #FFFAFA\"> sci</span><span style=\"background-color: #FFFDFD\"> fi</span><span style=\"background-color: #FFFBFB\"> with</span><span style=\"background-color: #FFFEFE\"> a</span><span style=\"background-color: #FFEEEE\"> little</span><span style=\"background-color: #FFFDFD\"> different</span><span style=\"background-color: #FFFEFE\"> twist</span><span style=\"background-color: #FFFDFD\"> .</span><span style=\"background-color: #FFF3F3\"> an</span><span style=\"background-color: #FFFDFD\"> atomic</span><span style=\"background-color: #FFFEFE\"> <unk></span><span style=\"background-color: #FFFDFD\"> son</span><span style=\"background-color: #FFF8F8\"> is</span><span style=\"background-color: #FFFEFE\"> kidnapped</span><span style=\"background-color: #FFFEFE\"> and</span><span style=\"background-color: #FFFEFE\"> held</span><span style=\"background-color: #FFFEFE\"> for</span><span style=\"background-color: #FFFDFD\"> a</span><span style=\"background-color: #FFFEFE\"> ransom</span><span style=\"background-color: #FFFEFE\"> of</span><span style=\"background-color: #FFFEFE\"> the</span><span style=\"background-color: #FFFEFE\"> the</span><span style=\"background-color: #FFFBFB\"> father</span><span style=\"background-color: #FFFCFC\"> s</span><span style=\"background-color: #FFFDFD\"> atomic</span><span style=\"background-color: #FFFEFE\"> secrets</span><span style=\"background-color: #FFFDFD\"> .</span><span style=\"background-color: #FFF6F6\"> this</span><span style=\"background-color: #FFF9F9\"> is</span><span style=\"background-color: #FFFEFE\"> a</span><span style=\"background-color: #FFB5B5\"> tightly</span><span style=\"background-color: #FFFCFC\"> knit</span><span style=\"background-color: #FFFEFE\"> atomic</span><span style=\"background-color: #FFFAFA\"> sci</span><span style=\"background-color: #FFFDFD\"> fi</span><span style=\"background-color: #FFEBEB\"> thriller</span><span style=\"background-color: #FFFBFB\"> with</span><span style=\"background-color: #FFADAD\"> great</span><span style=\"background-color: #FFFEFE\"> production</span><span style=\"background-color: #FFFEFE\"> values</span><span style=\"background-color: #FFFEFE\"> and</span><span style=\"background-color: #FFC5C5\"> above</span><span style=\"background-color: #FFFEFE\"> average</span><span style=\"background-color: #FFF9F9\"> acting</span><span style=\"background-color: #FFFEFE\"> ,</span><span style=\"background-color: #FFFCFC\"> even</span><span style=\"background-color: #FFFEFE\"> from</span><span style=\"background-color: #FFFEFE\"> the</span><span style=\"background-color: #FFF9F9\"> kid</span><span style=\"background-color: #FFFDFD\"> .</span><span style=\"background-color: #FFFEFE\"> the</span><span style=\"background-color: #FFFDFD\"> atomic</span><span style=\"background-color: #FFFCFC\"> city</span><span style=\"background-color: #FFFDFD\"> actually</span><span style=\"background-color: #FFFCFC\"> has</span><span style=\"background-color: #FFFEFE\"> a</span><span style=\"background-color: #FFFEFE\"> movie</span><span style=\"background-color: #FFF4F4\"> feel</span><span style=\"background-color: #FFFEFE\"> to</span><span style=\"background-color: #FFFAFA\"> it</span><span style=\"background-color: #FF6868\"> unlike</span><span style=\"background-color: #FFFDFD\"> a</span><span style=\"background-color: #FFF3F3\"> lot</span><span style=\"background-color: #FFFEFE\"> of</span><span style=\"background-color: #FFF4F4\"> other</span><span style=\"background-color: #FFFEFE\"> 50</span><span style=\"background-color: #FFFDFD\"> s</span><span style=\"background-color: #FFF8F8\"> sci</span><span style=\"background-color: #FFFCFC\"> fi</span><span style=\"background-color: #FFFEFE\"> of</span><span style=\"background-color: #FFF9F9\"> this</span><span style=\"background-color: #FFFCFC\"> time</span><span style=\"background-color: #FFFBFB\"> which</span><span style=\"background-color: #FFFCFC\"> which</span><span style=\"background-color: #FFFEFE\"> came</span><span style=\"background-color: #FFF8F8\"> off</span><span style=\"background-color: #FFF7F7\"> more</span><span style=\"background-color: #FFF6F6\"> like</span><span style=\"background-color: #FFF6F6\"> an</span><span style=\"background-color: #FFFEFE\"> episode</span><span style=\"background-color: #FFFEFE\"> of</span><span style=\"background-color: #FFFEFE\"> a</span><span style=\"background-color: #FFFEFE\"> tv</span><span style=\"background-color: #FFFEFE\"> show</span><span style=\"background-color: #FFFEFE\"> .</span><span style=\"background-color: #FFFEFE\"> the</span><span style=\"background-color: #FFFDFD\"> atomic</span><span style=\"background-color: #FFFDFD\"> city</span><span style=\"background-color: #FFFEFE\"> was</span><span style=\"background-color: #FFFEFE\"> also</span><span style=\"background-color: #FFFEFE\"> actually</span><span style=\"background-color: #FFFEFE\"> nominated</span><span style=\"background-color: #FFFEFE\"> for</span><span style=\"background-color: #FFF8F8\"> an</span><span style=\"background-color: #FFFEFE\"> academy</span><span style=\"background-color: #FFFDFD\"> award</span><span style=\"background-color: #FFFEFE\"> for</span><span style=\"background-color: #FF0000\"> best</span><span style=\"background-color: #FFFEFE\"> screenplay</span><span style=\"background-color: #FFF2F2\"> how</span><span style=\"background-color: #FFF2F2\"> many</span><span style=\"background-color: #FFEFEF\"> other</span><span style=\"background-color: #FFFDFD\"> 50</span><span style=\"background-color: #FFFDFD\"> s</span><span style=\"background-color: #FFF8F8\"> sci</span><span style=\"background-color: #FFFCFC\"> fi</span><span style=\"background-color: #FFFEFE\"> can</span><span style=\"background-color: #FFFEFE\"> <unk></span><span style=\"background-color: #FFF2F2\"> an</span><span style=\"background-color: #FFFEFE\"> academy</span><span style=\"background-color: #FFFDFD\"> award</span><span style=\"background-color: #FFFEFE\"> nomination</span><span style=\"background-color: #FF9F9F\"> great</span><span style=\"background-color: #FFF8F8\"> pacing</span><span style=\"background-color: #FFFEFE\"> ,</span><span style=\"background-color: #FFE3E3\"> tight</span><span style=\"background-color: #FFF8F8\"> direction</span><span style=\"background-color: #FFFEFE\"> and</span><span style=\"background-color: #FFDCDC\"> some</span><span style=\"background-color: #FF5656\"> superb</span><span style=\"background-color: #FFFEFE\"> location</span><span style=\"background-color: #FFFEFE\"> filming</span><span style=\"background-color: #FFFDFD\"> in</span><span style=\"background-color: #FFFEFE\"> the</span><span style=\"background-color: #FFEFEF\"> real</span><span style=\"background-color: #FFFDFD\"> atomic</span><span style=\"background-color: #FFFCFC\"> city</span><span style=\"background-color: #FFFEFE\"> of</span><span style=\"background-color: #FFFEFE\"> los</span><span style=\"background-color: #FFFCFC\"> <unk></span><span style=\"background-color: #FFFEFE\"> ,</span><span style=\"background-color: #FFFDFD\"> new</span><span style=\"background-color: #FFFEFE\"> mexico</span><span style=\"background-color: #FFFEFE\"> make</span><span style=\"background-color: #FFFBFB\"> this</span><span style=\"background-color: #FFF9F9\"> one</span><span style=\"background-color: #FFFDFD\"> worth</span><span style=\"background-color: #FFFDFD\"> hunting</span><span style=\"background-color: #FFF1F1\"> down</span><span style=\"background-color: #FFFDFD\"> .</span><span style=\"background-color: #FFFEFE\"> the</span><span style=\"background-color: #FFFEFE\"> collectors</span><span style=\"background-color: #FFFDFD\"> print</span><span style=\"background-color: #FFFDFD\"> in</span><span style=\"background-color: #FFFEFE\"> circulation</span><span style=\"background-color: #FFF9F9\"> is</span><span style=\"background-color: #FFF4F4\"> an</span><span style=\"background-color: #FFD3D3\"> above</span><span style=\"background-color: #FFFEFE\"> average</span><span style=\"background-color: #FFFEFE\"> transfer</span><span style=\"background-color: #FFFEFE\"> and</span><span style=\"background-color: #FFFDFD\"> makes</span><span style=\"background-color: #FFFEFE\"> for</span><span style=\"background-color: #FFFDFD\"> a</span><span style=\"background-color: #FFBFBF\"> great</span><span style=\"background-color: #FFFEFE\"> double</span><span style=\"background-color: #FFFEFE\"> feature</span><span style=\"background-color: #FFFAFA\"> with</span><span style=\"background-color: #FFFEFE\"> the</span><span style=\"background-color: #FFFCFC\"> atomic</span><span style=\"background-color: #FFFBFB\"> man</span><span style=\"background-color: #FFFCFC\"> recommended</span><span style=\"background-color: #FFFDFD\"> .</span><span style=\"background-color: #FFFBFB\"> <eos></span><span style=\"background-color: #FFFFFF\"> <pad></span><span style=\"background-color: #FFFFFF\"> <pad></span><span style=\"background-color: #FFFFFF\"> <pad></span><span style=\"background-color: #FFFFFF\"> <pad></span><span style=\"background-color: #FFFFFF\"> <pad></span><span style=\"background-color: #FFFFFF\"> <pad></span><span style=\"background-color: #FFFFFF\"> <pad></span><span style=\"background-color: #FFFFFF\"> <pad></span><span style=\"background-color: #FFFFFF\"> <pad></span><span style=\"background-color: #FFFFFF\"> <pad></span><span style=\"background-color: #FFFFFF\"> <pad></span><span style=\"background-color: #FFFFFF\"> <pad></span><span style=\"background-color: #FFFFFF\"> <pad></span><span style=\"background-color: #FFFFFF\"> <pad></span><span style=\"background-color: #FFFFFF\"> <pad></span><span style=\"background-color: #FFFFFF\"> <pad></span><span style=\"background-color: #FFFFFF\"> <pad></span><span style=\"background-color: #FFFFFF\"> <pad></span><span style=\"background-color: #FFFFFF\"> <pad></span><span style=\"background-color: #FFFFFF\"> <pad></span><span style=\"background-color: #FFFFFF\"> <pad></span><span style=\"background-color: #FFFFFF\"> <pad></span><span style=\"background-color: #FFFFFF\"> <pad></span><span style=\"background-color: #FFFFFF\"> <pad></span><span style=\"background-color: #FFFFFF\"> <pad></span><span style=\"background-color: #FFFFFF\"> <pad></span><span style=\"background-color: #FFFFFF\"> <pad></span><span style=\"background-color: #FFFFFF\"> <pad></span><span style=\"background-color: #FFFFFF\"> <pad></span><span style=\"background-color: #FFFFFF\"> <pad></span><span style=\"background-color: #FFFFFF\"> <pad></span><span style=\"background-color: #FFFFFF\"> <pad></span><span style=\"background-color: #FFFFFF\"> <pad></span><span style=\"background-color: #FFFFFF\"> <pad></span><span style=\"background-color: #FFFFFF\"> <pad></span><span style=\"background-color: #FFFFFF\"> <pad></span><span style=\"background-color: #FFFFFF\"> <pad></span><span style=\"background-color: #FFFFFF\"> <pad></span><span style=\"background-color: #FFFFFF\"> <pad></span><span style=\"background-color: #FFFFFF\"> <pad></span><span style=\"background-color: #FFFFFF\"> <pad></span><span style=\"background-color: #FFFFFF\"> <pad></span><span style=\"background-color: #FFFFFF\"> <pad></span><span style=\"background-color: #FFFFFF\"> <pad></span><span style=\"background-color: #FFFFFF\"> <pad></span><span style=\"background-color: #FFFFFF\"> <pad></span><span style=\"background-color: #FFFFFF\"> <pad></span><span style=\"background-color: #FFFFFF\"> <pad></span><span style=\"background-color: #FFFFFF\"> <pad></span><span style=\"background-color: #FFFFFF\"> <pad></span><span style=\"background-color: #FFFFFF\"> <pad></span><span style=\"background-color: #FFFFFF\"> <pad></span><span style=\"background-color: #FFFFFF\"> <pad></span><span style=\"background-color: #FFFFFF\"> <pad></span><span style=\"background-color: #FFFFFF\"> <pad></span><span style=\"background-color: #FFFFFF\"> <pad></span><span style=\"background-color: #FFFFFF\"> <pad></span><span style=\"background-color: #FFFFFF\"> <pad></span><span style=\"background-color: #FFFFFF\"> <pad></span><span style=\"background-color: #FFFFFF\"> <pad></span><span style=\"background-color: #FFFFFF\"> <pad></span><span style=\"background-color: #FFFFFF\"> <pad></span><span style=\"background-color: #FFFFFF\"> <pad></span><span style=\"background-color: #FFFFFF\"> <pad></span><span style=\"background-color: #FFFFFF\"> <pad></span><span style=\"background-color: #FFFFFF\"> <pad></span><span style=\"background-color: #FFFFFF\"> <pad></span><span style=\"background-color: #FFFFFF\"> <pad></span><span style=\"background-color: #FFFFFF\"> <pad></span><span style=\"background-color: #FFFFFF\"> <pad></span><span style=\"background-color: #FFFFFF\"> <pad></span><span style=\"background-color: #FFFFFF\"> <pad></span><span style=\"background-color: #FFFFFF\"> <pad></span><span style=\"background-color: #FFFFFF\"> <pad></span><span style=\"background-color: #FFFFFF\"> <pad></span><span style=\"background-color: #FFFFFF\"> <pad></span><span style=\"background-color: #FFFFFF\"> <pad></span><span style=\"background-color: #FFFFFF\"> <pad></span><span style=\"background-color: #FFFFFF\"> <pad></span><span style=\"background-color: #FFFFFF\"> <pad></span><span style=\"background-color: #FFFFFF\"> <pad></span><span style=\"background-color: #FFFFFF\"> <pad></span><span style=\"background-color: #FFFFFF\"> <pad></span><br><br>"
            ],
            "text/plain": [
              "<IPython.core.display.HTML object>"
            ]
          },
          "metadata": {
            "tags": []
          },
          "execution_count": 20
        }
      ]
    },
    {
      "cell_type": "markdown",
      "metadata": {
        "id": "cKkKL-L01cOf"
      },
      "source": [
        "以上"
      ]
    }
  ]
}