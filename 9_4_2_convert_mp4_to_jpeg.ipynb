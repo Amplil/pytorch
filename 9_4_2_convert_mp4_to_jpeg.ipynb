{
  "cells": [
    {
      "cell_type": "markdown",
      "metadata": {
        "id": "view-in-github",
        "colab_type": "text"
      },
      "source": [
        "<a href=\"https://colab.research.google.com/github/Amplil/pytorch/blob/master/9_4_2_convert_mp4_to_jpeg.ipynb\" target=\"_parent\"><img src=\"https://colab.research.google.com/assets/colab-badge.svg\" alt=\"Open In Colab\"/></a>"
      ]
    },
    {
      "cell_type": "markdown",
      "metadata": {
        "id": "GuZfr60gxz4i"
      },
      "source": [
        "# 9.4.2 動画をframeごとに画像データに変換\n",
        "\n",
        "本ファイルでは、ダウンロードした動画をframeごとにjpeg形式の画像データに変換します。\n"
      ]
    },
    {
      "cell_type": "markdown",
      "metadata": {
        "id": "eyZzPPUYxz4m"
      },
      "source": [
        "## 事前準備\n",
        "\n",
        "ffmepgが入っていない場合には、\n",
        "以下のコマンドをターミナルで実行し、Ubuntuにてffmpegをインストールします。\n",
        "\n",
        "- sudo apt install ffmpeg\n"
      ]
    },
    {
      "cell_type": "code",
      "source": [
        "from google.colab import drive\n",
        "drive.mount('/content/drive')"
      ],
      "metadata": {
        "colab": {
          "base_uri": "https://localhost:8080/"
        },
        "id": "nV7cdEiItp2v",
        "outputId": "7b511283-2188-469d-b6e0-a3f7968eb979"
      },
      "execution_count": 1,
      "outputs": [
        {
          "output_type": "stream",
          "name": "stdout",
          "text": [
            "Mounted at /content/drive\n"
          ]
        }
      ]
    },
    {
      "cell_type": "code",
      "source": [
        "cd \"/content/drive/My Drive/Colab Notebooks/pytorch_advanced/9_video_classification_eco\""
      ],
      "metadata": {
        "colab": {
          "base_uri": "https://localhost:8080/"
        },
        "id": "3lzZ2-p4u_RG",
        "outputId": "c90fe9c7-c028-4cce-8b19-8cfe03536c28"
      },
      "execution_count": 2,
      "outputs": [
        {
          "output_type": "stream",
          "name": "stdout",
          "text": [
            "/content/drive/My Drive/Colab Notebooks/pytorch_advanced/9_video_classification_eco\n"
          ]
        }
      ]
    },
    {
      "cell_type": "code",
      "source": [
        "import sys\n",
        "sys.path.append(\"/content/drive/MyDrive/Colab Notebooks/packages\")"
      ],
      "metadata": {
        "id": "kPTXvzdHtx1F"
      },
      "execution_count": 3,
      "outputs": []
    },
    {
      "cell_type": "code",
      "execution_count": 4,
      "metadata": {
        "colab": {
          "base_uri": "https://localhost:8080/"
        },
        "id": "i8FP_huwxz4n",
        "outputId": "51873928-4de5-4b29-dd3c-46505dfdfa0f"
      },
      "outputs": [
        {
          "output_type": "stream",
          "name": "stdout",
          "text": [
            "['arm wrestling', 'bungee jumping']\n",
            "ffmpeg -i \"./../data/kinetics_videos/arm wrestling/ehLnj7pXnYE_000027_000037.mp4\" -vf scale=-1:256 \"./../data/kinetics_videos/arm wrestling/ehLnj7pXnYE_000027_000037/image_%05d.jpg\"\n",
            "\n",
            "\n",
            "ffmpeg -i \"./../data/kinetics_videos/arm wrestling/C4lCVBZ3ux0_000028_000038.mp4\" -vf scale=-1:256 \"./../data/kinetics_videos/arm wrestling/C4lCVBZ3ux0_000028_000038/image_%05d.jpg\"\n",
            "\n",
            "\n",
            "ffmpeg -i \"./../data/kinetics_videos/arm wrestling/5JzkrOVhPOw_000027_000037.mp4\" -vf scale=-1:256 \"./../data/kinetics_videos/arm wrestling/5JzkrOVhPOw_000027_000037/image_%05d.jpg\"\n",
            "\n",
            "\n",
            "ffmpeg -i \"./../data/kinetics_videos/arm wrestling/BdMiTo_OtnU_000024_000034.mp4\" -vf scale=-1:256 \"./../data/kinetics_videos/arm wrestling/BdMiTo_OtnU_000024_000034/image_%05d.jpg\"\n",
            "\n",
            "\n",
            "ffmpeg -i \"./../data/kinetics_videos/bungee jumping/b6yQZjPE26c_000023_000033.mp4\" -vf scale=-1:256 \"./../data/kinetics_videos/bungee jumping/b6yQZjPE26c_000023_000033/image_%05d.jpg\"\n",
            "\n",
            "\n",
            "ffmpeg -i \"./../data/kinetics_videos/bungee jumping/dAeUFSdYG1I_000010_000020.mp4\" -vf scale=-1:256 \"./../data/kinetics_videos/bungee jumping/dAeUFSdYG1I_000010_000020/image_%05d.jpg\"\n",
            "\n",
            "\n",
            "ffmpeg -i \"./../data/kinetics_videos/bungee jumping/zkXOcxGnUhs_000025_000035.mp4\" -vf scale=-1:256 \"./../data/kinetics_videos/bungee jumping/zkXOcxGnUhs_000025_000035/image_%05d.jpg\"\n",
            "\n",
            "\n",
            "ffmpeg -i \"./../data/kinetics_videos/bungee jumping/TUvSX0pYu4o_000002_000012.mp4\" -vf scale=-1:256 \"./../data/kinetics_videos/bungee jumping/TUvSX0pYu4o_000002_000012/image_%05d.jpg\"\n",
            "\n",
            "\n",
            "動画ファイルを画像ファイルに変換しました。\n"
          ]
        }
      ],
      "source": [
        "import os\n",
        "import subprocess  # ターミナルで実行するコマンドを実行できる\n",
        "\n",
        "\n",
        "# 動画が保存されたフォルダ「kinetics_videos」にある、クラスの種類とパスを取得\n",
        "dir_path = './../data/kinetics_videos'\n",
        "class_list = os.listdir(path=dir_path)\n",
        "print(class_list)\n",
        "\n",
        "# 各クラスの動画ファイルを画像ファイルに変換する\n",
        "for class_list_i in (class_list):  # クラスごとのループ\n",
        "\n",
        "    # クラスのフォルダへのパスを取得\n",
        "    class_path = os.path.join(dir_path, class_list_i)\n",
        "\n",
        "    # 各クラスのフォルダ内の動画ファイルをひとつずつ処理するループ\n",
        "    for file_name in os.listdir(class_path):\n",
        "\n",
        "        # ファイル名と拡張子に分割\n",
        "        name, ext = os.path.splitext(file_name)\n",
        "\n",
        "        # mp4ファイルでない、フォルダなどは処理しない\n",
        "        if ext != '.mp4':\n",
        "            continue\n",
        "\n",
        "        # 動画ファイルを画像に分割して保存するフォルダ名を取得\n",
        "        dst_directory_path = os.path.join(class_path, name)\n",
        "\n",
        "        # 上記の画像保存フォルダがなければ作成\n",
        "        if not os.path.exists(dst_directory_path):\n",
        "            os.mkdir(dst_directory_path)\n",
        "\n",
        "        # 動画ファイルへのパスを取得\n",
        "        video_file_path = os.path.join(class_path, file_name)\n",
        "\n",
        "        # ffmpegを実行させ、動画ファイルをjpgにする （高さは256ピクセルで幅はアスペクト比を変えない）\n",
        "        # kineticsの動画の場合10秒になっており、大体300ファイルになる（30 frames /sec）\n",
        "        cmd = 'ffmpeg -i \\\"{}\\\" -vf scale=-1:256 \\\"{}/image_%05d.jpg\\\"'.format(\n",
        "            video_file_path, dst_directory_path)\n",
        "        print(cmd)\n",
        "        subprocess.call(cmd, shell=True)\n",
        "        print('\\n')\n",
        "\n",
        "print(\"動画ファイルを画像ファイルに変換しました。\")\n"
      ]
    },
    {
      "cell_type": "code",
      "source": [
        "!ffmpeg -i \"./../data/kinetics_videos/arm wrestling/5JzkrOVhPOw_000027_000037.mp4\" -vf scale=-1:256 \"./../data/kinetics_videos/arm wrestling/5JzkrOVhPOw_000027_000037/image_%05d.jpg\""
      ],
      "metadata": {
        "colab": {
          "base_uri": "https://localhost:8080/"
        },
        "id": "x44OtZEa3wIy",
        "outputId": "230fe2a0-008e-4d11-d4a8-2392c218348c"
      },
      "execution_count": 5,
      "outputs": [
        {
          "output_type": "stream",
          "name": "stdout",
          "text": [
            "ffmpeg version 3.4.8-0ubuntu0.2 Copyright (c) 2000-2020 the FFmpeg developers\n",
            "  built with gcc 7 (Ubuntu 7.5.0-3ubuntu1~18.04)\n",
            "  configuration: --prefix=/usr --extra-version=0ubuntu0.2 --toolchain=hardened --libdir=/usr/lib/x86_64-linux-gnu --incdir=/usr/include/x86_64-linux-gnu --enable-gpl --disable-stripping --enable-avresample --enable-avisynth --enable-gnutls --enable-ladspa --enable-libass --enable-libbluray --enable-libbs2b --enable-libcaca --enable-libcdio --enable-libflite --enable-libfontconfig --enable-libfreetype --enable-libfribidi --enable-libgme --enable-libgsm --enable-libmp3lame --enable-libmysofa --enable-libopenjpeg --enable-libopenmpt --enable-libopus --enable-libpulse --enable-librubberband --enable-librsvg --enable-libshine --enable-libsnappy --enable-libsoxr --enable-libspeex --enable-libssh --enable-libtheora --enable-libtwolame --enable-libvorbis --enable-libvpx --enable-libwavpack --enable-libwebp --enable-libx265 --enable-libxml2 --enable-libxvid --enable-libzmq --enable-libzvbi --enable-omx --enable-openal --enable-opengl --enable-sdl2 --enable-libdc1394 --enable-libdrm --enable-libiec61883 --enable-chromaprint --enable-frei0r --enable-libopencv --enable-libx264 --enable-shared\n",
            "  libavutil      55. 78.100 / 55. 78.100\n",
            "  libavcodec     57.107.100 / 57.107.100\n",
            "  libavformat    57. 83.100 / 57. 83.100\n",
            "  libavdevice    57. 10.100 / 57. 10.100\n",
            "  libavfilter     6.107.100 /  6.107.100\n",
            "  libavresample   3.  7.  0 /  3.  7.  0\n",
            "  libswscale      4.  8.100 /  4.  8.100\n",
            "  libswresample   2.  9.100 /  2.  9.100\n",
            "  libpostproc    54.  7.100 / 54.  7.100\n",
            "Input #0, mov,mp4,m4a,3gp,3g2,mj2, from './../data/kinetics_videos/arm wrestling/5JzkrOVhPOw_000027_000037.mp4':\n",
            "  Metadata:\n",
            "    major_brand     : isom\n",
            "    minor_version   : 512\n",
            "    compatible_brands: isomiso2avc1mp41\n",
            "    encoder         : Lavf57.83.100\n",
            "  Duration: 00:00:10.01, start: 0.000000, bitrate: 1842 kb/s\n",
            "    Stream #0:0(und): Video: h264 (High) (avc1 / 0x31637661), yuv420p, 1280x720, 1740 kb/s, 30 fps, 30 tbr, 15360 tbn, 60 tbc (default)\n",
            "    Metadata:\n",
            "      handler_name    : VideoHandler\n",
            "    Stream #0:1(und): Audio: aac (LC) (mp4a / 0x6134706D), 44100 Hz, mono, fltp, 93 kb/s (default)\n",
            "    Metadata:\n",
            "      handler_name    : SoundHandler\n",
            "Stream mapping:\n",
            "  Stream #0:0 -> #0:0 (h264 (native) -> mjpeg (native))\n",
            "Press [q] to stop, [?] for help\n",
            "\u001b[1;34m[swscaler @ 0x55a6c73d2000] \u001b[0m\u001b[0;33mdeprecated pixel format used, make sure you did set range correctly\n",
            "\u001b[0mOutput #0, image2, to './../data/kinetics_videos/arm wrestling/5JzkrOVhPOw_000027_000037/image_%05d.jpg':\n",
            "  Metadata:\n",
            "    major_brand     : isom\n",
            "    minor_version   : 512\n",
            "    compatible_brands: isomiso2avc1mp41\n",
            "    encoder         : Lavf57.83.100\n",
            "    Stream #0:0(und): Video: mjpeg, yuvj420p(pc), 455x256, q=2-31, 200 kb/s, 30 fps, 30 tbn, 30 tbc (default)\n",
            "    Metadata:\n",
            "      handler_name    : VideoHandler\n",
            "      encoder         : Lavc57.107.100 mjpeg\n",
            "    Side data:\n",
            "      cpb: bitrate max/min/avg: 0/0/200000 buffer size: 0 vbv_delay: -1\n",
            "frame=  300 fps= 70 q=24.8 Lsize=N/A time=00:00:10.00 bitrate=N/A speed=2.35x    \n",
            "video:1118kB audio:0kB subtitle:0kB other streams:0kB global headers:0kB muxing overhead: unknown\n"
          ]
        }
      ]
    },
    {
      "cell_type": "code",
      "source": [
        "!ffmpeg -i \"./../data/kinetics_videos/arm wrestling/ehLnj7pXnYE_000027_000037.mp4\" -vf scale=-1:256 \"./../data/kinetics_videos/arm wrestling/ehLnj7pXnYE_000027_000037/image_%05d.jpg\""
      ],
      "metadata": {
        "colab": {
          "base_uri": "https://localhost:8080/"
        },
        "id": "0S7VEN22FsEc",
        "outputId": "94942fba-112b-47ab-a46b-8c5bbf0f73d2"
      },
      "execution_count": 6,
      "outputs": [
        {
          "output_type": "stream",
          "name": "stdout",
          "text": [
            "ffmpeg version 3.4.8-0ubuntu0.2 Copyright (c) 2000-2020 the FFmpeg developers\n",
            "  built with gcc 7 (Ubuntu 7.5.0-3ubuntu1~18.04)\n",
            "  configuration: --prefix=/usr --extra-version=0ubuntu0.2 --toolchain=hardened --libdir=/usr/lib/x86_64-linux-gnu --incdir=/usr/include/x86_64-linux-gnu --enable-gpl --disable-stripping --enable-avresample --enable-avisynth --enable-gnutls --enable-ladspa --enable-libass --enable-libbluray --enable-libbs2b --enable-libcaca --enable-libcdio --enable-libflite --enable-libfontconfig --enable-libfreetype --enable-libfribidi --enable-libgme --enable-libgsm --enable-libmp3lame --enable-libmysofa --enable-libopenjpeg --enable-libopenmpt --enable-libopus --enable-libpulse --enable-librubberband --enable-librsvg --enable-libshine --enable-libsnappy --enable-libsoxr --enable-libspeex --enable-libssh --enable-libtheora --enable-libtwolame --enable-libvorbis --enable-libvpx --enable-libwavpack --enable-libwebp --enable-libx265 --enable-libxml2 --enable-libxvid --enable-libzmq --enable-libzvbi --enable-omx --enable-openal --enable-opengl --enable-sdl2 --enable-libdc1394 --enable-libdrm --enable-libiec61883 --enable-chromaprint --enable-frei0r --enable-libopencv --enable-libx264 --enable-shared\n",
            "  libavutil      55. 78.100 / 55. 78.100\n",
            "  libavcodec     57.107.100 / 57.107.100\n",
            "  libavformat    57. 83.100 / 57. 83.100\n",
            "  libavdevice    57. 10.100 / 57. 10.100\n",
            "  libavfilter     6.107.100 /  6.107.100\n",
            "  libavresample   3.  7.  0 /  3.  7.  0\n",
            "  libswscale      4.  8.100 /  4.  8.100\n",
            "  libswresample   2.  9.100 /  2.  9.100\n",
            "  libpostproc    54.  7.100 / 54.  7.100\n",
            "Input #0, mov,mp4,m4a,3gp,3g2,mj2, from './../data/kinetics_videos/arm wrestling/ehLnj7pXnYE_000027_000037.mp4':\n",
            "  Metadata:\n",
            "    major_brand     : isom\n",
            "    minor_version   : 512\n",
            "    compatible_brands: isomiso2avc1mp41\n",
            "    encoder         : Lavf57.83.100\n",
            "  Duration: 00:00:10.01, start: 0.000000, bitrate: 647 kb/s\n",
            "    Stream #0:0(und): Video: h264 (High) (avc1 / 0x31637661), yuv420p, 640x360, 542 kb/s, 29.97 fps, 29.97 tbr, 30k tbn, 59.94 tbc (default)\n",
            "    Metadata:\n",
            "      handler_name    : VideoHandler\n",
            "    Stream #0:1(und): Audio: aac (LC) (mp4a / 0x6134706D), 44100 Hz, stereo, fltp, 96 kb/s (default)\n",
            "    Metadata:\n",
            "      handler_name    : SoundHandler\n",
            "Stream mapping:\n",
            "  Stream #0:0 -> #0:0 (h264 (native) -> mjpeg (native))\n",
            "Press [q] to stop, [?] for help\n",
            "\u001b[1;34m[swscaler @ 0x556693de4000] \u001b[0m\u001b[0;33mdeprecated pixel format used, make sure you did set range correctly\n",
            "\u001b[0mOutput #0, image2, to './../data/kinetics_videos/arm wrestling/ehLnj7pXnYE_000027_000037/image_%05d.jpg':\n",
            "  Metadata:\n",
            "    major_brand     : isom\n",
            "    minor_version   : 512\n",
            "    compatible_brands: isomiso2avc1mp41\n",
            "    encoder         : Lavf57.83.100\n",
            "    Stream #0:0(und): Video: mjpeg, yuvj420p(pc), 455x256, q=2-31, 200 kb/s, 29.97 fps, 29.97 tbn, 29.97 tbc (default)\n",
            "    Metadata:\n",
            "      handler_name    : VideoHandler\n",
            "      encoder         : Lavc57.107.100 mjpeg\n",
            "    Side data:\n",
            "      cpb: bitrate max/min/avg: 0/0/200000 buffer size: 0 vbv_delay: -1\n",
            "frame=  300 fps=108 q=24.8 Lsize=N/A time=00:00:10.01 bitrate=N/A speed=3.59x    \n",
            "video:1626kB audio:0kB subtitle:0kB other streams:0kB global headers:0kB muxing overhead: unknown\n"
          ]
        }
      ]
    },
    {
      "cell_type": "markdown",
      "metadata": {
        "id": "XYO6EYjqxz4p"
      },
      "source": [
        "以上"
      ]
    }
  ],
  "metadata": {
    "kernelspec": {
      "display_name": "Python 3",
      "language": "python",
      "name": "python3"
    },
    "language_info": {
      "codemirror_mode": {
        "name": "ipython",
        "version": 3
      },
      "file_extension": ".py",
      "mimetype": "text/x-python",
      "name": "python",
      "nbconvert_exporter": "python",
      "pygments_lexer": "ipython3",
      "version": "3.6.5"
    },
    "colab": {
      "name": "9-4_2_convert_mp4_to_jpeg.ipynb",
      "provenance": [],
      "include_colab_link": true
    }
  },
  "nbformat": 4,
  "nbformat_minor": 0
}